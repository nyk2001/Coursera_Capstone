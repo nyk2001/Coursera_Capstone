{
 "cells": [
  {
   "cell_type": "code",
   "execution_count": 1,
   "metadata": {
    "collapsed": true
   },
   "outputs": [],
   "source": [
    "# Extracting information from html web page (table)\n",
    "import requests\n",
    "from bs4 import BeautifulSoup\n",
    "\n",
    "webPageLink= \"https://en.wikipedia.org/wiki/List_of_Melbourne_suburbs\"\n",
    "responseObject = requests.get(webPageLink).text\n",
    "soup = BeautifulSoup(responseObject, 'lxml')\n",
    "suburbTable =soup.find('table',{'class':'wikitable sortable'})"
   ]
  },
  {
   "cell_type": "code",
   "execution_count": 3,
   "metadata": {
    "collapsed": true
   },
   "outputs": [],
   "source": [
    "# Read suburb postal code and names\n",
    "rowData = soup.find_all(\"tr\")\n",
    "\n",
    "suburbInformation=[]\n",
    "for item in rowData:\n",
    "    try:\n",
    "            \n",
    "        #Ignoring the headers\n",
    "        if item.find(\"th\"):\n",
    "            continue\n",
    "        \n",
    "        tags= item.findAll('td')\n",
    "        suburbName = tags[0].text\n",
    "        postalCode = tags[1].text\n",
    "        suburbInformation.append([suburbName, postalCode])\n",
    "    except Exception as e:\n",
    "        continue\n",
    "    "
   ]
  },
  {
   "cell_type": "code",
   "execution_count": 5,
   "metadata": {},
   "outputs": [
    {
     "data": {
      "text/html": [
       "<div>\n",
       "<style>\n",
       "    .dataframe thead tr:only-child th {\n",
       "        text-align: right;\n",
       "    }\n",
       "\n",
       "    .dataframe thead th {\n",
       "        text-align: left;\n",
       "    }\n",
       "\n",
       "    .dataframe tbody tr th {\n",
       "        vertical-align: top;\n",
       "    }\n",
       "</style>\n",
       "<table border=\"1\" class=\"dataframe\">\n",
       "  <thead>\n",
       "    <tr style=\"text-align: right;\">\n",
       "      <th></th>\n",
       "      <th>SuburbName</th>\n",
       "      <th>PostalCode</th>\n",
       "      <th>Latitude</th>\n",
       "      <th>Longitude</th>\n",
       "    </tr>\n",
       "  </thead>\n",
       "  <tbody>\n",
       "    <tr>\n",
       "      <th>0</th>\n",
       "      <td>Bellfield</td>\n",
       "      <td>3081</td>\n",
       "      <td>NaN</td>\n",
       "      <td>NaN</td>\n",
       "    </tr>\n",
       "    <tr>\n",
       "      <th>1</th>\n",
       "      <td>Briar Hill</td>\n",
       "      <td>3088</td>\n",
       "      <td>NaN</td>\n",
       "      <td>NaN</td>\n",
       "    </tr>\n",
       "    <tr>\n",
       "      <th>2</th>\n",
       "      <td>Bundoora</td>\n",
       "      <td>3083</td>\n",
       "      <td>NaN</td>\n",
       "      <td>NaN</td>\n",
       "    </tr>\n",
       "    <tr>\n",
       "      <th>3</th>\n",
       "      <td>Eaglemont</td>\n",
       "      <td>3084</td>\n",
       "      <td>NaN</td>\n",
       "      <td>NaN</td>\n",
       "    </tr>\n",
       "    <tr>\n",
       "      <th>4</th>\n",
       "      <td>Eltham</td>\n",
       "      <td>3095</td>\n",
       "      <td>NaN</td>\n",
       "      <td>NaN</td>\n",
       "    </tr>\n",
       "  </tbody>\n",
       "</table>\n",
       "</div>"
      ],
      "text/plain": [
       "   SuburbName PostalCode  Latitude  Longitude\n",
       "0   Bellfield       3081       NaN        NaN\n",
       "1  Briar Hill       3088       NaN        NaN\n",
       "2    Bundoora       3083       NaN        NaN\n",
       "3   Eaglemont       3084       NaN        NaN\n",
       "4      Eltham       3095       NaN        NaN"
      ]
     },
     "execution_count": 5,
     "metadata": {},
     "output_type": "execute_result"
    }
   ],
   "source": [
    "import pandas as pd\n",
    "import numpy as np\n",
    "suburbMelbourneDf = pd.DataFrame(suburbInformation, columns=['SuburbName',\"PostalCode\"])\n",
    "suburbMelbourneDf[\"Latitude\"] =  np.nan\n",
    "suburbMelbourneDf[\"Longitude\"] =  np.nan\n",
    "\n",
    "suburbMelbourneDf.head()\n"
   ]
  },
  {
   "cell_type": "code",
   "execution_count": 44,
   "metadata": {},
   "outputs": [
    {
     "data": {
      "text/html": [
       "<div>\n",
       "<style>\n",
       "    .dataframe thead tr:only-child th {\n",
       "        text-align: right;\n",
       "    }\n",
       "\n",
       "    .dataframe thead th {\n",
       "        text-align: left;\n",
       "    }\n",
       "\n",
       "    .dataframe tbody tr th {\n",
       "        vertical-align: top;\n",
       "    }\n",
       "</style>\n",
       "<table border=\"1\" class=\"dataframe\">\n",
       "  <thead>\n",
       "    <tr style=\"text-align: right;\">\n",
       "      <th></th>\n",
       "      <th>SuburbName</th>\n",
       "      <th>PostalCode</th>\n",
       "      <th>Latitude</th>\n",
       "      <th>Longitude</th>\n",
       "    </tr>\n",
       "  </thead>\n",
       "  <tbody>\n",
       "    <tr>\n",
       "      <th>0</th>\n",
       "      <td>Bellfield</td>\n",
       "      <td>3081</td>\n",
       "      <td>-37.753107</td>\n",
       "      <td>145.038478</td>\n",
       "    </tr>\n",
       "    <tr>\n",
       "      <th>1</th>\n",
       "      <td>Briar Hill</td>\n",
       "      <td>3088</td>\n",
       "      <td>-37.706370</td>\n",
       "      <td>145.121648</td>\n",
       "    </tr>\n",
       "    <tr>\n",
       "      <th>2</th>\n",
       "      <td>Bundoora</td>\n",
       "      <td>3083</td>\n",
       "      <td>-37.698247</td>\n",
       "      <td>145.059676</td>\n",
       "    </tr>\n",
       "    <tr>\n",
       "      <th>3</th>\n",
       "      <td>Eaglemont</td>\n",
       "      <td>3084</td>\n",
       "      <td>-37.765144</td>\n",
       "      <td>145.063331</td>\n",
       "    </tr>\n",
       "    <tr>\n",
       "      <th>4</th>\n",
       "      <td>Eltham</td>\n",
       "      <td>3095</td>\n",
       "      <td>-37.713387</td>\n",
       "      <td>145.147880</td>\n",
       "    </tr>\n",
       "  </tbody>\n",
       "</table>\n",
       "</div>"
      ],
      "text/plain": [
       "   SuburbName PostalCode   Latitude   Longitude\n",
       "0   Bellfield       3081 -37.753107  145.038478\n",
       "1  Briar Hill       3088 -37.706370  145.121648\n",
       "2    Bundoora       3083 -37.698247  145.059676\n",
       "3   Eaglemont       3084 -37.765144  145.063331\n",
       "4      Eltham       3095 -37.713387  145.147880"
      ]
     },
     "execution_count": 44,
     "metadata": {},
     "output_type": "execute_result"
    }
   ],
   "source": [
    "from  geopy.geocoders import Nominatim\n",
    "import numpy as np \n",
    "import math \n",
    "\n",
    "\n",
    "geolocator = Nominatim(user_agent=\"explorer\")\n",
    "\n",
    "i=0\n",
    "for value, postal_code in zip(suburbMelbourneDf[\"SuburbName\"],suburbMelbourneDf[\"PostalCode\"]):\n",
    "    suburbName = value\n",
    "    city =\"%s,Victoria\"%suburbName\n",
    "    country =\"Australia\"\n",
    "    try:\n",
    "        if(math.isnan(suburbMelbourneDf.iloc[i, suburbMelbourneDf.columns.get_loc('Latitude')])):\n",
    "            loc = geolocator.geocode(city+','+ postal_code+','+country, timeout=100)\n",
    "            print(\"Suburb %s , Latitude =%0.2f , Longitude = %0.2f\"%(suburbName,loc.latitude,loc.longitude))\n",
    "  \n",
    "            suburbMelbourneDf.iloc[i, suburbMelbourneDf.columns.get_loc('Latitude')]=loc.latitude\n",
    "            suburbMelbourneDf.iloc[i, suburbMelbourneDf.columns.get_loc('Longitude')]=loc.longitude\n",
    "        i+=1\n",
    "        if i>10:\n",
    "            break\n",
    "    except Exception as e:\n",
    "        print(str(e))\n",
    "suburbMelbourneDf.head()"
   ]
  },
  {
   "cell_type": "code",
   "execution_count": null,
   "metadata": {
    "collapsed": true
   },
   "outputs": [],
   "source": [
    "\n",
    "#print(suburbMelbourneDf.isnull().sum())\n",
    "#suburbMelbourneDf.to_excel(\"melb_suburbs.xlsx\", index= False)\n"
   ]
  },
  {
   "cell_type": "code",
   "execution_count": null,
   "metadata": {
    "collapsed": true
   },
   "outputs": [],
   "source": [
    "geolocator = Nominatim(user_agent=\"explorer\")\n",
    "loc = geolocator.geocode('Melbourne City Center, Melbourne, Australia', timeout=100)\n",
    "melb_cc_latitude =loc.latitude\n",
    "melb_cc_longitude =loc.longitude\n",
    "print(melb_cc_latitude)\n",
    "print(melb_cc_longitude)"
   ]
  },
  {
   "cell_type": "code",
   "execution_count": null,
   "metadata": {
    "collapsed": true
   },
   "outputs": [],
   "source": [
    "suburbMelbourneDf[\"DistCityCenter\"] =  np.nan\n",
    "index=0\n",
    "for eachLatitude, eachLongitude in zip(suburbMelbourneDf[\"Latitude\"],suburbMelbourneDf[\"Longitude\"]):\n",
    "    distance = haversine(eachLatitude,eachLongitude,melb_cc_latitude,melb_cc_longitude)\n",
    "    suburbMelbourneDf.iloc[index, suburbMelbourneDf.columns.get_loc('DistCityCenter')]=distance\n",
    "    index+=1\n",
    "suburbMelbourneDf.head()"
   ]
  },
  {
   "cell_type": "code",
   "execution_count": null,
   "metadata": {
    "collapsed": true
   },
   "outputs": [],
   "source": [
    "# We can use Haversine Formula to calculate the distance using latidues and longitudes\n",
    "from math import radians, cos, sin, asin, sqrt\n",
    "def haversine(lat1, lon1, lat2, lon2):\n",
    "    R = 6372.8 # this is in miles.  For Earth radius in kilometers use 6372.8 km\n",
    "    \n",
    "    dLat = radians(lat2 - lat1)\n",
    "    dLon = radians(lon2 - lon1)\n",
    "    lat1 = radians(lat1)\n",
    "    lat2 = radians(lat2)\n",
    "\n",
    "    a = sin(dLat/2)**2 + cos(lat1)*cos(lat2)*sin(dLon/2)**2\n",
    "    c = 2*asin(sqrt(a))\n",
    "\n",
    "    return (R * c)\n",
    "\n",
    "print(haversine(-37.753107,145.038478,-37.8275581 ,144.979857223109))"
   ]
  },
  {
   "cell_type": "code",
   "execution_count": 7,
   "metadata": {},
   "outputs": [
    {
     "name": "stdout",
     "output_type": "stream",
     "text": [
      "Resturant .... OK!\n"
     ]
    }
   ],
   "source": [
    "search_query = 'Resturant'\n",
    "radius = 500\n",
    "print(search_query + ' .... OK!')"
   ]
  },
  {
   "cell_type": "code",
   "execution_count": 3,
   "metadata": {
    "collapsed": true
   },
   "outputs": [],
   "source": [
    "CLIENT_ID = 'QUC1AD5AAIO4Y5Q54CBZQWVBQKLNLG1N5GLKMOH2SV4VKMPC' # your Foursquare ID\n",
    "CLIENT_SECRET = 'AJWL0IN0XSFF440CYNK2CCQF1ZKLDDA15OUAHZ5VVOKB4XPD' # your Foursquare Secret\n",
    "VERSION = '20190815'\n",
    "LIMIT = 30"
   ]
  },
  {
   "cell_type": "code",
   "execution_count": 4,
   "metadata": {},
   "outputs": [
    {
     "name": "stdout",
     "output_type": "stream",
     "text": [
      "Park .... OK!\n"
     ]
    }
   ],
   "source": [
    "Latitude =-37.75\n",
    "Longitude = 145.04\n",
    "\n",
    "search_query = 'Park'\n",
    "radius = 50000\n",
    "print(search_query + ' .... OK!')"
   ]
  },
  {
   "cell_type": "code",
   "execution_count": 6,
   "metadata": {
    "collapsed": true
   },
   "outputs": [],
   "source": [
    "url = 'https://api.foursquare.com/v2/venues/search?client_id={}&client_secret={}&ll={},{}&v={}&query={}&radius={}&limit={}'.format(CLIENT_ID, CLIENT_SECRET, Latitude, Longitude, VERSION, search_query, radius, LIMIT)\n",
    "\n",
    "results = requests.get(url).json()\n"
   ]
  },
  {
   "cell_type": "code",
   "execution_count": 7,
   "metadata": {},
   "outputs": [
    {
     "name": "stdout",
     "output_type": "stream",
     "text": [
      "Olympic Park\n",
      "Princes Park\n",
      "Park Hyatt Melbourne\n",
      "Bundoora Park\n",
      "Fawkner Park\n",
      "Pullman Melbourne on the Park\n",
      "Car Park 2A (CP2A)\n",
      "Staff Car Park\n",
      "Ford Park\n",
      "Batman Park\n"
     ]
    }
   ],
   "source": [
    "a = len(results[\"response\"]['venues'])\n",
    "\n",
    "for i in range(0,10):\n",
    "    print(results[\"response\"]['venues'][i]['name'])"
   ]
  },
  {
   "cell_type": "code",
   "execution_count": 1,
   "metadata": {},
   "outputs": [
    {
     "name": "stdout",
     "output_type": "stream",
     "text": [
      "School .... OK!\n"
     ]
    }
   ],
   "source": [
    "search_query = 'School'\n",
    "radius = 50000\n",
    "print(search_query + ' .... OK!')"
   ]
  },
  {
   "cell_type": "code",
   "execution_count": 2,
   "metadata": {},
   "outputs": [
    {
     "ename": "NameError",
     "evalue": "name 'CLIENT_ID' is not defined",
     "output_type": "error",
     "traceback": [
      "\u001b[1;31m---------------------------------------------------------------------------\u001b[0m",
      "\u001b[1;31mNameError\u001b[0m                                 Traceback (most recent call last)",
      "\u001b[1;32m<ipython-input-2-d6fee2a4cd37>\u001b[0m in \u001b[0;36m<module>\u001b[1;34m()\u001b[0m\n\u001b[1;32m----> 1\u001b[1;33m \u001b[0murl\u001b[0m \u001b[1;33m=\u001b[0m \u001b[1;34m'https://api.foursquare.com/v2/venues/search?client_id={}&client_secret={}&ll={},{}&v={}&query={}&radius={}&limit={}'\u001b[0m\u001b[1;33m.\u001b[0m\u001b[0mformat\u001b[0m\u001b[1;33m(\u001b[0m\u001b[0mCLIENT_ID\u001b[0m\u001b[1;33m,\u001b[0m \u001b[0mCLIENT_SECRET\u001b[0m\u001b[1;33m,\u001b[0m \u001b[0mLatitude\u001b[0m\u001b[1;33m,\u001b[0m \u001b[0mLongitude\u001b[0m\u001b[1;33m,\u001b[0m \u001b[0mVERSION\u001b[0m\u001b[1;33m,\u001b[0m \u001b[0msearch_query\u001b[0m\u001b[1;33m,\u001b[0m \u001b[0mradius\u001b[0m\u001b[1;33m,\u001b[0m \u001b[0mLIMIT\u001b[0m\u001b[1;33m)\u001b[0m\u001b[1;33m\u001b[0m\u001b[0m\n\u001b[0m\u001b[0;32m      2\u001b[0m \u001b[1;33m\u001b[0m\u001b[0m\n\u001b[0;32m      3\u001b[0m \u001b[0mresults\u001b[0m \u001b[1;33m=\u001b[0m \u001b[0mrequests\u001b[0m\u001b[1;33m.\u001b[0m\u001b[0mget\u001b[0m\u001b[1;33m(\u001b[0m\u001b[0murl\u001b[0m\u001b[1;33m)\u001b[0m\u001b[1;33m.\u001b[0m\u001b[0mjson\u001b[0m\u001b[1;33m(\u001b[0m\u001b[1;33m)\u001b[0m\u001b[1;33m\u001b[0m\u001b[0m\n",
      "\u001b[1;31mNameError\u001b[0m: name 'CLIENT_ID' is not defined"
     ]
    }
   ],
   "source": [
    "url = 'https://api.foursquare.com/v2/venues/search?client_id={}&client_secret={}&ll={},{}&v={}&query={}&radius={}&limit={}'.format(CLIENT_ID, CLIENT_SECRET, Latitude, Longitude, VERSION, search_query, radius, LIMIT)\n",
    "\n",
    "results = requests.get(url).json()\n"
   ]
  },
  {
   "cell_type": "code",
   "execution_count": 42,
   "metadata": {},
   "outputs": [
    {
     "name": "stdout",
     "output_type": "stream",
     "text": [
      "Ivanhoe Girls Grammar School\n",
      "Niche Dance Studios (formerly East Ivanhoe School of Dance)\n",
      "School Library - St. Pius X Primary School, Heidelberg West Vic.\n",
      "Carey Baptist Grammar School\n",
      "Trinity Grammar School Sporting Complex\n",
      "Melbourne Graduate School Of Education\n",
      "St Pius X Primary School\n",
      "Northcote High School\n",
      "Kew Traffic School\n",
      "Olympic Village Primary School\n"
     ]
    }
   ],
   "source": [
    "a = len(results[\"response\"]['venues'])\n",
    "\n",
    "for i in range(0,10):\n",
    "    print(results[\"response\"]['venues'][i]['name'])"
   ]
  },
  {
   "cell_type": "code",
   "execution_count": 13,
   "metadata": {
    "collapsed": true
   },
   "outputs": [],
   "source": [
    "url = 'https://api.foursquare.com/v2/venues/search?client_id={}&client_secret={}&ll={},{}&v={}&radius={}&limit={}'.format(CLIENT_ID, CLIENT_SECRET, Latitude, Longitude, VERSION, radius, LIMIT)\n",
    "\n",
    "results = requests.get(url).json()\n"
   ]
  },
  {
   "cell_type": "code",
   "execution_count": 16,
   "metadata": {},
   "outputs": [
    {
     "name": "stdout",
     "output_type": "stream",
     "text": [
      "30\n"
     ]
    }
   ],
   "source": [
    "print(len(results['response']['venues']))"
   ]
  },
  {
   "cell_type": "code",
   "execution_count": null,
   "metadata": {
    "collapsed": true
   },
   "outputs": [],
   "source": []
  }
 ],
 "metadata": {
  "kernelspec": {
   "display_name": "Python 3",
   "language": "python",
   "name": "python3"
  },
  "language_info": {
   "codemirror_mode": {
    "name": "ipython",
    "version": 3
   },
   "file_extension": ".py",
   "mimetype": "text/x-python",
   "name": "python",
   "nbconvert_exporter": "python",
   "pygments_lexer": "ipython3",
   "version": "3.6.3"
  }
 },
 "nbformat": 4,
 "nbformat_minor": 2
}
