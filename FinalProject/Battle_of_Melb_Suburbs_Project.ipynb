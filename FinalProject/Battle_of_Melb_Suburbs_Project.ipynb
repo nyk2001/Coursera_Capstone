{
 "cells": [
  {
   "cell_type": "markdown",
   "metadata": {},
   "source": [
    "<H1> Problem </H>"
   ]
  },
  {
   "cell_type": "markdown",
   "metadata": {},
   "source": [
    "Find a reasonable <b>(less crime rate and not too far from city center)</b> suburb to live in Melbourne\n",
    "\n",
    "<H5> Discussion </H5>\n",
    "\n",
    "Melbourne has been named the world’s most liveable city for seven years in a row [1]. In 2018, Melbourne performed best in healthcare, education and infrastructure. Melbourne not only maintained its score in stability but also gained points in culture and environment.\n",
    "\n",
    "This makes Melbourne a natural choice:\n",
    "<ul>\n",
    "  <li> For people to live, work or study </li>\n",
    "</ul>\n",
    "\n",
    "Though, Melbourne is a very big city. There are two issues:\n",
    "\n",
    "<ol>\n",
    "<li> Firstly, all neighborhoods are not safe to live in due to high crime rates</li>\n",
    "<li> Secondly, a neighborhood may be safe but it can be in a remote area. Which makes it less suitable to live </li>\n",
    "</ol>\n",
    "\n",
    "\n",
    "Someone, who is raised in Melbourne will know about it. But, that is not the case for people living in other Australian states, foreigners, or immigrants. It becomes important to find such information before renting or buying a house in a suburb of Melbourne. Because, the property agents do not always provide a complete information.  \n",
    "\n",
    "Good suburbs will likely have less crime rate. At the same time, it will be good for suburb to have at-least one of the following nearby venues: \n",
    "<ul>\n",
    "    <li> School </li>\n",
    "    <li> Park </li>\n",
    "    <li> Resturants </li>\n",
    "    <li> Train Stations </li>\n",
    "  </ul>\n",
    "\n",
    "In this project, I will find top 10 suburbs of Melbourne which\n",
    "<ol>\n",
    "<li> Have least crime rate compared to others </li>\n",
    "<li> Are not very far away from Melbourne City Center, such as within 40 KM </li>\n",
    "<li> Have quite a few venues (i.e., around 40 with in radius of 3 KM) including schools, parks or train stations. The suburb with more schools or other venues will be considered better </li>\n",
    "<li> Finally, I will cluster the venues based on categories and will highlight on the map using Folium package </li>\n",
    "</ol>\n",
    "\n",
    "<b>Please note that we are not analysing at the hosue prices in this project.</b>\n",
    "\n",
    "Refereces\n",
    "1. https://www.businessinsider.com.au/melbourne-liveable-city-vienna-2018-8?r=US&IR=T"
   ]
  },
  {
   "cell_type": "markdown",
   "metadata": {},
   "source": [
    "<H5> Target Audience </H5>\n",
    "\n",
    "This kind of project will suit to those people(especially young families), who are either \n",
    "\n",
    "\n",
    "<ul>\n",
    "    <li> Relocating to Melbourne from the other parts of Australia </li>\n",
    "    <li> or Immigrants. </li>\n",
    "</ul>\n",
    "\n",
    "The project will help them to determine a suitable neighborhood to move in. The project will give them top 10 suburbs based on various factors, such as less crime rate, and good number of near by venues (schools, parks, resturants and trains stations). We will also indicate the distance of suburb to the city center. \n",
    "\n",
    "All this information will help them to determine a reasonable suburb to settle down"
   ]
  },
  {
   "cell_type": "markdown",
   "metadata": {},
   "source": [
    "<H1> Data Preparation </H1>"
   ]
  },
  {
   "cell_type": "markdown",
   "metadata": {},
   "source": [
    "<h5>Crime Rates</h5>\n",
    "\n",
    "We want to find a city with less crime rate. So, we need the crime rate statistics for suburbs of Melbourne city.\n",
    "\n",
    "We can obtain crime rate statistics for Melbourne up to 2016 from the following link:\n",
    "\n",
    "https://en.wikipedia.org/wiki/List_of_Melbourne_suburbs\n",
    "\n",
    "I have downloaded the excel file and kept the relevant data for my work i.e., recorded offenses in each suburb for the last 5 years (2011-2016). Now, we can get the stats from the file as follows \n"
   ]
  },
  {
   "cell_type": "code",
   "execution_count": 25,
   "metadata": {},
   "outputs": [
    {
     "data": {
      "text/html": [
       "<div>\n",
       "<style>\n",
       "    .dataframe thead tr:only-child th {\n",
       "        text-align: right;\n",
       "    }\n",
       "\n",
       "    .dataframe thead th {\n",
       "        text-align: left;\n",
       "    }\n",
       "\n",
       "    .dataframe tbody tr th {\n",
       "        vertical-align: top;\n",
       "    }\n",
       "</style>\n",
       "<table border=\"1\" class=\"dataframe\">\n",
       "  <thead>\n",
       "    <tr style=\"text-align: right;\">\n",
       "      <th></th>\n",
       "      <th>Postcode</th>\n",
       "      <th>Apr 2011 - Mar 2012</th>\n",
       "      <th>Apr 2012 - Mar 2013</th>\n",
       "      <th>Apr 2013 - Mar 2014</th>\n",
       "      <th>Apr 2014 - Mar 2015</th>\n",
       "      <th>Apr 2015 - Mar 2016</th>\n",
       "    </tr>\n",
       "  </thead>\n",
       "  <tbody>\n",
       "    <tr>\n",
       "      <th>0</th>\n",
       "      <td>3000</td>\n",
       "      <td>21467</td>\n",
       "      <td>24164</td>\n",
       "      <td>22369</td>\n",
       "      <td>22666</td>\n",
       "      <td>22337</td>\n",
       "    </tr>\n",
       "    <tr>\n",
       "      <th>1</th>\n",
       "      <td>3002</td>\n",
       "      <td>1022</td>\n",
       "      <td>756</td>\n",
       "      <td>1029</td>\n",
       "      <td>719</td>\n",
       "      <td>852</td>\n",
       "    </tr>\n",
       "    <tr>\n",
       "      <th>2</th>\n",
       "      <td>3003</td>\n",
       "      <td>436</td>\n",
       "      <td>659</td>\n",
       "      <td>557</td>\n",
       "      <td>487</td>\n",
       "      <td>610</td>\n",
       "    </tr>\n",
       "    <tr>\n",
       "      <th>3</th>\n",
       "      <td>3006</td>\n",
       "      <td>2070</td>\n",
       "      <td>2100</td>\n",
       "      <td>2262</td>\n",
       "      <td>2437</td>\n",
       "      <td>3114</td>\n",
       "    </tr>\n",
       "    <tr>\n",
       "      <th>4</th>\n",
       "      <td>3008</td>\n",
       "      <td>850</td>\n",
       "      <td>942</td>\n",
       "      <td>931</td>\n",
       "      <td>1575</td>\n",
       "      <td>1450</td>\n",
       "    </tr>\n",
       "  </tbody>\n",
       "</table>\n",
       "</div>"
      ],
      "text/plain": [
       "   Postcode  Apr 2011 - Mar 2012  Apr 2012 - Mar 2013  Apr 2013 - Mar 2014  \\\n",
       "0      3000                21467                24164                22369   \n",
       "1      3002                 1022                  756                 1029   \n",
       "2      3003                  436                  659                  557   \n",
       "3      3006                 2070                 2100                 2262   \n",
       "4      3008                  850                  942                  931   \n",
       "\n",
       "   Apr 2014 - Mar 2015  Apr 2015 - Mar 2016  \n",
       "0                22666                22337  \n",
       "1                  719                  852  \n",
       "2                  487                  610  \n",
       "3                 2437                 3114  \n",
       "4                 1575                 1450  "
      ]
     },
     "execution_count": 25,
     "metadata": {},
     "output_type": "execute_result"
    }
   ],
   "source": [
    "#Extracting Crime Stats for Melbourne\n",
    "import pandas as pd\n",
    "melbourneCrimeStatsDf= pd.read_excel(\"Data\\CrimeStatsMelbourne.xlsx\")\n",
    "melbourneCrimeStatsDf.head()"
   ]
  },
  {
   "cell_type": "markdown",
   "metadata": {},
   "source": [
    "<H5> Scrapping Melbourne Suburb Table from Wikipedia </h5>"
   ]
  },
  {
   "cell_type": "code",
   "execution_count": 15,
   "metadata": {
    "collapsed": true
   },
   "outputs": [],
   "source": [
    "# Extracting information from html web page (table)\n",
    "import requests\n",
    "from bs4 import BeautifulSoup\n",
    "\n",
    "webPageLink= \"https://en.wikipedia.org/wiki/List_of_Melbourne_suburbs\"\n",
    "responseObject = requests.get(webPageLink).text\n",
    "soup = BeautifulSoup(responseObject, 'lxml')\n",
    "suburbTable =soup.find('table',{'class':'wikitable sortable'})"
   ]
  },
  {
   "cell_type": "markdown",
   "metadata": {},
   "source": [
    "I read the suburb names from the Wikipedia webpage. Then, I created a data frame to store the suburb names and the corresponding postal codes. The dataframe will look like this"
   ]
  },
  {
   "cell_type": "code",
   "execution_count": 37,
   "metadata": {},
   "outputs": [
    {
     "data": {
      "text/html": [
       "<div>\n",
       "<style>\n",
       "    .dataframe thead tr:only-child th {\n",
       "        text-align: right;\n",
       "    }\n",
       "\n",
       "    .dataframe thead th {\n",
       "        text-align: left;\n",
       "    }\n",
       "\n",
       "    .dataframe tbody tr th {\n",
       "        vertical-align: top;\n",
       "    }\n",
       "</style>\n",
       "<table border=\"1\" class=\"dataframe\">\n",
       "  <thead>\n",
       "    <tr style=\"text-align: right;\">\n",
       "      <th></th>\n",
       "      <th>Postcode</th>\n",
       "      <th>SuburbName</th>\n",
       "    </tr>\n",
       "  </thead>\n",
       "  <tbody>\n",
       "    <tr>\n",
       "      <th>0</th>\n",
       "      <td>3081</td>\n",
       "      <td>Bellfield</td>\n",
       "    </tr>\n",
       "    <tr>\n",
       "      <th>1</th>\n",
       "      <td>3088</td>\n",
       "      <td>Briar Hill</td>\n",
       "    </tr>\n",
       "    <tr>\n",
       "      <th>2</th>\n",
       "      <td>3083</td>\n",
       "      <td>Bundoora</td>\n",
       "    </tr>\n",
       "    <tr>\n",
       "      <th>3</th>\n",
       "      <td>3084</td>\n",
       "      <td>Eaglemont</td>\n",
       "    </tr>\n",
       "    <tr>\n",
       "      <th>4</th>\n",
       "      <td>3095</td>\n",
       "      <td>Eltham</td>\n",
       "    </tr>\n",
       "  </tbody>\n",
       "</table>\n",
       "</div>"
      ],
      "text/plain": [
       "   Postcode  SuburbName\n",
       "0      3081   Bellfield\n",
       "1      3088  Briar Hill\n",
       "2      3083    Bundoora\n",
       "3      3084   Eaglemont\n",
       "4      3095      Eltham"
      ]
     },
     "execution_count": 37,
     "metadata": {},
     "output_type": "execute_result"
    }
   ],
   "source": [
    "# Read suburb postal code and names\n",
    "rowData = soup.find_all(\"tr\")\n",
    "\n",
    "suburbInformation=[]\n",
    "for item in rowData:\n",
    "    try:\n",
    "            \n",
    "        #Ignoring the headers\n",
    "        if item.find(\"th\"):\n",
    "            continue\n",
    "        \n",
    "        tags= item.findAll('td')\n",
    "        suburbName = tags[0].text\n",
    "        postalCode = tags[1].text\n",
    "        suburbInformation.append([int(postalCode.strip()),suburbName ])\n",
    "    except Exception as e:\n",
    "        continue\n",
    "\n",
    "suburbMelbourneDf = pd.DataFrame(suburbInformation, columns=['Postcode','SuburbName'])\n",
    "suburbMelbourneDf.head()\n"
   ]
  },
  {
   "cell_type": "code",
   "execution_count": 140,
   "metadata": {},
   "outputs": [
    {
     "data": {
      "text/html": [
       "<div>\n",
       "<style>\n",
       "    .dataframe thead tr:only-child th {\n",
       "        text-align: right;\n",
       "    }\n",
       "\n",
       "    .dataframe thead th {\n",
       "        text-align: left;\n",
       "    }\n",
       "\n",
       "    .dataframe tbody tr th {\n",
       "        vertical-align: top;\n",
       "    }\n",
       "</style>\n",
       "<table border=\"1\" class=\"dataframe\">\n",
       "  <thead>\n",
       "    <tr style=\"text-align: right;\">\n",
       "      <th></th>\n",
       "      <th>Postcode</th>\n",
       "      <th>SuburbName</th>\n",
       "      <th>Apr 2011 - Mar 2012</th>\n",
       "      <th>Apr 2012 - Mar 2013</th>\n",
       "      <th>Apr 2013 - Mar 2014</th>\n",
       "      <th>Apr 2014 - Mar 2015</th>\n",
       "      <th>Apr 2015 - Mar 2016</th>\n",
       "    </tr>\n",
       "  </thead>\n",
       "  <tbody>\n",
       "    <tr>\n",
       "      <th>0</th>\n",
       "      <td>3081</td>\n",
       "      <td>Bellfield</td>\n",
       "      <td>1383</td>\n",
       "      <td>1637</td>\n",
       "      <td>1866</td>\n",
       "      <td>1695</td>\n",
       "      <td>2128</td>\n",
       "    </tr>\n",
       "    <tr>\n",
       "      <th>1</th>\n",
       "      <td>3081</td>\n",
       "      <td>Heidelberg Heights</td>\n",
       "      <td>1383</td>\n",
       "      <td>1637</td>\n",
       "      <td>1866</td>\n",
       "      <td>1695</td>\n",
       "      <td>2128</td>\n",
       "    </tr>\n",
       "    <tr>\n",
       "      <th>2</th>\n",
       "      <td>3081</td>\n",
       "      <td>Heidelberg West</td>\n",
       "      <td>1383</td>\n",
       "      <td>1637</td>\n",
       "      <td>1866</td>\n",
       "      <td>1695</td>\n",
       "      <td>2128</td>\n",
       "    </tr>\n",
       "    <tr>\n",
       "      <th>3</th>\n",
       "      <td>3088</td>\n",
       "      <td>Briar Hill</td>\n",
       "      <td>1371</td>\n",
       "      <td>1436</td>\n",
       "      <td>1576</td>\n",
       "      <td>1618</td>\n",
       "      <td>2449</td>\n",
       "    </tr>\n",
       "    <tr>\n",
       "      <th>4</th>\n",
       "      <td>3088</td>\n",
       "      <td>Greensborough</td>\n",
       "      <td>1371</td>\n",
       "      <td>1436</td>\n",
       "      <td>1576</td>\n",
       "      <td>1618</td>\n",
       "      <td>2449</td>\n",
       "    </tr>\n",
       "  </tbody>\n",
       "</table>\n",
       "</div>"
      ],
      "text/plain": [
       "   Postcode          SuburbName  Apr 2011 - Mar 2012  Apr 2012 - Mar 2013  \\\n",
       "0      3081           Bellfield                 1383                 1637   \n",
       "1      3081  Heidelberg Heights                 1383                 1637   \n",
       "2      3081     Heidelberg West                 1383                 1637   \n",
       "3      3088          Briar Hill                 1371                 1436   \n",
       "4      3088       Greensborough                 1371                 1436   \n",
       "\n",
       "   Apr 2013 - Mar 2014  Apr 2014 - Mar 2015  Apr 2015 - Mar 2016  \n",
       "0                 1866                 1695                 2128  \n",
       "1                 1866                 1695                 2128  \n",
       "2                 1866                 1695                 2128  \n",
       "3                 1576                 1618                 2449  \n",
       "4                 1576                 1618                 2449  "
      ]
     },
     "execution_count": 140,
     "metadata": {},
     "output_type": "execute_result"
    }
   ],
   "source": [
    "# We merge so that suburb names appear along side corresponding post codes in crimes table\n",
    "finalDf= suburbMelbourneDf.merge(melbourneCrimeStatsDf,how='inner', on=['Postcode'])\n",
    "finalDf.head()"
   ]
  },
  {
   "cell_type": "code",
   "execution_count": 141,
   "metadata": {},
   "outputs": [
    {
     "name": "stdout",
     "output_type": "stream",
     "text": [
      "No Empty Cells\n"
     ]
    }
   ],
   "source": [
    "# Delete the empty cells (if we do not find any suburb name against postal code)\n",
    "if finalDf.isnull().sum(axis=0).sum()==0:\n",
    "    print(\"No Empty Cells\")"
   ]
  },
  {
   "cell_type": "markdown",
   "metadata": {},
   "source": [
    "Now, I will compute the mean and sum of crimes for all suburbs. I just keep that information for simplicity "
   ]
  },
  {
   "cell_type": "code",
   "execution_count": 142,
   "metadata": {},
   "outputs": [
    {
     "data": {
      "text/html": [
       "<div>\n",
       "<style>\n",
       "    .dataframe thead tr:only-child th {\n",
       "        text-align: right;\n",
       "    }\n",
       "\n",
       "    .dataframe thead th {\n",
       "        text-align: left;\n",
       "    }\n",
       "\n",
       "    .dataframe tbody tr th {\n",
       "        vertical-align: top;\n",
       "    }\n",
       "</style>\n",
       "<table border=\"1\" class=\"dataframe\">\n",
       "  <thead>\n",
       "    <tr style=\"text-align: right;\">\n",
       "      <th></th>\n",
       "      <th>Postcode</th>\n",
       "      <th>SuburbName</th>\n",
       "      <th>MeanCrimes</th>\n",
       "      <th>SumCrimes</th>\n",
       "    </tr>\n",
       "  </thead>\n",
       "  <tbody>\n",
       "    <tr>\n",
       "      <th>0</th>\n",
       "      <td>3081</td>\n",
       "      <td>Bellfield</td>\n",
       "      <td>1741.8</td>\n",
       "      <td>8709</td>\n",
       "    </tr>\n",
       "    <tr>\n",
       "      <th>1</th>\n",
       "      <td>3081</td>\n",
       "      <td>Heidelberg Heights</td>\n",
       "      <td>1741.8</td>\n",
       "      <td>8709</td>\n",
       "    </tr>\n",
       "    <tr>\n",
       "      <th>2</th>\n",
       "      <td>3081</td>\n",
       "      <td>Heidelberg West</td>\n",
       "      <td>1741.8</td>\n",
       "      <td>8709</td>\n",
       "    </tr>\n",
       "    <tr>\n",
       "      <th>3</th>\n",
       "      <td>3088</td>\n",
       "      <td>Briar Hill</td>\n",
       "      <td>1690.0</td>\n",
       "      <td>8450</td>\n",
       "    </tr>\n",
       "    <tr>\n",
       "      <th>4</th>\n",
       "      <td>3088</td>\n",
       "      <td>Greensborough</td>\n",
       "      <td>1690.0</td>\n",
       "      <td>8450</td>\n",
       "    </tr>\n",
       "  </tbody>\n",
       "</table>\n",
       "</div>"
      ],
      "text/plain": [
       "   Postcode          SuburbName  MeanCrimes  SumCrimes\n",
       "0      3081           Bellfield      1741.8       8709\n",
       "1      3081  Heidelberg Heights      1741.8       8709\n",
       "2      3081     Heidelberg West      1741.8       8709\n",
       "3      3088          Briar Hill      1690.0       8450\n",
       "4      3088       Greensborough      1690.0       8450"
      ]
     },
     "execution_count": 142,
     "metadata": {},
     "output_type": "execute_result"
    }
   ],
   "source": [
    "# Finding the mean of the crimes \n",
    "finalDf['MeanCrimes'] = finalDf.iloc[:,2:7].mean(axis=1)\n",
    "finalDf['SumCrimes'] = finalDf.iloc[:,2:7].sum(axis=1)\n",
    "finalDf.drop(['Apr 2011 - Mar 2012','Apr 2012 - Mar 2013','Apr 2013 - Mar 2014',\\\n",
    "              'Apr 2014 - Mar 2015','Apr 2015 - Mar 2016'],axis=1, inplace=True)\n",
    "finalDf.reset_index(drop= True, inplace= True)\n",
    "finalDf.head()"
   ]
  },
  {
   "cell_type": "markdown",
   "metadata": {},
   "source": [
    "<b> Data Cleansing </b>\n",
    "\n",
    "We can see that quite a few suburbs have similar psot codes. So, we need to group suburb names in a row and just have one crime satistics "
   ]
  },
  {
   "cell_type": "code",
   "execution_count": 146,
   "metadata": {},
   "outputs": [
    {
     "data": {
      "text/html": [
       "<div>\n",
       "<style>\n",
       "    .dataframe thead tr:only-child th {\n",
       "        text-align: right;\n",
       "    }\n",
       "\n",
       "    .dataframe thead th {\n",
       "        text-align: left;\n",
       "    }\n",
       "\n",
       "    .dataframe tbody tr th {\n",
       "        vertical-align: top;\n",
       "    }\n",
       "</style>\n",
       "<table border=\"1\" class=\"dataframe\">\n",
       "  <thead>\n",
       "    <tr style=\"text-align: right;\">\n",
       "      <th></th>\n",
       "      <th>Postcode</th>\n",
       "      <th>SuburbName</th>\n",
       "      <th>MeanCrimes</th>\n",
       "      <th>SumCrimes</th>\n",
       "    </tr>\n",
       "  </thead>\n",
       "  <tbody>\n",
       "    <tr>\n",
       "      <th>0</th>\n",
       "      <td>3000</td>\n",
       "      <td>Melbourne CBD</td>\n",
       "      <td>22600.6</td>\n",
       "      <td>113003</td>\n",
       "    </tr>\n",
       "    <tr>\n",
       "      <th>1</th>\n",
       "      <td>3002</td>\n",
       "      <td>East Melbourne</td>\n",
       "      <td>875.6</td>\n",
       "      <td>4378</td>\n",
       "    </tr>\n",
       "    <tr>\n",
       "      <th>2</th>\n",
       "      <td>3003</td>\n",
       "      <td>West Melbourne</td>\n",
       "      <td>549.8</td>\n",
       "      <td>2749</td>\n",
       "    </tr>\n",
       "    <tr>\n",
       "      <th>3</th>\n",
       "      <td>3006</td>\n",
       "      <td>Southbank, South Wharf</td>\n",
       "      <td>2396.6</td>\n",
       "      <td>11983</td>\n",
       "    </tr>\n",
       "    <tr>\n",
       "      <th>4</th>\n",
       "      <td>3008</td>\n",
       "      <td>Docklands</td>\n",
       "      <td>1149.6</td>\n",
       "      <td>5748</td>\n",
       "    </tr>\n",
       "  </tbody>\n",
       "</table>\n",
       "</div>"
      ],
      "text/plain": [
       "   Postcode              SuburbName  MeanCrimes  SumCrimes\n",
       "0      3000           Melbourne CBD     22600.6     113003\n",
       "1      3002          East Melbourne       875.6       4378\n",
       "2      3003          West Melbourne       549.8       2749\n",
       "3      3006  Southbank, South Wharf      2396.6      11983\n",
       "4      3008               Docklands      1149.6       5748"
      ]
     },
     "execution_count": 146,
     "metadata": {},
     "output_type": "execute_result"
    }
   ],
   "source": [
    "cleanedFinalDf=finalDf.groupby(['Postcode']).agg({'SuburbName': ', '.join, 'MeanCrimes':'first','SumCrimes':'first'}).reset_index()\n",
    "cleanedFinalDf.head()"
   ]
  },
  {
   "cell_type": "markdown",
   "metadata": {
    "collapsed": true
   },
   "source": [
    "<h5> Geolocator to extract longitudes and latitudes for all suburbs </h5>"
   ]
  },
  {
   "cell_type": "markdown",
   "metadata": {},
   "source": [
    "I used the Geolocator API to extract the latitude and longitudes for all suburbs. \n",
    "- I also extracted the distance in KM (using Haversine Formula) of a suburb from the city center "
   ]
  },
  {
   "cell_type": "code",
   "execution_count": 148,
   "metadata": {},
   "outputs": [
    {
     "name": "stdout",
     "output_type": "stream",
     "text": [
      "Processed = 0\n",
      "Processed = 50\n",
      "Processed = 100\n",
      "Processed = 150\n",
      "Processed = 200\n",
      "'NoneType' object has no attribute 'latitude'\n",
      "'NoneType' object has no attribute 'latitude'\n",
      "Processed = 250\n",
      "Completed\n"
     ]
    }
   ],
   "source": [
    "# Extract location information for each suburb\n",
    "from  geopy.geocoders import Nominatim\n",
    "import numpy as np \n",
    "import math \n",
    "\n",
    "# Creating empy columns to start with\n",
    "cleanedFinalDf[\"Latitude\"] =  np.nan\n",
    "cleanedFinalDf[\"Longitude\"] =  np.nan\n",
    "\n",
    "geolocator = Nominatim(user_agent=\"explorer_melboure\")\n",
    "i=0\n",
    "# Use API to get the information\n",
    "for value, postal_code in zip(cleanedFinalDf[\"SuburbName\"],cleanedFinalDf[\"Postcode\"]): \n",
    "    if (i%50)==0:\n",
    "        print('Processed = %d'%i)\n",
    "    suburbName = value\n",
    "   \n",
    "    #city =\"%s,Victoria\"%suburbName\n",
    "    country =\"Australia\"\n",
    "    try:\n",
    "        if(math.isnan(cleanedFinalDf.iloc[i, cleanedFinalDf.columns.get_loc('Latitude')])): # If location does not exist\n",
    "            suburbs = list()\n",
    "            if suburbName.find(\",\")!=-1:\n",
    "                suburbs = suburbName.split(\",\")\n",
    "            else:\n",
    "                suburbs.append(suburbName)\n",
    "            \n",
    "            location =list()\n",
    "            # Finding the locations\n",
    "            for eachSuburb in suburbs:\n",
    "                loc = geolocator.geocode(eachSuburb +' , '+ str(postal_code)+' , '+country, timeout=100)\n",
    "                location.append([loc.latitude, loc.longitude])\n",
    "            \n",
    "            # Stroing the location in data frame\n",
    "            if len(location)==1:\n",
    "                cleanedFinalDf.iloc[i, cleanedFinalDf.columns.get_loc('Latitude')]=location[0][0]\n",
    "                cleanedFinalDf.iloc[i, cleanedFinalDf.columns.get_loc('Longitude')]=location[0][1]\n",
    "            elif len(location)>1:\n",
    "                tempDf= pd.DataFrame(location)\n",
    "                tempDf.columns=['Latitude','Longitude']\n",
    "                mean_lat, mean_long= find_mean_location(tempDf)\n",
    "                cleanedFinalDf.iloc[i, cleanedFinalDf.columns.get_loc('Latitude')]=mean_lat\n",
    "                cleanedFinalDf.iloc[i, cleanedFinalDf.columns.get_loc('Longitude')]=mean_long\n",
    "        i+=1\n",
    "    except Exception as e:\n",
    "        print(str(e))\n",
    "        \n",
    "        \n",
    "print(\"Completed\")"
   ]
  },
  {
   "cell_type": "code",
   "execution_count": 132,
   "metadata": {
    "collapsed": true
   },
   "outputs": [],
   "source": [
    "# Compute the mean latitude and longitude from mulitple locations\n",
    "import math\n",
    "\n",
    "def find_mean_location(coords_df):\n",
    "    x = 0.0\n",
    "    y = 0.0\n",
    "    z = 0.0\n",
    "\n",
    "    for i, coord in coords_df.iterrows():\n",
    "        latitude = math.radians(coord.Latitude)\n",
    "        longitude = math.radians(coord.Longitude)\n",
    "\n",
    "        x += math.cos(latitude) * math.cos(longitude)\n",
    "        y += math.cos(latitude) * math.sin(longitude)\n",
    "        z += math.sin(latitude)\n",
    "\n",
    "    total = len(coords_df)\n",
    "\n",
    "    x = x / total\n",
    "    y = y / total\n",
    "    z = z / total\n",
    "\n",
    "    central_longitude = math.atan2(y, x)\n",
    "    central_square_root = math.sqrt(x * x + y * y)\n",
    "    central_latitude = math.atan2(z, central_square_root)\n",
    "    \n",
    "    return math.degrees(central_latitude),math.degrees(central_longitude)\n",
    "\n"
   ]
  },
  {
   "cell_type": "markdown",
   "metadata": {},
   "source": [
    "Checking if there any null values i.e., latitude and longitudes cannot be found.\n",
    "If yes then drop those rows. Finalise the data frame and save it as a csv file"
   ]
  },
  {
   "cell_type": "code",
   "execution_count": 151,
   "metadata": {},
   "outputs": [
    {
     "name": "stdout",
     "output_type": "stream",
     "text": [
      "Postcode      0\n",
      "SuburbName    0\n",
      "MeanCrimes    0\n",
      "SumCrimes     0\n",
      "Latitude      0\n",
      "Longitude     0\n",
      "dtype: int64\n"
     ]
    }
   ],
   "source": [
    "# Any missing values dropped (can happen if suburb name is old or incorrect)\n",
    "# and, we cannot get the latitude and longitude values\n",
    "if cleanedFinalDf.isnull().sum().sum()!=0:\n",
    "    print('Dropping empty rows')\n",
    "    cleanedFinalDf.dropna(inplace= True)\n",
    "print(cleanedFinalDf.isnull().sum())\n",
    "\n",
    "# saving pandas frame to a csv file\n",
    "cleanedFinalDf.to_csv(\"Data\\melb_suburbs_locations.csv\", index= False)\n"
   ]
  },
  {
   "cell_type": "code",
   "execution_count": 152,
   "metadata": {},
   "outputs": [
    {
     "data": {
      "text/plain": [
       "(272, 6)"
      ]
     },
     "execution_count": 152,
     "metadata": {},
     "output_type": "execute_result"
    }
   ],
   "source": [
    "cleanedFinalDf.shape"
   ]
  },
  {
   "cell_type": "code",
   "execution_count": 153,
   "metadata": {},
   "outputs": [
    {
     "data": {
      "text/html": [
       "<div>\n",
       "<style>\n",
       "    .dataframe thead tr:only-child th {\n",
       "        text-align: right;\n",
       "    }\n",
       "\n",
       "    .dataframe thead th {\n",
       "        text-align: left;\n",
       "    }\n",
       "\n",
       "    .dataframe tbody tr th {\n",
       "        vertical-align: top;\n",
       "    }\n",
       "</style>\n",
       "<table border=\"1\" class=\"dataframe\">\n",
       "  <thead>\n",
       "    <tr style=\"text-align: right;\">\n",
       "      <th></th>\n",
       "      <th>Postcode</th>\n",
       "      <th>SuburbName</th>\n",
       "      <th>MeanCrimes</th>\n",
       "      <th>SumCrimes</th>\n",
       "      <th>Latitude</th>\n",
       "      <th>Longitude</th>\n",
       "    </tr>\n",
       "  </thead>\n",
       "  <tbody>\n",
       "    <tr>\n",
       "      <th>0</th>\n",
       "      <td>3000</td>\n",
       "      <td>Melbourne CBD</td>\n",
       "      <td>22600.6</td>\n",
       "      <td>113003</td>\n",
       "      <td>-37.814182</td>\n",
       "      <td>144.959801</td>\n",
       "    </tr>\n",
       "    <tr>\n",
       "      <th>1</th>\n",
       "      <td>3002</td>\n",
       "      <td>East Melbourne</td>\n",
       "      <td>875.6</td>\n",
       "      <td>4378</td>\n",
       "      <td>-37.812498</td>\n",
       "      <td>144.985885</td>\n",
       "    </tr>\n",
       "    <tr>\n",
       "      <th>2</th>\n",
       "      <td>3003</td>\n",
       "      <td>West Melbourne</td>\n",
       "      <td>549.8</td>\n",
       "      <td>2749</td>\n",
       "      <td>-37.810448</td>\n",
       "      <td>144.920430</td>\n",
       "    </tr>\n",
       "    <tr>\n",
       "      <th>3</th>\n",
       "      <td>3006</td>\n",
       "      <td>Southbank, South Wharf</td>\n",
       "      <td>2396.6</td>\n",
       "      <td>11983</td>\n",
       "      <td>-37.825345</td>\n",
       "      <td>144.956682</td>\n",
       "    </tr>\n",
       "    <tr>\n",
       "      <th>4</th>\n",
       "      <td>3008</td>\n",
       "      <td>Docklands</td>\n",
       "      <td>1149.6</td>\n",
       "      <td>5748</td>\n",
       "      <td>-37.817542</td>\n",
       "      <td>144.939492</td>\n",
       "    </tr>\n",
       "  </tbody>\n",
       "</table>\n",
       "</div>"
      ],
      "text/plain": [
       "   Postcode              SuburbName  MeanCrimes  SumCrimes   Latitude  \\\n",
       "0      3000           Melbourne CBD     22600.6     113003 -37.814182   \n",
       "1      3002          East Melbourne       875.6       4378 -37.812498   \n",
       "2      3003          West Melbourne       549.8       2749 -37.810448   \n",
       "3      3006  Southbank, South Wharf      2396.6      11983 -37.825345   \n",
       "4      3008               Docklands      1149.6       5748 -37.817542   \n",
       "\n",
       "    Longitude  \n",
       "0  144.959801  \n",
       "1  144.985885  \n",
       "2  144.920430  \n",
       "3  144.956682  \n",
       "4  144.939492  "
      ]
     },
     "execution_count": 153,
     "metadata": {},
     "output_type": "execute_result"
    }
   ],
   "source": [
    "cleanedFinalDf.head()"
   ]
  },
  {
   "cell_type": "markdown",
   "metadata": {},
   "source": [
    "<b>Extracting the distance of each suburb from Melbourne City Center</b>"
   ]
  },
  {
   "cell_type": "code",
   "execution_count": 154,
   "metadata": {},
   "outputs": [
    {
     "name": "stdout",
     "output_type": "stream",
     "text": [
      "Melbourne CBD Location\n",
      "-37.8275581\n",
      "144.979857223109\n"
     ]
    }
   ],
   "source": [
    "geolocator = Nominatim(user_agent=\"explorer\")\n",
    "loc = geolocator.geocode('Melbourne City Center, Melbourne, Australia', timeout=100)\n",
    "melb_cc_latitude =loc.latitude\n",
    "melb_cc_longitude =loc.longitude\n",
    "print(\"Melbourne CBD Location\")\n",
    "print(melb_cc_latitude)\n",
    "print(melb_cc_longitude)"
   ]
  },
  {
   "cell_type": "code",
   "execution_count": 155,
   "metadata": {
    "collapsed": true
   },
   "outputs": [],
   "source": [
    "# We can use Haversine Formula to calculate the distance using latidues and longitudes\n",
    "from math import radians, cos, sin, asin, sqrt\n",
    "def haversine(lat1, lon1, lat2, lon2):\n",
    "    R = 6372.8 # this is in miles.  For Earth radius in kilometers use 6372.8 km\n",
    "    \n",
    "    dLat = radians(lat2 - lat1)\n",
    "    dLon = radians(lon2 - lon1)\n",
    "    lat1 = radians(lat1)\n",
    "    lat2 = radians(lat2)\n",
    "\n",
    "    a = sin(dLat/2)**2 + cos(lat1)*cos(lat2)*sin(dLon/2)**2\n",
    "    c = 2*asin(sqrt(a))\n",
    "\n",
    "    return (R * c)\n",
    "\n"
   ]
  },
  {
   "cell_type": "code",
   "execution_count": 158,
   "metadata": {
    "collapsed": true
   },
   "outputs": [],
   "source": [
    "# Computing distance of each Suburb in KM from the city center\n",
    "cleanedFinalDf[\"DistCityCenter\"] =  np.nan\n",
    "index=0\n",
    "for eachLatitude, eachLongitude in zip(cleanedFinalDf[\"Latitude\"],cleanedFinalDf[\"Longitude\"]):\n",
    "    distance = haversine(eachLatitude,eachLongitude,melb_cc_latitude,melb_cc_longitude)\n",
    "    cleanedFinalDf.iloc[index, cleanedFinalDf.columns.get_loc('DistCityCenter')]=distance\n",
    "    index+=1"
   ]
  },
  {
   "cell_type": "markdown",
   "metadata": {},
   "source": [
    "We only conisder those suburbs <b> which are with in 150 Km from the city center </b>"
   ]
  },
  {
   "cell_type": "code",
   "execution_count": 171,
   "metadata": {
    "collapsed": true
   },
   "outputs": [],
   "source": [
    "# Ignoring remote suburbs\n",
    "melbourneDf = cleanedFinalDf[cleanedFinalDf['DistCityCenter']<=150]\n",
    "\n",
    "# Updating the saved CSV file\n",
    "suburbMelbourneDf.to_csv(\"Data\\melb_suburbs_dist.csv\", index= False)"
   ]
  },
  {
   "cell_type": "code",
   "execution_count": 168,
   "metadata": {},
   "outputs": [
    {
     "data": {
      "text/plain": [
       "(256, 7)"
      ]
     },
     "execution_count": 168,
     "metadata": {},
     "output_type": "execute_result"
    }
   ],
   "source": [
    "melbourneDf.shape"
   ]
  },
  {
   "cell_type": "markdown",
   "metadata": {},
   "source": [
    "## Foursquare API"
   ]
  },
  {
   "cell_type": "markdown",
   "metadata": {},
   "source": [
    "I will use Foursquare API to extract the information about venues. I will extract the following information (features) using Foursquare API"
   ]
  },
  {
   "cell_type": "markdown",
   "metadata": {},
   "source": [
    "<H4> Feature # 1 - School Information </H4>\n",
    "\n",
    "I will get the near by schools information for a neighborhood with in 3 KM\n",
    "I then store the inormation as frequency of schools"
   ]
  },
  {
   "cell_type": "code",
   "execution_count": 70,
   "metadata": {
    "collapsed": true
   },
   "outputs": [],
   "source": [
    "# Setting up the Foursquare API\n",
    "radius = 3000\n",
    "CLIENT_ID = '' # your Foursquare ID\n",
    "CLIENT_SECRET = '' # your Foursquare Secret\n",
    "VERSION = '20190815'\n",
    "LIMIT = 50"
   ]
  },
  {
   "cell_type": "code",
   "execution_count": 16,
   "metadata": {
    "collapsed": true
   },
   "outputs": [],
   "source": [
    "import requests\n",
    "\n",
    "def search_school(Df):\n",
    "    # Searching the school information\n",
    "    search_query = 'School'\n",
    "\n",
    "    # Initialising column with zero values\n",
    "    Df[\"Schools\"]= 0\n",
    "\n",
    "    row_index=0\n",
    "    # Going through each suburb\n",
    "    for eachSubrub,eachLatitude, eachLongitude in zip(Df[\"SuburbName\"],Df[\"Latitude\"], Df[\"Longitude\"]):\n",
    "        if (row_index%50)==0:\n",
    "            print(row_index)\n",
    "        url = 'https://api.foursquare.com/v2/venues/search?client_id={}&client_secret={}&ll={},{}&v={}&query={}&radius={}&limit={}'.format(CLIENT_ID, CLIENT_SECRET, eachLatitude, eachLongitude, VERSION, search_query, radius, LIMIT)\n",
    "        results = requests.get(url).json()\n",
    "   \n",
    "        # Extract the total number of outputs returned by query\n",
    "        try:\n",
    "            count = len(results['response']['venues'])\n",
    "        except:\n",
    "            continue\n",
    "\n",
    "        output = list()\n",
    "        # Extracting each venue information\n",
    "        for i in range(0, count):\n",
    "            try:\n",
    "                school_name= results['response']['venues'][i]['name']\n",
    "                school_category_name =results['response']['venues'][i]['categories'][0]['name']\n",
    "            except:\n",
    "                continue\n",
    "            # Ignoring wrong outputs, such as studios, buses information etc\n",
    "            if (school_category_name.find(\"School\")>=-0 or \\\n",
    "            school_category_name.find(\"University\")>=0) and \\\n",
    "            school_category_name.find(\"Swim\")==-1:\n",
    "                output.append([school_name, school_category_name])\n",
    "\n",
    "        Df.iloc[row_index, Df.columns.get_loc('Schools')]=len(output)\n",
    "        row_index+=1\n",
    "        #break\n",
    "    return Df"
   ]
  },
  {
   "cell_type": "code",
   "execution_count": 176,
   "metadata": {},
   "outputs": [
    {
     "name": "stdout",
     "output_type": "stream",
     "text": [
      "0\n",
      "50\n",
      "100\n",
      "150\n",
      "200\n",
      "250\n"
     ]
    },
    {
     "data": {
      "text/html": [
       "<div>\n",
       "<style>\n",
       "    .dataframe thead tr:only-child th {\n",
       "        text-align: right;\n",
       "    }\n",
       "\n",
       "    .dataframe thead th {\n",
       "        text-align: left;\n",
       "    }\n",
       "\n",
       "    .dataframe tbody tr th {\n",
       "        vertical-align: top;\n",
       "    }\n",
       "</style>\n",
       "<table border=\"1\" class=\"dataframe\">\n",
       "  <thead>\n",
       "    <tr style=\"text-align: right;\">\n",
       "      <th></th>\n",
       "      <th>Postcode</th>\n",
       "      <th>SuburbName</th>\n",
       "      <th>MeanCrimes</th>\n",
       "      <th>SumCrimes</th>\n",
       "      <th>Latitude</th>\n",
       "      <th>Longitude</th>\n",
       "      <th>DistCityCenter</th>\n",
       "      <th>Schools</th>\n",
       "    </tr>\n",
       "  </thead>\n",
       "  <tbody>\n",
       "    <tr>\n",
       "      <th>0</th>\n",
       "      <td>3000</td>\n",
       "      <td>Melbourne CBD</td>\n",
       "      <td>22600.6</td>\n",
       "      <td>113003</td>\n",
       "      <td>-37.814182</td>\n",
       "      <td>144.959801</td>\n",
       "      <td>2.306228</td>\n",
       "      <td>25</td>\n",
       "    </tr>\n",
       "    <tr>\n",
       "      <th>1</th>\n",
       "      <td>3002</td>\n",
       "      <td>East Melbourne</td>\n",
       "      <td>875.6</td>\n",
       "      <td>4378</td>\n",
       "      <td>-37.812498</td>\n",
       "      <td>144.985885</td>\n",
       "      <td>1.756813</td>\n",
       "      <td>22</td>\n",
       "    </tr>\n",
       "    <tr>\n",
       "      <th>2</th>\n",
       "      <td>3003</td>\n",
       "      <td>West Melbourne</td>\n",
       "      <td>549.8</td>\n",
       "      <td>2749</td>\n",
       "      <td>-37.810448</td>\n",
       "      <td>144.920430</td>\n",
       "      <td>5.557517</td>\n",
       "      <td>30</td>\n",
       "    </tr>\n",
       "    <tr>\n",
       "      <th>3</th>\n",
       "      <td>3006</td>\n",
       "      <td>Southbank, South Wharf</td>\n",
       "      <td>2396.6</td>\n",
       "      <td>11983</td>\n",
       "      <td>-37.825345</td>\n",
       "      <td>144.956682</td>\n",
       "      <td>2.050896</td>\n",
       "      <td>25</td>\n",
       "    </tr>\n",
       "    <tr>\n",
       "      <th>4</th>\n",
       "      <td>3008</td>\n",
       "      <td>Docklands</td>\n",
       "      <td>1149.6</td>\n",
       "      <td>5748</td>\n",
       "      <td>-37.817542</td>\n",
       "      <td>144.939492</td>\n",
       "      <td>3.717285</td>\n",
       "      <td>24</td>\n",
       "    </tr>\n",
       "  </tbody>\n",
       "</table>\n",
       "</div>"
      ],
      "text/plain": [
       "   Postcode              SuburbName  MeanCrimes  SumCrimes   Latitude  \\\n",
       "0      3000           Melbourne CBD     22600.6     113003 -37.814182   \n",
       "1      3002          East Melbourne       875.6       4378 -37.812498   \n",
       "2      3003          West Melbourne       549.8       2749 -37.810448   \n",
       "3      3006  Southbank, South Wharf      2396.6      11983 -37.825345   \n",
       "4      3008               Docklands      1149.6       5748 -37.817542   \n",
       "\n",
       "    Longitude  DistCityCenter  Schools  \n",
       "0  144.959801        2.306228       25  \n",
       "1  144.985885        1.756813       22  \n",
       "2  144.920430        5.557517       30  \n",
       "3  144.956682        2.050896       25  \n",
       "4  144.939492        3.717285       24  "
      ]
     },
     "execution_count": 176,
     "metadata": {},
     "output_type": "execute_result"
    }
   ],
   "source": [
    "melbourneDf= search_school(melbourneDf.copy())\n",
    "melbourneDf.head()"
   ]
  },
  {
   "cell_type": "code",
   "execution_count": 177,
   "metadata": {
    "collapsed": true
   },
   "outputs": [],
   "source": [
    "melbourneDf.to_csv(\"Data\\melb_suburbs_schools.csv\", index= False)"
   ]
  },
  {
   "cell_type": "markdown",
   "metadata": {},
   "source": [
    "<H4> Feature # 2 - Park Information </H4>\n",
    "\n",
    "We will get the near by parks information for a neighborhood with in 3 KM"
   ]
  },
  {
   "cell_type": "code",
   "execution_count": 17,
   "metadata": {
    "collapsed": true
   },
   "outputs": [],
   "source": [
    "import requests\n",
    "\n",
    "def search_park(Df):\n",
    "    # Searching the park information\n",
    "    search_query = 'Park'\n",
    "\n",
    "    # Initialising column with zero values\n",
    "    Df[\"Parks\"]= 0\n",
    "\n",
    "    row_index=0\n",
    "    # Going through each suburb\n",
    "    for eachSubrub,eachLatitude, eachLongitude in zip(Df[\"SuburbName\"],Df[\"Latitude\"], Df[\"Longitude\"]):\n",
    "\n",
    "        url = 'https://api.foursquare.com/v2/venues/search?client_id={}&client_secret={}&ll={},{}&v={}&query={}&radius={}&limit={}'.format(CLIENT_ID, CLIENT_SECRET, eachLatitude, eachLongitude, VERSION, search_query, radius, LIMIT)\n",
    "        results = requests.get(url).json()\n",
    "\n",
    "        # Extract the total number of outputs returned by query\n",
    "        try:\n",
    "            count = len(results['response']['venues'])\n",
    "        except:\n",
    "            continue\n",
    "        output = list()\n",
    "        # Extracting each venue information\n",
    "        for i in range(0, count):\n",
    "            try:\n",
    "                park_name= results['response']['venues'][i]['name']\n",
    "                park_category_name =results['response']['venues'][i]['categories'][0]['name']\n",
    "            except:\n",
    "                continue\n",
    "\n",
    "            # Ignoring wrong outputs i.e., only accepting Parks and Playlands\n",
    "            if park_category_name==\"Park\" or \\\n",
    "            park_category_name== \"Playground\":\n",
    "                output.append([park_name, park_category_name])\n",
    "\n",
    "        Df.iloc[row_index, Df.columns.get_loc('Parks')]=len(output)\n",
    "        row_index+=1\n",
    "\n",
    "    return Df\n"
   ]
  },
  {
   "cell_type": "code",
   "execution_count": 179,
   "metadata": {},
   "outputs": [
    {
     "data": {
      "text/html": [
       "<div>\n",
       "<style>\n",
       "    .dataframe thead tr:only-child th {\n",
       "        text-align: right;\n",
       "    }\n",
       "\n",
       "    .dataframe thead th {\n",
       "        text-align: left;\n",
       "    }\n",
       "\n",
       "    .dataframe tbody tr th {\n",
       "        vertical-align: top;\n",
       "    }\n",
       "</style>\n",
       "<table border=\"1\" class=\"dataframe\">\n",
       "  <thead>\n",
       "    <tr style=\"text-align: right;\">\n",
       "      <th></th>\n",
       "      <th>Postcode</th>\n",
       "      <th>SuburbName</th>\n",
       "      <th>MeanCrimes</th>\n",
       "      <th>SumCrimes</th>\n",
       "      <th>Latitude</th>\n",
       "      <th>Longitude</th>\n",
       "      <th>DistCityCenter</th>\n",
       "      <th>Schools</th>\n",
       "      <th>Parks</th>\n",
       "    </tr>\n",
       "  </thead>\n",
       "  <tbody>\n",
       "    <tr>\n",
       "      <th>0</th>\n",
       "      <td>3000</td>\n",
       "      <td>Melbourne CBD</td>\n",
       "      <td>22600.6</td>\n",
       "      <td>113003</td>\n",
       "      <td>-37.814182</td>\n",
       "      <td>144.959801</td>\n",
       "      <td>2.306228</td>\n",
       "      <td>25</td>\n",
       "      <td>9</td>\n",
       "    </tr>\n",
       "    <tr>\n",
       "      <th>1</th>\n",
       "      <td>3002</td>\n",
       "      <td>East Melbourne</td>\n",
       "      <td>875.6</td>\n",
       "      <td>4378</td>\n",
       "      <td>-37.812498</td>\n",
       "      <td>144.985885</td>\n",
       "      <td>1.756813</td>\n",
       "      <td>22</td>\n",
       "      <td>9</td>\n",
       "    </tr>\n",
       "    <tr>\n",
       "      <th>2</th>\n",
       "      <td>3003</td>\n",
       "      <td>West Melbourne</td>\n",
       "      <td>549.8</td>\n",
       "      <td>2749</td>\n",
       "      <td>-37.810448</td>\n",
       "      <td>144.920430</td>\n",
       "      <td>5.557517</td>\n",
       "      <td>30</td>\n",
       "      <td>23</td>\n",
       "    </tr>\n",
       "    <tr>\n",
       "      <th>3</th>\n",
       "      <td>3006</td>\n",
       "      <td>Southbank, South Wharf</td>\n",
       "      <td>2396.6</td>\n",
       "      <td>11983</td>\n",
       "      <td>-37.825345</td>\n",
       "      <td>144.956682</td>\n",
       "      <td>2.050896</td>\n",
       "      <td>25</td>\n",
       "      <td>10</td>\n",
       "    </tr>\n",
       "    <tr>\n",
       "      <th>4</th>\n",
       "      <td>3008</td>\n",
       "      <td>Docklands</td>\n",
       "      <td>1149.6</td>\n",
       "      <td>5748</td>\n",
       "      <td>-37.817542</td>\n",
       "      <td>144.939492</td>\n",
       "      <td>3.717285</td>\n",
       "      <td>24</td>\n",
       "      <td>11</td>\n",
       "    </tr>\n",
       "  </tbody>\n",
       "</table>\n",
       "</div>"
      ],
      "text/plain": [
       "   Postcode              SuburbName  MeanCrimes  SumCrimes   Latitude  \\\n",
       "0      3000           Melbourne CBD     22600.6     113003 -37.814182   \n",
       "1      3002          East Melbourne       875.6       4378 -37.812498   \n",
       "2      3003          West Melbourne       549.8       2749 -37.810448   \n",
       "3      3006  Southbank, South Wharf      2396.6      11983 -37.825345   \n",
       "4      3008               Docklands      1149.6       5748 -37.817542   \n",
       "\n",
       "    Longitude  DistCityCenter  Schools  Parks  \n",
       "0  144.959801        2.306228       25      9  \n",
       "1  144.985885        1.756813       22      9  \n",
       "2  144.920430        5.557517       30     23  \n",
       "3  144.956682        2.050896       25     10  \n",
       "4  144.939492        3.717285       24     11  "
      ]
     },
     "execution_count": 179,
     "metadata": {},
     "output_type": "execute_result"
    }
   ],
   "source": [
    "# Extract Parks\n",
    "melbourneDf= search_park(melbourneDf)\n",
    "melbourneDf.head()"
   ]
  },
  {
   "cell_type": "code",
   "execution_count": 180,
   "metadata": {
    "collapsed": true
   },
   "outputs": [],
   "source": [
    "# Save to disk\n",
    "melbourneDf.to_csv(\"Data\\melb_suburbs_parks.csv\", index= False)"
   ]
  },
  {
   "cell_type": "markdown",
   "metadata": {},
   "source": [
    "<H4> Feature # 3 - Train Station </H4>\n",
    "\n",
    "We will get the near by train stations information for a neighborhood with in 3 KM"
   ]
  },
  {
   "cell_type": "code",
   "execution_count": 18,
   "metadata": {
    "collapsed": true
   },
   "outputs": [],
   "source": [
    "import requests\n",
    "\n",
    "def search_station(Df):\n",
    "    # Searching the school information\n",
    "    search_query = 'Train Station'\n",
    "\n",
    "    # Initialising column with zero values\n",
    "    Df[\"Stations\"]= 0\n",
    "\n",
    "    row_index=0\n",
    "    # Going through each suburb\n",
    "    for eachSubrub,eachLatitude, eachLongitude in zip(Df[\"SuburbName\"],Df[\"Latitude\"], Df[\"Longitude\"]):\n",
    "\n",
    "        url = 'https://api.foursquare.com/v2/venues/search?client_id={}&client_secret={}&ll={},{}&v={}&query={}&radius={}&limit={}'.format(CLIENT_ID, CLIENT_SECRET, eachLatitude, eachLongitude, VERSION, search_query, radius, LIMIT)\n",
    "        results = requests.get(url).json()\n",
    "        # Extract the total number of outputs returned by query\n",
    "        try:\n",
    "            count = len(results['response']['venues'])\n",
    "        except:\n",
    "            continue\n",
    "        output = list()\n",
    "        # Extracting each venue information\n",
    "        for i in range(0, count):\n",
    "            try:\n",
    "                station_name= results['response']['venues'][i]['name']\n",
    "                station_category_name =results['response']['venues'][i]['categories'][0]['name']\n",
    "            except:\n",
    "                continue\n",
    "\n",
    "            # Ignoring wrong outputs i.e., only accepting Parks and Playlands\n",
    "            if station_category_name.strip()==\"Train Station\":\n",
    "                output.append([station_name, station_category_name])\n",
    "        Df.iloc[row_index, Df.columns.get_loc('Stations')]=len(output)\n",
    "        row_index+=1\n",
    "        #break\n",
    "    return Df"
   ]
  },
  {
   "cell_type": "code",
   "execution_count": 184,
   "metadata": {
    "collapsed": true
   },
   "outputs": [],
   "source": [
    "# Extract station information\n",
    "melbourneDf= search_station(melbourneDf)"
   ]
  },
  {
   "cell_type": "code",
   "execution_count": 185,
   "metadata": {
    "collapsed": true
   },
   "outputs": [],
   "source": [
    "# Save to disc\n",
    "melbourneDf.to_csv(\"Data\\melb_suburbs_stations.csv\", index= False)"
   ]
  },
  {
   "cell_type": "code",
   "execution_count": 186,
   "metadata": {},
   "outputs": [
    {
     "data": {
      "text/html": [
       "<div>\n",
       "<style>\n",
       "    .dataframe thead tr:only-child th {\n",
       "        text-align: right;\n",
       "    }\n",
       "\n",
       "    .dataframe thead th {\n",
       "        text-align: left;\n",
       "    }\n",
       "\n",
       "    .dataframe tbody tr th {\n",
       "        vertical-align: top;\n",
       "    }\n",
       "</style>\n",
       "<table border=\"1\" class=\"dataframe\">\n",
       "  <thead>\n",
       "    <tr style=\"text-align: right;\">\n",
       "      <th></th>\n",
       "      <th>Postcode</th>\n",
       "      <th>SuburbName</th>\n",
       "      <th>MeanCrimes</th>\n",
       "      <th>SumCrimes</th>\n",
       "      <th>Latitude</th>\n",
       "      <th>Longitude</th>\n",
       "      <th>DistCityCenter</th>\n",
       "      <th>Schools</th>\n",
       "      <th>Parks</th>\n",
       "      <th>Stations</th>\n",
       "    </tr>\n",
       "  </thead>\n",
       "  <tbody>\n",
       "    <tr>\n",
       "      <th>0</th>\n",
       "      <td>3000</td>\n",
       "      <td>Melbourne CBD</td>\n",
       "      <td>22600.6</td>\n",
       "      <td>113003</td>\n",
       "      <td>-37.814182</td>\n",
       "      <td>144.959801</td>\n",
       "      <td>2.306228</td>\n",
       "      <td>25</td>\n",
       "      <td>9</td>\n",
       "      <td>15</td>\n",
       "    </tr>\n",
       "    <tr>\n",
       "      <th>1</th>\n",
       "      <td>3002</td>\n",
       "      <td>East Melbourne</td>\n",
       "      <td>875.6</td>\n",
       "      <td>4378</td>\n",
       "      <td>-37.812498</td>\n",
       "      <td>144.985885</td>\n",
       "      <td>1.756813</td>\n",
       "      <td>22</td>\n",
       "      <td>9</td>\n",
       "      <td>13</td>\n",
       "    </tr>\n",
       "    <tr>\n",
       "      <th>2</th>\n",
       "      <td>3003</td>\n",
       "      <td>West Melbourne</td>\n",
       "      <td>549.8</td>\n",
       "      <td>2749</td>\n",
       "      <td>-37.810448</td>\n",
       "      <td>144.920430</td>\n",
       "      <td>5.557517</td>\n",
       "      <td>30</td>\n",
       "      <td>23</td>\n",
       "      <td>13</td>\n",
       "    </tr>\n",
       "    <tr>\n",
       "      <th>3</th>\n",
       "      <td>3006</td>\n",
       "      <td>Southbank, South Wharf</td>\n",
       "      <td>2396.6</td>\n",
       "      <td>11983</td>\n",
       "      <td>-37.825345</td>\n",
       "      <td>144.956682</td>\n",
       "      <td>2.050896</td>\n",
       "      <td>25</td>\n",
       "      <td>10</td>\n",
       "      <td>9</td>\n",
       "    </tr>\n",
       "    <tr>\n",
       "      <th>4</th>\n",
       "      <td>3008</td>\n",
       "      <td>Docklands</td>\n",
       "      <td>1149.6</td>\n",
       "      <td>5748</td>\n",
       "      <td>-37.817542</td>\n",
       "      <td>144.939492</td>\n",
       "      <td>3.717285</td>\n",
       "      <td>24</td>\n",
       "      <td>11</td>\n",
       "      <td>9</td>\n",
       "    </tr>\n",
       "  </tbody>\n",
       "</table>\n",
       "</div>"
      ],
      "text/plain": [
       "   Postcode              SuburbName  MeanCrimes  SumCrimes   Latitude  \\\n",
       "0      3000           Melbourne CBD     22600.6     113003 -37.814182   \n",
       "1      3002          East Melbourne       875.6       4378 -37.812498   \n",
       "2      3003          West Melbourne       549.8       2749 -37.810448   \n",
       "3      3006  Southbank, South Wharf      2396.6      11983 -37.825345   \n",
       "4      3008               Docklands      1149.6       5748 -37.817542   \n",
       "\n",
       "    Longitude  DistCityCenter  Schools  Parks  Stations  \n",
       "0  144.959801        2.306228       25      9        15  \n",
       "1  144.985885        1.756813       22      9        13  \n",
       "2  144.920430        5.557517       30     23        13  \n",
       "3  144.956682        2.050896       25     10         9  \n",
       "4  144.939492        3.717285       24     11         9  "
      ]
     },
     "execution_count": 186,
     "metadata": {},
     "output_type": "execute_result"
    }
   ],
   "source": [
    "melbourneDf.head()"
   ]
  },
  {
   "cell_type": "markdown",
   "metadata": {},
   "source": [
    "<H4> Feature # 4 - Resturants </H4>\n",
    "\n",
    "We will get the near by resturants information for a neighborhood with in 3 KM"
   ]
  },
  {
   "cell_type": "code",
   "execution_count": 19,
   "metadata": {
    "collapsed": true
   },
   "outputs": [],
   "source": [
    "import requests\n",
    "\n",
    "def search_restaurant(Df):\n",
    "    # Searching the school information\n",
    "    search_query = 'Restaurant'\n",
    "\n",
    "    # Initialising column with zero values\n",
    "    Df[\"Restaurants\"]= 0\n",
    "\n",
    "    row_index=0\n",
    "    # Going through each suburb\n",
    "    for eachSubrub,eachLatitude, eachLongitude in zip(Df[\"SuburbName\"],Df[\"Latitude\"], Df[\"Longitude\"]):\n",
    "\n",
    "        url = 'https://api.foursquare.com/v2/venues/search?client_id={}&client_secret={}&ll={},{}&v={}&query={}&radius={}&limit={}'.format(CLIENT_ID, CLIENT_SECRET, eachLatitude, eachLongitude, VERSION, search_query, radius, LIMIT)\n",
    "        results = requests.get(url).json()\n",
    "\n",
    "        # Extract the total number of outputs returned by query\n",
    "        try:\n",
    "            count = len(results['response']['venues'])\n",
    "        except:\n",
    "            continue\n",
    "        output = list()\n",
    "        # Extracting each venue information\n",
    "        for i in range(0, count):\n",
    "            try:\n",
    "                restaurant_name= results['response']['venues'][i]['name']\n",
    "                restaurant_category_name =results['response']['venues'][i]['categories'][0]['name']\n",
    "            except:\n",
    "                continue\n",
    "\n",
    "            # Ignoring wrong outputs i.e., only accepting Parks and Playlands\n",
    "            if restaurant_category_name.strip().find(\"Restaurant\")>=0:\n",
    "                output.append([restaurant_name, restaurant_category_name])\n",
    "        Df.iloc[row_index, Df.columns.get_loc('Restaurants')]=len(output)\n",
    "        row_index+=1\n",
    "        #break\n",
    "    return Df"
   ]
  },
  {
   "cell_type": "code",
   "execution_count": 188,
   "metadata": {},
   "outputs": [
    {
     "data": {
      "text/html": [
       "<div>\n",
       "<style>\n",
       "    .dataframe thead tr:only-child th {\n",
       "        text-align: right;\n",
       "    }\n",
       "\n",
       "    .dataframe thead th {\n",
       "        text-align: left;\n",
       "    }\n",
       "\n",
       "    .dataframe tbody tr th {\n",
       "        vertical-align: top;\n",
       "    }\n",
       "</style>\n",
       "<table border=\"1\" class=\"dataframe\">\n",
       "  <thead>\n",
       "    <tr style=\"text-align: right;\">\n",
       "      <th></th>\n",
       "      <th>Postcode</th>\n",
       "      <th>SuburbName</th>\n",
       "      <th>MeanCrimes</th>\n",
       "      <th>SumCrimes</th>\n",
       "      <th>Latitude</th>\n",
       "      <th>Longitude</th>\n",
       "      <th>DistCityCenter</th>\n",
       "      <th>Schools</th>\n",
       "      <th>Parks</th>\n",
       "      <th>Stations</th>\n",
       "      <th>Restaurants</th>\n",
       "    </tr>\n",
       "  </thead>\n",
       "  <tbody>\n",
       "    <tr>\n",
       "      <th>0</th>\n",
       "      <td>3000</td>\n",
       "      <td>Melbourne CBD</td>\n",
       "      <td>22600.6</td>\n",
       "      <td>113003</td>\n",
       "      <td>-37.814182</td>\n",
       "      <td>144.959801</td>\n",
       "      <td>2.306228</td>\n",
       "      <td>25</td>\n",
       "      <td>9</td>\n",
       "      <td>15</td>\n",
       "      <td>43</td>\n",
       "    </tr>\n",
       "    <tr>\n",
       "      <th>1</th>\n",
       "      <td>3002</td>\n",
       "      <td>East Melbourne</td>\n",
       "      <td>875.6</td>\n",
       "      <td>4378</td>\n",
       "      <td>-37.812498</td>\n",
       "      <td>144.985885</td>\n",
       "      <td>1.756813</td>\n",
       "      <td>22</td>\n",
       "      <td>9</td>\n",
       "      <td>13</td>\n",
       "      <td>41</td>\n",
       "    </tr>\n",
       "    <tr>\n",
       "      <th>2</th>\n",
       "      <td>3003</td>\n",
       "      <td>West Melbourne</td>\n",
       "      <td>549.8</td>\n",
       "      <td>2749</td>\n",
       "      <td>-37.810448</td>\n",
       "      <td>144.920430</td>\n",
       "      <td>5.557517</td>\n",
       "      <td>30</td>\n",
       "      <td>23</td>\n",
       "      <td>13</td>\n",
       "      <td>42</td>\n",
       "    </tr>\n",
       "    <tr>\n",
       "      <th>3</th>\n",
       "      <td>3006</td>\n",
       "      <td>Southbank, South Wharf</td>\n",
       "      <td>2396.6</td>\n",
       "      <td>11983</td>\n",
       "      <td>-37.825345</td>\n",
       "      <td>144.956682</td>\n",
       "      <td>2.050896</td>\n",
       "      <td>25</td>\n",
       "      <td>10</td>\n",
       "      <td>9</td>\n",
       "      <td>45</td>\n",
       "    </tr>\n",
       "    <tr>\n",
       "      <th>4</th>\n",
       "      <td>3008</td>\n",
       "      <td>Docklands</td>\n",
       "      <td>1149.6</td>\n",
       "      <td>5748</td>\n",
       "      <td>-37.817542</td>\n",
       "      <td>144.939492</td>\n",
       "      <td>3.717285</td>\n",
       "      <td>24</td>\n",
       "      <td>11</td>\n",
       "      <td>9</td>\n",
       "      <td>42</td>\n",
       "    </tr>\n",
       "  </tbody>\n",
       "</table>\n",
       "</div>"
      ],
      "text/plain": [
       "   Postcode              SuburbName  MeanCrimes  SumCrimes   Latitude  \\\n",
       "0      3000           Melbourne CBD     22600.6     113003 -37.814182   \n",
       "1      3002          East Melbourne       875.6       4378 -37.812498   \n",
       "2      3003          West Melbourne       549.8       2749 -37.810448   \n",
       "3      3006  Southbank, South Wharf      2396.6      11983 -37.825345   \n",
       "4      3008               Docklands      1149.6       5748 -37.817542   \n",
       "\n",
       "    Longitude  DistCityCenter  Schools  Parks  Stations  Restaurants  \n",
       "0  144.959801        2.306228       25      9        15           43  \n",
       "1  144.985885        1.756813       22      9        13           41  \n",
       "2  144.920430        5.557517       30     23        13           42  \n",
       "3  144.956682        2.050896       25     10         9           45  \n",
       "4  144.939492        3.717285       24     11         9           42  "
      ]
     },
     "execution_count": 188,
     "metadata": {},
     "output_type": "execute_result"
    }
   ],
   "source": [
    "# Extract restaruant information\n",
    "melbourneDf= search_restaurant(melbourneDf)\n",
    "melbourneDf.head()"
   ]
  },
  {
   "cell_type": "code",
   "execution_count": 189,
   "metadata": {
    "collapsed": true
   },
   "outputs": [],
   "source": [
    "# Updating the saved CSV file\n",
    "melbourneDf.to_csv(\"Data\\melb_suburbs_restaurants.csv\", index= False)"
   ]
  },
  {
   "cell_type": "markdown",
   "metadata": {},
   "source": [
    "We can use all above features to do analysis for our project"
   ]
  },
  {
   "cell_type": "markdown",
   "metadata": {
    "collapsed": true
   },
   "source": [
    "<H1> Analysis </H1>"
   ]
  },
  {
   "cell_type": "markdown",
   "metadata": {},
   "source": [
    "We can read the stats from the save file on the disc"
   ]
  },
  {
   "cell_type": "code",
   "execution_count": 1,
   "metadata": {},
   "outputs": [
    {
     "data": {
      "text/html": [
       "<div>\n",
       "<style>\n",
       "    .dataframe thead tr:only-child th {\n",
       "        text-align: right;\n",
       "    }\n",
       "\n",
       "    .dataframe thead th {\n",
       "        text-align: left;\n",
       "    }\n",
       "\n",
       "    .dataframe tbody tr th {\n",
       "        vertical-align: top;\n",
       "    }\n",
       "</style>\n",
       "<table border=\"1\" class=\"dataframe\">\n",
       "  <thead>\n",
       "    <tr style=\"text-align: right;\">\n",
       "      <th></th>\n",
       "      <th>Postcode</th>\n",
       "      <th>SuburbName</th>\n",
       "      <th>MeanCrimes</th>\n",
       "      <th>SumCrimes</th>\n",
       "      <th>Latitude</th>\n",
       "      <th>Longitude</th>\n",
       "      <th>DistCityCenter</th>\n",
       "      <th>Schools</th>\n",
       "      <th>Parks</th>\n",
       "      <th>Stations</th>\n",
       "      <th>Restaurants</th>\n",
       "    </tr>\n",
       "  </thead>\n",
       "  <tbody>\n",
       "    <tr>\n",
       "      <th>0</th>\n",
       "      <td>3000</td>\n",
       "      <td>Melbourne CBD</td>\n",
       "      <td>22600.6</td>\n",
       "      <td>113003</td>\n",
       "      <td>-37.814182</td>\n",
       "      <td>144.959801</td>\n",
       "      <td>2.306228</td>\n",
       "      <td>25</td>\n",
       "      <td>9</td>\n",
       "      <td>15</td>\n",
       "      <td>43</td>\n",
       "    </tr>\n",
       "    <tr>\n",
       "      <th>1</th>\n",
       "      <td>3002</td>\n",
       "      <td>East Melbourne</td>\n",
       "      <td>875.6</td>\n",
       "      <td>4378</td>\n",
       "      <td>-37.812498</td>\n",
       "      <td>144.985885</td>\n",
       "      <td>1.756813</td>\n",
       "      <td>22</td>\n",
       "      <td>9</td>\n",
       "      <td>13</td>\n",
       "      <td>41</td>\n",
       "    </tr>\n",
       "    <tr>\n",
       "      <th>2</th>\n",
       "      <td>3003</td>\n",
       "      <td>West Melbourne</td>\n",
       "      <td>549.8</td>\n",
       "      <td>2749</td>\n",
       "      <td>-37.810448</td>\n",
       "      <td>144.920430</td>\n",
       "      <td>5.557517</td>\n",
       "      <td>30</td>\n",
       "      <td>23</td>\n",
       "      <td>13</td>\n",
       "      <td>42</td>\n",
       "    </tr>\n",
       "    <tr>\n",
       "      <th>3</th>\n",
       "      <td>3006</td>\n",
       "      <td>Southbank, South Wharf</td>\n",
       "      <td>2396.6</td>\n",
       "      <td>11983</td>\n",
       "      <td>-37.825345</td>\n",
       "      <td>144.956682</td>\n",
       "      <td>2.050896</td>\n",
       "      <td>25</td>\n",
       "      <td>10</td>\n",
       "      <td>9</td>\n",
       "      <td>45</td>\n",
       "    </tr>\n",
       "    <tr>\n",
       "      <th>4</th>\n",
       "      <td>3008</td>\n",
       "      <td>Docklands</td>\n",
       "      <td>1149.6</td>\n",
       "      <td>5748</td>\n",
       "      <td>-37.817542</td>\n",
       "      <td>144.939492</td>\n",
       "      <td>3.717285</td>\n",
       "      <td>24</td>\n",
       "      <td>11</td>\n",
       "      <td>9</td>\n",
       "      <td>42</td>\n",
       "    </tr>\n",
       "  </tbody>\n",
       "</table>\n",
       "</div>"
      ],
      "text/plain": [
       "   Postcode              SuburbName  MeanCrimes  SumCrimes   Latitude  \\\n",
       "0      3000           Melbourne CBD     22600.6     113003 -37.814182   \n",
       "1      3002          East Melbourne       875.6       4378 -37.812498   \n",
       "2      3003          West Melbourne       549.8       2749 -37.810448   \n",
       "3      3006  Southbank, South Wharf      2396.6      11983 -37.825345   \n",
       "4      3008               Docklands      1149.6       5748 -37.817542   \n",
       "\n",
       "    Longitude  DistCityCenter  Schools  Parks  Stations  Restaurants  \n",
       "0  144.959801        2.306228       25      9        15           43  \n",
       "1  144.985885        1.756813       22      9        13           41  \n",
       "2  144.920430        5.557517       30     23        13           42  \n",
       "3  144.956682        2.050896       25     10         9           45  \n",
       "4  144.939492        3.717285       24     11         9           42  "
      ]
     },
     "execution_count": 1,
     "metadata": {},
     "output_type": "execute_result"
    }
   ],
   "source": [
    "# Laoding files from disc. Saves time\n",
    "import pandas as pd\n",
    "melbourneDf= pd.read_csv(\"Data\\melb_suburbs_restaurants.csv\")\n",
    "melbourneDf.head()"
   ]
  },
  {
   "cell_type": "markdown",
   "metadata": {},
   "source": [
    "### Correlation map"
   ]
  },
  {
   "cell_type": "code",
   "execution_count": 2,
   "metadata": {
    "collapsed": true
   },
   "outputs": [],
   "source": [
    "# Potential outlier or wrong value. Removing it\n",
    "melbourneDf= melbourneDf[melbourneDf['MeanCrimes']<20000]"
   ]
  },
  {
   "cell_type": "code",
   "execution_count": 3,
   "metadata": {},
   "outputs": [
    {
     "data": {
      "text/html": [
       "<style  type=\"text/css\" >\n",
       "    #T_1ee3d46e_cfcb_11e9_9f14_ec8eb5131df5row0_col0 {\n",
       "            background-color:  #b40426;\n",
       "        }    #T_1ee3d46e_cfcb_11e9_9f14_ec8eb5131df5row0_col1 {\n",
       "            background-color:  #b40426;\n",
       "        }    #T_1ee3d46e_cfcb_11e9_9f14_ec8eb5131df5row0_col2 {\n",
       "            background-color:  #a1c0ff;\n",
       "        }    #T_1ee3d46e_cfcb_11e9_9f14_ec8eb5131df5row0_col3 {\n",
       "            background-color:  #e1dad6;\n",
       "        }    #T_1ee3d46e_cfcb_11e9_9f14_ec8eb5131df5row0_col4 {\n",
       "            background-color:  #d8dce2;\n",
       "        }    #T_1ee3d46e_cfcb_11e9_9f14_ec8eb5131df5row0_col5 {\n",
       "            background-color:  #d6dce4;\n",
       "        }    #T_1ee3d46e_cfcb_11e9_9f14_ec8eb5131df5row0_col6 {\n",
       "            background-color:  #d9dce1;\n",
       "        }    #T_1ee3d46e_cfcb_11e9_9f14_ec8eb5131df5row1_col0 {\n",
       "            background-color:  #b40426;\n",
       "        }    #T_1ee3d46e_cfcb_11e9_9f14_ec8eb5131df5row1_col1 {\n",
       "            background-color:  #b40426;\n",
       "        }    #T_1ee3d46e_cfcb_11e9_9f14_ec8eb5131df5row1_col2 {\n",
       "            background-color:  #a1c0ff;\n",
       "        }    #T_1ee3d46e_cfcb_11e9_9f14_ec8eb5131df5row1_col3 {\n",
       "            background-color:  #e1dad6;\n",
       "        }    #T_1ee3d46e_cfcb_11e9_9f14_ec8eb5131df5row1_col4 {\n",
       "            background-color:  #d8dce2;\n",
       "        }    #T_1ee3d46e_cfcb_11e9_9f14_ec8eb5131df5row1_col5 {\n",
       "            background-color:  #d6dce4;\n",
       "        }    #T_1ee3d46e_cfcb_11e9_9f14_ec8eb5131df5row1_col6 {\n",
       "            background-color:  #d9dce1;\n",
       "        }    #T_1ee3d46e_cfcb_11e9_9f14_ec8eb5131df5row2_col0 {\n",
       "            background-color:  #3b4cc0;\n",
       "        }    #T_1ee3d46e_cfcb_11e9_9f14_ec8eb5131df5row2_col1 {\n",
       "            background-color:  #3b4cc0;\n",
       "        }    #T_1ee3d46e_cfcb_11e9_9f14_ec8eb5131df5row2_col2 {\n",
       "            background-color:  #b40426;\n",
       "        }    #T_1ee3d46e_cfcb_11e9_9f14_ec8eb5131df5row2_col3 {\n",
       "            background-color:  #3b4cc0;\n",
       "        }    #T_1ee3d46e_cfcb_11e9_9f14_ec8eb5131df5row2_col4 {\n",
       "            background-color:  #3b4cc0;\n",
       "        }    #T_1ee3d46e_cfcb_11e9_9f14_ec8eb5131df5row2_col5 {\n",
       "            background-color:  #3b4cc0;\n",
       "        }    #T_1ee3d46e_cfcb_11e9_9f14_ec8eb5131df5row2_col6 {\n",
       "            background-color:  #3b4cc0;\n",
       "        }    #T_1ee3d46e_cfcb_11e9_9f14_ec8eb5131df5row3_col0 {\n",
       "            background-color:  #a1c0ff;\n",
       "        }    #T_1ee3d46e_cfcb_11e9_9f14_ec8eb5131df5row3_col1 {\n",
       "            background-color:  #a1c0ff;\n",
       "        }    #T_1ee3d46e_cfcb_11e9_9f14_ec8eb5131df5row3_col2 {\n",
       "            background-color:  #3b4cc0;\n",
       "        }    #T_1ee3d46e_cfcb_11e9_9f14_ec8eb5131df5row3_col3 {\n",
       "            background-color:  #b40426;\n",
       "        }    #T_1ee3d46e_cfcb_11e9_9f14_ec8eb5131df5row3_col4 {\n",
       "            background-color:  #d85646;\n",
       "        }    #T_1ee3d46e_cfcb_11e9_9f14_ec8eb5131df5row3_col5 {\n",
       "            background-color:  #d55042;\n",
       "        }    #T_1ee3d46e_cfcb_11e9_9f14_ec8eb5131df5row3_col6 {\n",
       "            background-color:  #d0473d;\n",
       "        }    #T_1ee3d46e_cfcb_11e9_9f14_ec8eb5131df5row4_col0 {\n",
       "            background-color:  #92b4fe;\n",
       "        }    #T_1ee3d46e_cfcb_11e9_9f14_ec8eb5131df5row4_col1 {\n",
       "            background-color:  #92b4fe;\n",
       "        }    #T_1ee3d46e_cfcb_11e9_9f14_ec8eb5131df5row4_col2 {\n",
       "            background-color:  #3e51c5;\n",
       "        }    #T_1ee3d46e_cfcb_11e9_9f14_ec8eb5131df5row4_col3 {\n",
       "            background-color:  #d85646;\n",
       "        }    #T_1ee3d46e_cfcb_11e9_9f14_ec8eb5131df5row4_col4 {\n",
       "            background-color:  #b40426;\n",
       "        }    #T_1ee3d46e_cfcb_11e9_9f14_ec8eb5131df5row4_col5 {\n",
       "            background-color:  #e97a5f;\n",
       "        }    #T_1ee3d46e_cfcb_11e9_9f14_ec8eb5131df5row4_col6 {\n",
       "            background-color:  #dd5f4b;\n",
       "        }    #T_1ee3d46e_cfcb_11e9_9f14_ec8eb5131df5row5_col0 {\n",
       "            background-color:  #9bbcff;\n",
       "        }    #T_1ee3d46e_cfcb_11e9_9f14_ec8eb5131df5row5_col1 {\n",
       "            background-color:  #9bbcff;\n",
       "        }    #T_1ee3d46e_cfcb_11e9_9f14_ec8eb5131df5row5_col2 {\n",
       "            background-color:  #4b64d5;\n",
       "        }    #T_1ee3d46e_cfcb_11e9_9f14_ec8eb5131df5row5_col3 {\n",
       "            background-color:  #d24b40;\n",
       "        }    #T_1ee3d46e_cfcb_11e9_9f14_ec8eb5131df5row5_col4 {\n",
       "            background-color:  #e8765c;\n",
       "        }    #T_1ee3d46e_cfcb_11e9_9f14_ec8eb5131df5row5_col5 {\n",
       "            background-color:  #b40426;\n",
       "        }    #T_1ee3d46e_cfcb_11e9_9f14_ec8eb5131df5row5_col6 {\n",
       "            background-color:  #da5a49;\n",
       "        }    #T_1ee3d46e_cfcb_11e9_9f14_ec8eb5131df5row6_col0 {\n",
       "            background-color:  #98b9ff;\n",
       "        }    #T_1ee3d46e_cfcb_11e9_9f14_ec8eb5131df5row6_col1 {\n",
       "            background-color:  #98b9ff;\n",
       "        }    #T_1ee3d46e_cfcb_11e9_9f14_ec8eb5131df5row6_col2 {\n",
       "            background-color:  #445acc;\n",
       "        }    #T_1ee3d46e_cfcb_11e9_9f14_ec8eb5131df5row6_col3 {\n",
       "            background-color:  #cf453c;\n",
       "        }    #T_1ee3d46e_cfcb_11e9_9f14_ec8eb5131df5row6_col4 {\n",
       "            background-color:  #dc5d4a;\n",
       "        }    #T_1ee3d46e_cfcb_11e9_9f14_ec8eb5131df5row6_col5 {\n",
       "            background-color:  #da5a49;\n",
       "        }    #T_1ee3d46e_cfcb_11e9_9f14_ec8eb5131df5row6_col6 {\n",
       "            background-color:  #b40426;\n",
       "        }</style>  \n",
       "<table id=\"T_1ee3d46e_cfcb_11e9_9f14_ec8eb5131df5\" > \n",
       "<thead>    <tr> \n",
       "        <th class=\"blank level0\" ></th> \n",
       "        <th class=\"col_heading level0 col0\" >MeanCrimes</th> \n",
       "        <th class=\"col_heading level0 col1\" >SumCrimes</th> \n",
       "        <th class=\"col_heading level0 col2\" >DistCityCenter</th> \n",
       "        <th class=\"col_heading level0 col3\" >Schools</th> \n",
       "        <th class=\"col_heading level0 col4\" >Parks</th> \n",
       "        <th class=\"col_heading level0 col5\" >Stations</th> \n",
       "        <th class=\"col_heading level0 col6\" >Restaurants</th> \n",
       "    </tr></thead> \n",
       "<tbody>    <tr> \n",
       "        <th id=\"T_1ee3d46e_cfcb_11e9_9f14_ec8eb5131df5level0_row0\" class=\"row_heading level0 row0\" >MeanCrimes</th> \n",
       "        <td id=\"T_1ee3d46e_cfcb_11e9_9f14_ec8eb5131df5row0_col0\" class=\"data row0 col0\" >1</td> \n",
       "        <td id=\"T_1ee3d46e_cfcb_11e9_9f14_ec8eb5131df5row0_col1\" class=\"data row0 col1\" >1</td> \n",
       "        <td id=\"T_1ee3d46e_cfcb_11e9_9f14_ec8eb5131df5row0_col2\" class=\"data row0 col2\" >-0.183453</td> \n",
       "        <td id=\"T_1ee3d46e_cfcb_11e9_9f14_ec8eb5131df5row0_col3\" class=\"data row0 col3\" >0.178109</td> \n",
       "        <td id=\"T_1ee3d46e_cfcb_11e9_9f14_ec8eb5131df5row0_col4\" class=\"data row0 col4\" >0.127003</td> \n",
       "        <td id=\"T_1ee3d46e_cfcb_11e9_9f14_ec8eb5131df5row0_col5\" class=\"data row0 col5\" >0.15876</td> \n",
       "        <td id=\"T_1ee3d46e_cfcb_11e9_9f14_ec8eb5131df5row0_col6\" class=\"data row0 col6\" >0.152568</td> \n",
       "    </tr>    <tr> \n",
       "        <th id=\"T_1ee3d46e_cfcb_11e9_9f14_ec8eb5131df5level0_row1\" class=\"row_heading level0 row1\" >SumCrimes</th> \n",
       "        <td id=\"T_1ee3d46e_cfcb_11e9_9f14_ec8eb5131df5row1_col0\" class=\"data row1 col0\" >1</td> \n",
       "        <td id=\"T_1ee3d46e_cfcb_11e9_9f14_ec8eb5131df5row1_col1\" class=\"data row1 col1\" >1</td> \n",
       "        <td id=\"T_1ee3d46e_cfcb_11e9_9f14_ec8eb5131df5row1_col2\" class=\"data row1 col2\" >-0.183453</td> \n",
       "        <td id=\"T_1ee3d46e_cfcb_11e9_9f14_ec8eb5131df5row1_col3\" class=\"data row1 col3\" >0.178109</td> \n",
       "        <td id=\"T_1ee3d46e_cfcb_11e9_9f14_ec8eb5131df5row1_col4\" class=\"data row1 col4\" >0.127003</td> \n",
       "        <td id=\"T_1ee3d46e_cfcb_11e9_9f14_ec8eb5131df5row1_col5\" class=\"data row1 col5\" >0.15876</td> \n",
       "        <td id=\"T_1ee3d46e_cfcb_11e9_9f14_ec8eb5131df5row1_col6\" class=\"data row1 col6\" >0.152568</td> \n",
       "    </tr>    <tr> \n",
       "        <th id=\"T_1ee3d46e_cfcb_11e9_9f14_ec8eb5131df5level0_row2\" class=\"row_heading level0 row2\" >DistCityCenter</th> \n",
       "        <td id=\"T_1ee3d46e_cfcb_11e9_9f14_ec8eb5131df5row2_col0\" class=\"data row2 col0\" >-0.183453</td> \n",
       "        <td id=\"T_1ee3d46e_cfcb_11e9_9f14_ec8eb5131df5row2_col1\" class=\"data row2 col1\" >-0.183453</td> \n",
       "        <td id=\"T_1ee3d46e_cfcb_11e9_9f14_ec8eb5131df5row2_col2\" class=\"data row2 col2\" >1</td> \n",
       "        <td id=\"T_1ee3d46e_cfcb_11e9_9f14_ec8eb5131df5row2_col3\" class=\"data row2 col3\" >-0.705124</td> \n",
       "        <td id=\"T_1ee3d46e_cfcb_11e9_9f14_ec8eb5131df5row2_col4\" class=\"data row2 col4\" >-0.681563</td> \n",
       "        <td id=\"T_1ee3d46e_cfcb_11e9_9f14_ec8eb5131df5row2_col5\" class=\"data row2 col5\" >-0.606453</td> \n",
       "        <td id=\"T_1ee3d46e_cfcb_11e9_9f14_ec8eb5131df5row2_col6\" class=\"data row2 col6\" >-0.650545</td> \n",
       "    </tr>    <tr> \n",
       "        <th id=\"T_1ee3d46e_cfcb_11e9_9f14_ec8eb5131df5level0_row3\" class=\"row_heading level0 row3\" >Schools</th> \n",
       "        <td id=\"T_1ee3d46e_cfcb_11e9_9f14_ec8eb5131df5row3_col0\" class=\"data row3 col0\" >0.178109</td> \n",
       "        <td id=\"T_1ee3d46e_cfcb_11e9_9f14_ec8eb5131df5row3_col1\" class=\"data row3 col1\" >0.178109</td> \n",
       "        <td id=\"T_1ee3d46e_cfcb_11e9_9f14_ec8eb5131df5row3_col2\" class=\"data row3 col2\" >-0.705124</td> \n",
       "        <td id=\"T_1ee3d46e_cfcb_11e9_9f14_ec8eb5131df5row3_col3\" class=\"data row3 col3\" >1</td> \n",
       "        <td id=\"T_1ee3d46e_cfcb_11e9_9f14_ec8eb5131df5row3_col4\" class=\"data row3 col4\" >0.818195</td> \n",
       "        <td id=\"T_1ee3d46e_cfcb_11e9_9f14_ec8eb5131df5row3_col5\" class=\"data row3 col5\" >0.847687</td> \n",
       "        <td id=\"T_1ee3d46e_cfcb_11e9_9f14_ec8eb5131df5row3_col6\" class=\"data row3 col6\" >0.870224</td> \n",
       "    </tr>    <tr> \n",
       "        <th id=\"T_1ee3d46e_cfcb_11e9_9f14_ec8eb5131df5level0_row4\" class=\"row_heading level0 row4\" >Parks</th> \n",
       "        <td id=\"T_1ee3d46e_cfcb_11e9_9f14_ec8eb5131df5row4_col0\" class=\"data row4 col0\" >0.127003</td> \n",
       "        <td id=\"T_1ee3d46e_cfcb_11e9_9f14_ec8eb5131df5row4_col1\" class=\"data row4 col1\" >0.127003</td> \n",
       "        <td id=\"T_1ee3d46e_cfcb_11e9_9f14_ec8eb5131df5row4_col2\" class=\"data row4 col2\" >-0.681563</td> \n",
       "        <td id=\"T_1ee3d46e_cfcb_11e9_9f14_ec8eb5131df5row4_col3\" class=\"data row4 col3\" >0.818195</td> \n",
       "        <td id=\"T_1ee3d46e_cfcb_11e9_9f14_ec8eb5131df5row4_col4\" class=\"data row4 col4\" >1</td> \n",
       "        <td id=\"T_1ee3d46e_cfcb_11e9_9f14_ec8eb5131df5row4_col5\" class=\"data row4 col5\" >0.71623</td> \n",
       "        <td id=\"T_1ee3d46e_cfcb_11e9_9f14_ec8eb5131df5row4_col6\" class=\"data row4 col6\" >0.798049</td> \n",
       "    </tr>    <tr> \n",
       "        <th id=\"T_1ee3d46e_cfcb_11e9_9f14_ec8eb5131df5level0_row5\" class=\"row_heading level0 row5\" >Stations</th> \n",
       "        <td id=\"T_1ee3d46e_cfcb_11e9_9f14_ec8eb5131df5row5_col0\" class=\"data row5 col0\" >0.15876</td> \n",
       "        <td id=\"T_1ee3d46e_cfcb_11e9_9f14_ec8eb5131df5row5_col1\" class=\"data row5 col1\" >0.15876</td> \n",
       "        <td id=\"T_1ee3d46e_cfcb_11e9_9f14_ec8eb5131df5row5_col2\" class=\"data row5 col2\" >-0.606453</td> \n",
       "        <td id=\"T_1ee3d46e_cfcb_11e9_9f14_ec8eb5131df5row5_col3\" class=\"data row5 col3\" >0.847687</td> \n",
       "        <td id=\"T_1ee3d46e_cfcb_11e9_9f14_ec8eb5131df5row5_col4\" class=\"data row5 col4\" >0.71623</td> \n",
       "        <td id=\"T_1ee3d46e_cfcb_11e9_9f14_ec8eb5131df5row5_col5\" class=\"data row5 col5\" >1</td> \n",
       "        <td id=\"T_1ee3d46e_cfcb_11e9_9f14_ec8eb5131df5row5_col6\" class=\"data row5 col6\" >0.812533</td> \n",
       "    </tr>    <tr> \n",
       "        <th id=\"T_1ee3d46e_cfcb_11e9_9f14_ec8eb5131df5level0_row6\" class=\"row_heading level0 row6\" >Restaurants</th> \n",
       "        <td id=\"T_1ee3d46e_cfcb_11e9_9f14_ec8eb5131df5row6_col0\" class=\"data row6 col0\" >0.152568</td> \n",
       "        <td id=\"T_1ee3d46e_cfcb_11e9_9f14_ec8eb5131df5row6_col1\" class=\"data row6 col1\" >0.152568</td> \n",
       "        <td id=\"T_1ee3d46e_cfcb_11e9_9f14_ec8eb5131df5row6_col2\" class=\"data row6 col2\" >-0.650545</td> \n",
       "        <td id=\"T_1ee3d46e_cfcb_11e9_9f14_ec8eb5131df5row6_col3\" class=\"data row6 col3\" >0.870224</td> \n",
       "        <td id=\"T_1ee3d46e_cfcb_11e9_9f14_ec8eb5131df5row6_col4\" class=\"data row6 col4\" >0.798049</td> \n",
       "        <td id=\"T_1ee3d46e_cfcb_11e9_9f14_ec8eb5131df5row6_col5\" class=\"data row6 col5\" >0.812533</td> \n",
       "        <td id=\"T_1ee3d46e_cfcb_11e9_9f14_ec8eb5131df5row6_col6\" class=\"data row6 col6\" >1</td> \n",
       "    </tr></tbody> \n",
       "</table> "
      ],
      "text/plain": [
       "<pandas.io.formats.style.Styler at 0x26afd51bd68>"
      ]
     },
     "execution_count": 3,
     "metadata": {},
     "output_type": "execute_result"
    }
   ],
   "source": [
    "myCorrelationDf =melbourneDf.drop(['Postcode','Latitude','Longitude'], axis=1)\n",
    "corr = myCorrelationDf.corr()\n",
    "corr.style.background_gradient(cmap='coolwarm')"
   ]
  },
  {
   "cell_type": "markdown",
   "metadata": {
    "collapsed": true
   },
   "source": [
    "We cannot draw any conclusions using the above correlation matrix. So, lets try out the regression plots"
   ]
  },
  {
   "cell_type": "markdown",
   "metadata": {},
   "source": [
    "### Regression Plots"
   ]
  },
  {
   "cell_type": "markdown",
   "metadata": {},
   "source": [
    "<b> Mean and Sum Crimes Vs Dist City Center </b>"
   ]
  },
  {
   "cell_type": "code",
   "execution_count": 4,
   "metadata": {
    "scrolled": true
   },
   "outputs": [
    {
     "data": {
      "image/png": "[encoded data removed]",
      "text/plain": [
       "<Figure size 360x360 with 1 Axes>"
      ]
     },
     "metadata": {},
     "output_type": "display_data"
    }
   ],
   "source": [
    "%matplotlib inline\n",
    "# Let's visual the mean crimes and distance to city center\n",
    "import seaborn as sns\n",
    "import matplotlib.pyplot as plt\n",
    "import numpy as np\n",
    "sns.lmplot(x=\"DistCityCenter\",y=\"MeanCrimes\", data=melbourneDf)\n",
    "sns.set(style=\"whitegrid\")\n",
    "plt.style.use(u'ggplot')\n"
   ]
  },
  {
   "cell_type": "code",
   "execution_count": 18,
   "metadata": {},
   "outputs": [
    {
     "data": {
      "text/plain": [
       "<Figure size 720x720 with 0 Axes>"
      ]
     },
     "metadata": {},
     "output_type": "display_data"
    },
    {
     "data": {
      "image/png": "[encoded data removed]",
      "text/plain": [
       "<Figure size 360x360 with 1 Axes>"
      ]
     },
     "metadata": {},
     "output_type": "display_data"
    }
   ],
   "source": [
    "%matplotlib inline\n",
    "# Let's visual the sum crimes and distance to city center\n",
    "import seaborn as sns\n",
    "import matplotlib.pyplot as plt\n",
    "import numpy as np\n",
    "plt.figure(figsize=(10,10))\n",
    "sns.lmplot(x=\"DistCityCenter\",y=\"SumCrimes\", data=melbourneDf)\n",
    "sns.set(style=\"whitegrid\")\n",
    "plt.style.use(u'ggplot')\n",
    "plt.show()"
   ]
  },
  {
   "cell_type": "markdown",
   "metadata": {},
   "source": [
    "<b> Mean Crimes vs Schools </b>"
   ]
  },
  {
   "cell_type": "code",
   "execution_count": 5,
   "metadata": {
    "scrolled": true
   },
   "outputs": [
    {
     "data": {
      "image/png": "[encoded data removed]",
      "text/plain": [
       "<Figure size 360x360 with 1 Axes>"
      ]
     },
     "metadata": {},
     "output_type": "display_data"
    }
   ],
   "source": [
    "import seaborn as sns\n",
    "import matplotlib.pyplot as plt\n",
    "import numpy as np\n",
    "sns.lmplot(x=\"Schools\",y=\"MeanCrimes\", data=melbourneDf)\n",
    "sns.set(style=\"whitegrid\")\n",
    "plt.style.use(u'ggplot')\n",
    "plt.title(\"Crimes vs Schools\")\n",
    "plt.show()"
   ]
  },
  {
   "cell_type": "markdown",
   "metadata": {},
   "source": [
    "<b> Mean Crimes vs Parks </b>"
   ]
  },
  {
   "cell_type": "code",
   "execution_count": 6,
   "metadata": {},
   "outputs": [
    {
     "data": {
      "image/png": "[encoded data removed]",
      "text/plain": [
       "<Figure size 360x360 with 1 Axes>"
      ]
     },
     "metadata": {},
     "output_type": "display_data"
    }
   ],
   "source": [
    "import seaborn as sns\n",
    "import matplotlib.pyplot as plt\n",
    "import numpy as np\n",
    "sns.lmplot(x=\"Parks\",y=\"MeanCrimes\", data=melbourneDf)\n",
    "sns.set(style=\"whitegrid\")\n",
    "plt.style.use(u'ggplot')\n",
    "plt.title(\"Crimes vs Parks\")\n",
    "plt.show()"
   ]
  },
  {
   "cell_type": "markdown",
   "metadata": {},
   "source": [
    "<b> Mean Crimes vs Stations </b>"
   ]
  },
  {
   "cell_type": "code",
   "execution_count": 7,
   "metadata": {},
   "outputs": [
    {
     "data": {
      "image/png": "[encoded data removed]",
      "text/plain": [
       "<Figure size 360x360 with 1 Axes>"
      ]
     },
     "metadata": {},
     "output_type": "display_data"
    }
   ],
   "source": [
    "sns.lmplot(x=\"Stations\",y=\"MeanCrimes\", data=melbourneDf)\n",
    "sns.set(style=\"whitegrid\")\n",
    "plt.style.use(u'ggplot')\n",
    "plt.title(\"Crimes vs Train Stations\")\n",
    "plt.show()"
   ]
  },
  {
   "cell_type": "markdown",
   "metadata": {},
   "source": [
    "<b> Mean Crimes vs Restaurants </b>"
   ]
  },
  {
   "cell_type": "code",
   "execution_count": 8,
   "metadata": {},
   "outputs": [
    {
     "data": {
      "image/png": "[encoded data removed]",
      "text/plain": [
       "<Figure size 360x360 with 1 Axes>"
      ]
     },
     "metadata": {},
     "output_type": "display_data"
    }
   ],
   "source": [
    "sns.lmplot(x=\"Restaurants\",y=\"MeanCrimes\", data=melbourneDf)\n",
    "sns.set(style=\"whitegrid\")\n",
    "plt.style.use(u'ggplot')\n",
    "plt.title(\"Crimes vs Restaurants\")\n",
    "plt.show()"
   ]
  },
  {
   "cell_type": "markdown",
   "metadata": {},
   "source": [
    "<b> Features vs Distance City Center </b>"
   ]
  },
  {
   "cell_type": "code",
   "execution_count": 9,
   "metadata": {},
   "outputs": [
    {
     "data": {
      "text/plain": [
       "<Figure size 864x864 with 0 Axes>"
      ]
     },
     "metadata": {},
     "output_type": "display_data"
    },
    {
     "data": {
      "image/png": "[encoded data removed]",
      "text/plain": [
       "<Figure size 360x360 with 1 Axes>"
      ]
     },
     "metadata": {},
     "output_type": "display_data"
    },
    {
     "data": {
      "image/png": "[encoded data removed]",
      "text/plain": [
       "<Figure size 360x360 with 1 Axes>"
      ]
     },
     "metadata": {},
     "output_type": "display_data"
    },
    {
     "data": {
      "image/png": "[encoded data removed]",
      "text/plain": [
       "<Figure size 360x360 with 1 Axes>"
      ]
     },
     "metadata": {},
     "output_type": "display_data"
    },
    {
     "data": {
      "image/png": "[encoded data removed]",
      "text/plain": [
       "<Figure size 360x360 with 1 Axes>"
      ]
     },
     "metadata": {},
     "output_type": "display_data"
    }
   ],
   "source": [
    "plt.figure(figsize=(12,12))\n",
    "sns.lmplot(x=\"DistCityCenter\", y=\"Schools\", data=melbourneDf, palette=\"muted\")\n",
    "plt.xlabel(\"Distance from city center\")\n",
    "plt.ylabel(\"Frequency of Schools\")\n",
    "\n",
    "sns.lmplot(x=\"DistCityCenter\", y=\"Parks\", data=melbourneDf, palette=\"muted\")\n",
    "plt.xlabel(\"Distance from city center\")\n",
    "plt.ylabel(\"Frequency of Parks\")\n",
    "\n",
    "\n",
    "sns.lmplot(x=\"DistCityCenter\", y=\"Stations\", data=melbourneDf, palette=\"muted\")\n",
    "plt.xlabel(\"Distance from city center\")\n",
    "plt.ylabel(\"Frequency of Stations\")\n",
    "\n",
    "sns.lmplot(x=\"DistCityCenter\", y=\"Restaurants\", data=melbourneDf, palette=\"muted\")\n",
    "plt.xlabel(\"Distance from city center\")\n",
    "plt.ylabel(\"Frequency of  Restaurants\")\n",
    "\n",
    "\n",
    "plt.show()"
   ]
  },
  {
   "cell_type": "markdown",
   "metadata": {},
   "source": [
    "#### Box Plots "
   ]
  },
  {
   "cell_type": "markdown",
   "metadata": {},
   "source": [
    "### Use the concept of binning to genreate box plots"
   ]
  },
  {
   "cell_type": "code",
   "execution_count": 11,
   "metadata": {},
   "outputs": [
    {
     "data": {
      "image/png": "[encoded data removed]",
      "text/plain": [
       "<Figure size 864x864 with 1 Axes>"
      ]
     },
     "metadata": {},
     "output_type": "display_data"
    }
   ],
   "source": [
    "# Let's divide above graph in bins, such as each bin represents crimes with in 10KM range\n",
    "def bin_distance(x):\n",
    "    val = x//10\n",
    "    return val\n",
    "\n",
    "def generate_label(x):\n",
    "    return \"%d - %d Km\"%(x*10,(x+1)*10)\n",
    "        \n",
    "tempdf= melbourneDf.copy()\n",
    "tempdf['Category']= tempdf['DistCityCenter'].apply(bin_distance)\n",
    "tempdf['Labels']= tempdf['Category'].apply(generate_label)\n",
    "plt.figure(figsize=(12,12))\n",
    "ax = sns.boxplot(x=\"Category\", y=\"MeanCrimes\", data=tempdf, palette=\"muted\")\n",
    "plt.xlabel(\"Categories\")\n",
    "plt.title(\"Crimes vs Distances\")\n",
    "plt.show()"
   ]
  },
  {
   "cell_type": "markdown",
   "metadata": {},
   "source": [
    "<b> Schools </b>"
   ]
  },
  {
   "cell_type": "code",
   "execution_count": 12,
   "metadata": {},
   "outputs": [
    {
     "data": {
      "image/png": "[encoded data removed]",
      "text/plain": [
       "<Figure size 864x864 with 1 Axes>"
      ]
     },
     "metadata": {},
     "output_type": "display_data"
    }
   ],
   "source": [
    "plt.figure(figsize=(12,12))\n",
    "ax = sns.boxplot(x=\"Category\", y=\"Schools\", data=tempdf, palette=\"muted\")\n",
    "plt.xlabel(\"Categoires\")\n",
    "plt.xlabel(\"Schools\")\n",
    "plt.title(\"Schools vs Distances\")\n",
    "plt.show()"
   ]
  },
  {
   "cell_type": "markdown",
   "metadata": {},
   "source": [
    "<b> Parks box plot </b>"
   ]
  },
  {
   "cell_type": "code",
   "execution_count": 13,
   "metadata": {},
   "outputs": [
    {
     "data": {
      "image/png": "[encoded data removed]",
      "text/plain": [
       "<Figure size 864x864 with 1 Axes>"
      ]
     },
     "metadata": {},
     "output_type": "display_data"
    }
   ],
   "source": [
    "plt.figure(figsize=(12,12))\n",
    "ax = sns.boxplot(x=\"Category\", y=\"Parks\", data=tempdf, palette=\"muted\")\n",
    "plt.xlabel(\"Categories\")\n",
    "plt.ylabel(\"Parks\")\n",
    "plt.title(\"Parks vs Distances\")\n",
    "plt.show()"
   ]
  },
  {
   "cell_type": "markdown",
   "metadata": {},
   "source": [
    "<b> Stations Box Plot </b>"
   ]
  },
  {
   "cell_type": "code",
   "execution_count": 14,
   "metadata": {},
   "outputs": [
    {
     "data": {
      "image/png": "[encoded data removed]",
      "text/plain": [
       "<Figure size 864x864 with 1 Axes>"
      ]
     },
     "metadata": {},
     "output_type": "display_data"
    }
   ],
   "source": [
    "plt.figure(figsize=(12,12))\n",
    "ax = sns.boxplot(x=\"Category\", y=\"Stations\", data=tempdf, palette=\"muted\")\n",
    "plt.xlabel(\"Categories\")\n",
    "plt.xlabel(\"Stations\")\n",
    "plt.title(\"Stations vs Distances\")\n",
    "plt.show()"
   ]
  },
  {
   "cell_type": "markdown",
   "metadata": {},
   "source": [
    "<b> Restaurants box plot </b>"
   ]
  },
  {
   "cell_type": "code",
   "execution_count": 15,
   "metadata": {},
   "outputs": [
    {
     "data": {
      "image/png": "[encoded data removed]",
      "text/plain": [
       "<Figure size 864x864 with 1 Axes>"
      ]
     },
     "metadata": {},
     "output_type": "display_data"
    }
   ],
   "source": [
    "plt.figure(figsize=(12,12))\n",
    "ax = sns.boxplot(x=\"Category\", y=\"Restaurants\", data=tempdf, palette=\"muted\")\n",
    "plt.xlabel(\"Categories\")\n",
    "plt.xlabel(\"Categories\")\n",
    "plt.title(\"Restaurants vs Distances\")\n",
    "plt.show()"
   ]
  },
  {
   "cell_type": "markdown",
   "metadata": {},
   "source": [
    "The crime rate decreases as we move away from the cty.\n",
    "\n",
    "<b>However, the frequency of venues decrease. One potential reason is that we are searching in 3 km radius. If we increase the radius then we may find more venies. In other words, people living in far suburbs will have to drive more compared to the people living near to the city center/ </b>\n",
    "\n",
    "To test this hypothesis, I again searched for the venues around each suburb using 7 km radius. I did not change the other settings, such as limit."
   ]
  },
  {
   "cell_type": "code",
   "execution_count": 20,
   "metadata": {},
   "outputs": [
    {
     "name": "stdout",
     "output_type": "stream",
     "text": [
      "0\n",
      "50\n",
      "100\n",
      "150\n",
      "200\n",
      "250\n"
     ]
    }
   ],
   "source": [
    "# Setting up the Foursquare API\n",
    "radius = 7000\n",
    "CLIENT_ID = '' # your Foursquare ID\n",
    "CLIENT_SECRET = '' # your Foursquare Secret\n",
    "VERSION = '20190815'\n",
    "LIMIT = 50\n",
    "\n",
    "# Search schools with in 10 KM Radius\n",
    "tempdf_7km = tempdf.copy()\n",
    "tempdf_7km = search_school(tempdf_7km)\n",
    "tempdf_7km = search_park(tempdf_7km)\n",
    "tempdf_7km = search_station(tempdf_7km)\n",
    "tempdf_7km = search_restaurant(tempdf_7km)"
   ]
  },
  {
   "cell_type": "code",
   "execution_count": 58,
   "metadata": {},
   "outputs": [
    {
     "name": "stdout",
     "output_type": "stream",
     "text": [
      "Postcode          0\n",
      "SuburbName        0\n",
      "MeanCrimes        0\n",
      "SumCrimes         0\n",
      "Latitude          0\n",
      "Longitude         0\n",
      "DistCityCenter    0\n",
      "Schools           0\n",
      "Parks             0\n",
      "Stations          0\n",
      "Restaurants       0\n",
      "Category          0\n",
      "Labels            0\n",
      "dtype: int64\n"
     ]
    }
   ],
   "source": [
    "tempdf_7km.head()\n",
    "print(tempdf_7km.isnull().sum())"
   ]
  },
  {
   "cell_type": "code",
   "execution_count": 76,
   "metadata": {},
   "outputs": [
    {
     "data": {
      "text/plain": [
       "Text(0.5,1,'Frequencies of Schools')"
      ]
     },
     "execution_count": 76,
     "metadata": {},
     "output_type": "execute_result"
    },
    {
     "data": {
      "text/plain": [
       "<Figure size 864x864 with 0 Axes>"
      ]
     },
     "metadata": {},
     "output_type": "display_data"
    },
    {
     "data": {
      "image/png": "[encoded data removed]",
      "text/plain": [
       "<Figure size 460.725x360 with 1 Axes>"
      ]
     },
     "metadata": {},
     "output_type": "display_data"
    }
   ],
   "source": [
    "# Generating the school plots\n",
    "\n",
    "import seaborn as sns\n",
    "\n",
    "tempdf_7km_grouped =tempdf_7km.groupby('Category').sum()\n",
    "tempdf_7km_grouped.reset_index(inplace= True)\n",
    "tempdf_7km_grouped['Type']=\"7 km Raidus\"\n",
    "\n",
    "tempdf_grouped =tempdf.groupby('Category').sum()\n",
    "tempdf_grouped=tempdf_grouped.reset_index()\n",
    "tempdf_grouped['Type'] = \"3 km Radius\"\n",
    "\n",
    "tempdf_grouped_merge=pd.concat([tempdf_7km_grouped, tempdf_grouped], axis= 0)\n",
    "tempdf_grouped_merge.head()\n",
    "\n",
    "# Schools with in 7 Km radius for each suburb\n",
    "plt.figure(figsize=(12,12))\n",
    "sns.catplot(x='Category', y='Schools', hue='Type', data=tempdf_grouped_merge, kind='bar')\n",
    "plt.title(\"Frequencies of Schools\")\n",
    "#plt.show()"
   ]
  },
  {
   "cell_type": "code",
   "execution_count": 77,
   "metadata": {},
   "outputs": [
    {
     "data": {
      "text/plain": [
       "Text(0.5,1,'Frequencies of Parks')"
      ]
     },
     "execution_count": 77,
     "metadata": {},
     "output_type": "execute_result"
    },
    {
     "data": {
      "text/plain": [
       "<Figure size 864x864 with 0 Axes>"
      ]
     },
     "metadata": {},
     "output_type": "display_data"
    },
    {
     "data": {
      "image/png": "[encoded data removed]",
      "text/plain": [
       "<Figure size 460.725x360 with 1 Axes>"
      ]
     },
     "metadata": {},
     "output_type": "display_data"
    }
   ],
   "source": [
    "# Generating the park plots\n",
    "\n",
    "# Parks with in 7 Km radius for each suburb\n",
    "plt.figure(figsize=(12,12))\n",
    "sns.catplot(x='Category', y='Parks', hue='Type', data=tempdf_grouped_merge, kind='bar')\n",
    "plt.title(\"Frequencies of Parks\")\n",
    "#plt.show()"
   ]
  },
  {
   "cell_type": "code",
   "execution_count": 78,
   "metadata": {},
   "outputs": [
    {
     "data": {
      "text/plain": [
       "Text(0.5,1,'Frequencies of Stations')"
      ]
     },
     "execution_count": 78,
     "metadata": {},
     "output_type": "execute_result"
    },
    {
     "data": {
      "text/plain": [
       "<Figure size 864x864 with 0 Axes>"
      ]
     },
     "metadata": {},
     "output_type": "display_data"
    },
    {
     "data": {
      "image/png": "[encoded data removed]",
      "text/plain": [
       "<Figure size 460.725x360 with 1 Axes>"
      ]
     },
     "metadata": {},
     "output_type": "display_data"
    }
   ],
   "source": [
    "# Generating the station plots\n",
    "\n",
    "# Parks with in 7 Km radius for each suburb\n",
    "plt.figure(figsize=(12,12))\n",
    "sns.catplot(x='Category', y='Stations', hue='Type', data=tempdf_grouped_merge, kind='bar')\n",
    "plt.title(\"Frequencies of Stations\")\n",
    "#plt.show()"
   ]
  },
  {
   "cell_type": "code",
   "execution_count": 79,
   "metadata": {},
   "outputs": [
    {
     "data": {
      "text/plain": [
       "Text(0.5,1,'Frequencies of Restaurants')"
      ]
     },
     "execution_count": 79,
     "metadata": {},
     "output_type": "execute_result"
    },
    {
     "data": {
      "text/plain": [
       "<Figure size 864x864 with 0 Axes>"
      ]
     },
     "metadata": {},
     "output_type": "display_data"
    },
    {
     "data": {
      "image/png": "[encoded data removed]",
      "text/plain": [
       "<Figure size 460.725x360 with 1 Axes>"
      ]
     },
     "metadata": {},
     "output_type": "display_data"
    }
   ],
   "source": [
    "# Generating the restaurants plots\n",
    "\n",
    "# Parks with in 7 Km radius for each suburb\n",
    "plt.figure(figsize=(12,12))\n",
    "sns.catplot(x='Category', y='Restaurants', hue='Type', data=tempdf_grouped_merge, kind='bar')\n",
    "plt.title(\"Frequencies of Restaurants\")\n",
    "#plt.show()"
   ]
  },
  {
   "cell_type": "markdown",
   "metadata": {},
   "source": [
    "# Results"
   ]
  },
  {
   "cell_type": "markdown",
   "metadata": {},
   "source": [
    "So, I have done all the necessary analysis. It's time to find the best suburb to live"
   ]
  },
  {
   "cell_type": "markdown",
   "metadata": {},
   "source": [
    "### Find the safest suburbs 40 - 70 km "
   ]
  },
  {
   "cell_type": "code",
   "execution_count": 2,
   "metadata": {},
   "outputs": [
    {
     "data": {
      "text/html": [
       "<div>\n",
       "<style>\n",
       "    .dataframe thead tr:only-child th {\n",
       "        text-align: right;\n",
       "    }\n",
       "\n",
       "    .dataframe thead th {\n",
       "        text-align: left;\n",
       "    }\n",
       "\n",
       "    .dataframe tbody tr th {\n",
       "        vertical-align: top;\n",
       "    }\n",
       "</style>\n",
       "<table border=\"1\" class=\"dataframe\">\n",
       "  <thead>\n",
       "    <tr style=\"text-align: right;\">\n",
       "      <th></th>\n",
       "      <th>Postcode</th>\n",
       "      <th>SuburbName</th>\n",
       "      <th>MeanCrimes</th>\n",
       "      <th>SumCrimes</th>\n",
       "      <th>Latitude</th>\n",
       "      <th>Longitude</th>\n",
       "      <th>DistCityCenter</th>\n",
       "      <th>Schools</th>\n",
       "      <th>Parks</th>\n",
       "      <th>Stations</th>\n",
       "      <th>Restaurants</th>\n",
       "    </tr>\n",
       "  </thead>\n",
       "  <tbody>\n",
       "    <tr>\n",
       "      <th>0</th>\n",
       "      <td>3000</td>\n",
       "      <td>Melbourne CBD</td>\n",
       "      <td>22600.6</td>\n",
       "      <td>113003</td>\n",
       "      <td>-37.814182</td>\n",
       "      <td>144.959801</td>\n",
       "      <td>2.306228</td>\n",
       "      <td>25</td>\n",
       "      <td>9</td>\n",
       "      <td>15</td>\n",
       "      <td>43</td>\n",
       "    </tr>\n",
       "    <tr>\n",
       "      <th>1</th>\n",
       "      <td>3002</td>\n",
       "      <td>East Melbourne</td>\n",
       "      <td>875.6</td>\n",
       "      <td>4378</td>\n",
       "      <td>-37.812498</td>\n",
       "      <td>144.985885</td>\n",
       "      <td>1.756813</td>\n",
       "      <td>22</td>\n",
       "      <td>9</td>\n",
       "      <td>13</td>\n",
       "      <td>41</td>\n",
       "    </tr>\n",
       "    <tr>\n",
       "      <th>2</th>\n",
       "      <td>3003</td>\n",
       "      <td>West Melbourne</td>\n",
       "      <td>549.8</td>\n",
       "      <td>2749</td>\n",
       "      <td>-37.810448</td>\n",
       "      <td>144.920430</td>\n",
       "      <td>5.557517</td>\n",
       "      <td>30</td>\n",
       "      <td>23</td>\n",
       "      <td>13</td>\n",
       "      <td>42</td>\n",
       "    </tr>\n",
       "    <tr>\n",
       "      <th>3</th>\n",
       "      <td>3006</td>\n",
       "      <td>Southbank, South Wharf</td>\n",
       "      <td>2396.6</td>\n",
       "      <td>11983</td>\n",
       "      <td>-37.825345</td>\n",
       "      <td>144.956682</td>\n",
       "      <td>2.050896</td>\n",
       "      <td>25</td>\n",
       "      <td>10</td>\n",
       "      <td>9</td>\n",
       "      <td>45</td>\n",
       "    </tr>\n",
       "    <tr>\n",
       "      <th>4</th>\n",
       "      <td>3008</td>\n",
       "      <td>Docklands</td>\n",
       "      <td>1149.6</td>\n",
       "      <td>5748</td>\n",
       "      <td>-37.817542</td>\n",
       "      <td>144.939492</td>\n",
       "      <td>3.717285</td>\n",
       "      <td>24</td>\n",
       "      <td>11</td>\n",
       "      <td>9</td>\n",
       "      <td>42</td>\n",
       "    </tr>\n",
       "  </tbody>\n",
       "</table>\n",
       "</div>"
      ],
      "text/plain": [
       "   Postcode              SuburbName  MeanCrimes  SumCrimes   Latitude  \\\n",
       "0      3000           Melbourne CBD     22600.6     113003 -37.814182   \n",
       "1      3002          East Melbourne       875.6       4378 -37.812498   \n",
       "2      3003          West Melbourne       549.8       2749 -37.810448   \n",
       "3      3006  Southbank, South Wharf      2396.6      11983 -37.825345   \n",
       "4      3008               Docklands      1149.6       5748 -37.817542   \n",
       "\n",
       "    Longitude  DistCityCenter  Schools  Parks  Stations  Restaurants  \n",
       "0  144.959801        2.306228       25      9        15           43  \n",
       "1  144.985885        1.756813       22      9        13           41  \n",
       "2  144.920430        5.557517       30     23        13           42  \n",
       "3  144.956682        2.050896       25     10         9           45  \n",
       "4  144.939492        3.717285       24     11         9           42  "
      ]
     },
     "execution_count": 2,
     "metadata": {},
     "output_type": "execute_result"
    }
   ],
   "source": [
    "melbourneDf.head()"
   ]
  },
  {
   "cell_type": "code",
   "execution_count": 3,
   "metadata": {
    "collapsed": true
   },
   "outputs": [],
   "source": [
    "# Extract all data from 40-60 KM in range\n",
    "searchRangeDf =melbourneDf[(melbourneDf['DistCityCenter']>=40) & (melbourneDf['DistCityCenter']<=70)]"
   ]
  },
  {
   "cell_type": "code",
   "execution_count": 4,
   "metadata": {},
   "outputs": [
    {
     "data": {
      "text/plain": [
       "(45, 11)"
      ]
     },
     "execution_count": 4,
     "metadata": {},
     "output_type": "execute_result"
    }
   ],
   "source": [
    "searchRangeDf.shape"
   ]
  },
  {
   "cell_type": "code",
   "execution_count": 5,
   "metadata": {},
   "outputs": [
    {
     "data": {
      "text/html": [
       "<div>\n",
       "<style>\n",
       "    .dataframe thead tr:only-child th {\n",
       "        text-align: right;\n",
       "    }\n",
       "\n",
       "    .dataframe thead th {\n",
       "        text-align: left;\n",
       "    }\n",
       "\n",
       "    .dataframe tbody tr th {\n",
       "        vertical-align: top;\n",
       "    }\n",
       "</style>\n",
       "<table border=\"1\" class=\"dataframe\">\n",
       "  <thead>\n",
       "    <tr style=\"text-align: right;\">\n",
       "      <th></th>\n",
       "      <th>Postcode</th>\n",
       "      <th>SuburbName</th>\n",
       "      <th>MeanCrimes</th>\n",
       "      <th>SumCrimes</th>\n",
       "      <th>Latitude</th>\n",
       "      <th>Longitude</th>\n",
       "      <th>DistCityCenter</th>\n",
       "      <th>Schools</th>\n",
       "      <th>Parks</th>\n",
       "      <th>Stations</th>\n",
       "      <th>Restaurants</th>\n",
       "    </tr>\n",
       "  </thead>\n",
       "  <tbody>\n",
       "    <tr>\n",
       "      <th>0</th>\n",
       "      <td>3891</td>\n",
       "      <td>Koo Wee Rup North</td>\n",
       "      <td>6.8</td>\n",
       "      <td>34</td>\n",
       "      <td>-38.195056</td>\n",
       "      <td>145.173962</td>\n",
       "      <td>44.273578</td>\n",
       "      <td>3</td>\n",
       "      <td>2</td>\n",
       "      <td>2</td>\n",
       "      <td>0</td>\n",
       "    </tr>\n",
       "    <tr>\n",
       "      <th>1</th>\n",
       "      <td>3920</td>\n",
       "      <td>HMAS Cerberus</td>\n",
       "      <td>10.4</td>\n",
       "      <td>52</td>\n",
       "      <td>-38.392347</td>\n",
       "      <td>145.172650</td>\n",
       "      <td>65.045797</td>\n",
       "      <td>0</td>\n",
       "      <td>0</td>\n",
       "      <td>0</td>\n",
       "      <td>0</td>\n",
       "    </tr>\n",
       "    <tr>\n",
       "      <th>2</th>\n",
       "      <td>3928</td>\n",
       "      <td>Main Ridge</td>\n",
       "      <td>11.2</td>\n",
       "      <td>56</td>\n",
       "      <td>-38.193810</td>\n",
       "      <td>145.095732</td>\n",
       "      <td>41.983425</td>\n",
       "      <td>3</td>\n",
       "      <td>1</td>\n",
       "      <td>2</td>\n",
       "      <td>0</td>\n",
       "    </tr>\n",
       "    <tr>\n",
       "      <th>3</th>\n",
       "      <td>3430</td>\n",
       "      <td>Clarkefield</td>\n",
       "      <td>20.0</td>\n",
       "      <td>100</td>\n",
       "      <td>-37.465415</td>\n",
       "      <td>144.769603</td>\n",
       "      <td>44.332088</td>\n",
       "      <td>0</td>\n",
       "      <td>0</td>\n",
       "      <td>1</td>\n",
       "      <td>0</td>\n",
       "    </tr>\n",
       "    <tr>\n",
       "      <th>4</th>\n",
       "      <td>3916</td>\n",
       "      <td>Merricks, Point Leo, Shoreham</td>\n",
       "      <td>32.6</td>\n",
       "      <td>163</td>\n",
       "      <td>-38.352358</td>\n",
       "      <td>145.202950</td>\n",
       "      <td>61.551920</td>\n",
       "      <td>2</td>\n",
       "      <td>0</td>\n",
       "      <td>5</td>\n",
       "      <td>0</td>\n",
       "    </tr>\n",
       "  </tbody>\n",
       "</table>\n",
       "</div>"
      ],
      "text/plain": [
       "   Postcode                     SuburbName  MeanCrimes  SumCrimes   Latitude  \\\n",
       "0      3891              Koo Wee Rup North         6.8         34 -38.195056   \n",
       "1      3920                  HMAS Cerberus        10.4         52 -38.392347   \n",
       "2      3928                     Main Ridge        11.2         56 -38.193810   \n",
       "3      3430                    Clarkefield        20.0        100 -37.465415   \n",
       "4      3916  Merricks, Point Leo, Shoreham        32.6        163 -38.352358   \n",
       "\n",
       "    Longitude  DistCityCenter  Schools  Parks  Stations  Restaurants  \n",
       "0  145.173962       44.273578        3      2         2            0  \n",
       "1  145.172650       65.045797        0      0         0            0  \n",
       "2  145.095732       41.983425        3      1         2            0  \n",
       "3  144.769603       44.332088        0      0         1            0  \n",
       "4  145.202950       61.551920        2      0         5            0  "
      ]
     },
     "execution_count": 5,
     "metadata": {},
     "output_type": "execute_result"
    }
   ],
   "source": [
    "bestSuburbsDf = searchRangeDf.sort_values(by=['MeanCrimes'], ascending=True)\n",
    "bestSuburbsDf.reset_index(inplace= True, drop=True)\n",
    "bestSuburbsDf.head(5)"
   ]
  },
  {
   "cell_type": "code",
   "execution_count": 6,
   "metadata": {},
   "outputs": [
    {
     "data": {
      "text/html": [
       "<div>\n",
       "<style>\n",
       "    .dataframe thead tr:only-child th {\n",
       "        text-align: right;\n",
       "    }\n",
       "\n",
       "    .dataframe thead th {\n",
       "        text-align: left;\n",
       "    }\n",
       "\n",
       "    .dataframe tbody tr th {\n",
       "        vertical-align: top;\n",
       "    }\n",
       "</style>\n",
       "<table border=\"1\" class=\"dataframe\">\n",
       "  <thead>\n",
       "    <tr style=\"text-align: right;\">\n",
       "      <th></th>\n",
       "      <th>Postcode</th>\n",
       "      <th>SuburbName</th>\n",
       "      <th>MeanCrimes</th>\n",
       "      <th>SumCrimes</th>\n",
       "      <th>Latitude</th>\n",
       "      <th>Longitude</th>\n",
       "      <th>DistCityCenter</th>\n",
       "      <th>Schools</th>\n",
       "      <th>Parks</th>\n",
       "      <th>Stations</th>\n",
       "      <th>Restaurants</th>\n",
       "    </tr>\n",
       "  </thead>\n",
       "  <tbody>\n",
       "    <tr>\n",
       "      <th>0</th>\n",
       "      <td>3000</td>\n",
       "      <td>Melbourne CBD</td>\n",
       "      <td>22600.6</td>\n",
       "      <td>113003</td>\n",
       "      <td>-37.814182</td>\n",
       "      <td>144.959801</td>\n",
       "      <td>2.306228</td>\n",
       "      <td>25</td>\n",
       "      <td>9</td>\n",
       "      <td>15</td>\n",
       "      <td>43</td>\n",
       "    </tr>\n",
       "    <tr>\n",
       "      <th>1</th>\n",
       "      <td>3175</td>\n",
       "      <td>Dandenong, Dandenong North, Dandenong South, B...</td>\n",
       "      <td>9649.4</td>\n",
       "      <td>48247</td>\n",
       "      <td>-38.004928</td>\n",
       "      <td>145.205537</td>\n",
       "      <td>27.952748</td>\n",
       "      <td>4</td>\n",
       "      <td>1</td>\n",
       "      <td>2</td>\n",
       "      <td>17</td>\n",
       "    </tr>\n",
       "    <tr>\n",
       "      <th>2</th>\n",
       "      <td>3199</td>\n",
       "      <td>Frankston, Frankston South</td>\n",
       "      <td>8345.6</td>\n",
       "      <td>41728</td>\n",
       "      <td>-38.160488</td>\n",
       "      <td>145.128222</td>\n",
       "      <td>39.247771</td>\n",
       "      <td>13</td>\n",
       "      <td>7</td>\n",
       "      <td>2</td>\n",
       "      <td>0</td>\n",
       "    </tr>\n",
       "    <tr>\n",
       "      <th>3</th>\n",
       "      <td>3030</td>\n",
       "      <td>Derrimut, Point Cook, Werribee, Werribee South...</td>\n",
       "      <td>6321.0</td>\n",
       "      <td>31605</td>\n",
       "      <td>-37.912310</td>\n",
       "      <td>144.698509</td>\n",
       "      <td>26.440646</td>\n",
       "      <td>4</td>\n",
       "      <td>9</td>\n",
       "      <td>2</td>\n",
       "      <td>0</td>\n",
       "    </tr>\n",
       "    <tr>\n",
       "      <th>4</th>\n",
       "      <td>3020</td>\n",
       "      <td>Albion, Sunshine, Sunshine North, Sunshine West</td>\n",
       "      <td>6172.8</td>\n",
       "      <td>30864</td>\n",
       "      <td>-37.782001</td>\n",
       "      <td>144.824409</td>\n",
       "      <td>14.570361</td>\n",
       "      <td>8</td>\n",
       "      <td>9</td>\n",
       "      <td>4</td>\n",
       "      <td>13</td>\n",
       "    </tr>\n",
       "  </tbody>\n",
       "</table>\n",
       "</div>"
      ],
      "text/plain": [
       "   Postcode                                         SuburbName  MeanCrimes  \\\n",
       "0      3000                                      Melbourne CBD     22600.6   \n",
       "1      3175  Dandenong, Dandenong North, Dandenong South, B...      9649.4   \n",
       "2      3199                         Frankston, Frankston South      8345.6   \n",
       "3      3030  Derrimut, Point Cook, Werribee, Werribee South...      6321.0   \n",
       "4      3020    Albion, Sunshine, Sunshine North, Sunshine West      6172.8   \n",
       "\n",
       "   SumCrimes   Latitude   Longitude  DistCityCenter  Schools  Parks  Stations  \\\n",
       "0     113003 -37.814182  144.959801        2.306228       25      9        15   \n",
       "1      48247 -38.004928  145.205537       27.952748        4      1         2   \n",
       "2      41728 -38.160488  145.128222       39.247771       13      7         2   \n",
       "3      31605 -37.912310  144.698509       26.440646        4      9         2   \n",
       "4      30864 -37.782001  144.824409       14.570361        8      9         4   \n",
       "\n",
       "   Restaurants  \n",
       "0           43  \n",
       "1           17  \n",
       "2            0  \n",
       "3            0  \n",
       "4           13  "
      ]
     },
     "execution_count": 6,
     "metadata": {},
     "output_type": "execute_result"
    }
   ],
   "source": [
    "# Identifying worse suburbs\n",
    "worseSuburbsDf=melbourneDf.sort_values(by=['MeanCrimes'], ascending= False)\n",
    "worseSuburbsDf.reset_index(inplace= True, drop=True)\n",
    "worseSuburbsDf.head()"
   ]
  },
  {
   "cell_type": "code",
   "execution_count": 7,
   "metadata": {
    "collapsed": true
   },
   "outputs": [],
   "source": [
    "# Saving suburbs on a CSV\n",
    "worseSuburbsDf.to_csv(\"Data\\\\worse_suburbs.csv\", index= False)\n",
    "bestSuburbsDf.to_csv(\"Data\\\\best_suburbs.csv\", index= False)"
   ]
  },
  {
   "cell_type": "markdown",
   "metadata": {},
   "source": [
    "## Plot suburbs on maps"
   ]
  },
  {
   "cell_type": "code",
   "execution_count": 8,
   "metadata": {
    "collapsed": true
   },
   "outputs": [],
   "source": [
    "import collections\n",
    "from collections import namedtuple\n",
    "\n",
    "def get_bearing(p1, p2):\n",
    "    \n",
    "    '''\n",
    "    Returns compass bearing from p1 to p2\n",
    "    \n",
    "    Parameters\n",
    "    p1 : namedtuple with lat lon\n",
    "    p2 : namedtuple with lat lon\n",
    "    \n",
    "    Return\n",
    "    compass bearing of type float\n",
    "    \n",
    "    Notes\n",
    "    Based on https://gist.github.com/jeromer/2005586\n",
    "    '''\n",
    "    \n",
    "    long_diff = np.radians(p2.lon - p1.lon)\n",
    "    \n",
    "    lat1 = np.radians(p1.lat)\n",
    "    lat2 = np.radians(p2.lat)\n",
    "    \n",
    "    x = np.sin(long_diff) * np.cos(lat2)\n",
    "    y = (np.cos(lat1) * np.sin(lat2) \n",
    "        - (np.sin(lat1) * np.cos(lat2) \n",
    "        * np.cos(long_diff)))\n",
    "    bearing = np.degrees(np.arctan2(x, y))\n",
    "    \n",
    "    # adjusting for compass bearing\n",
    "    if bearing < 0:\n",
    "        return bearing + 360\n",
    "    return bearing\n",
    "\n",
    "def get_arrows(locations, color='green', size=10, n_arrows=1):\n",
    "    \n",
    "    '''\n",
    "    Get a list of correctly placed and rotated \n",
    "    arrows/markers to be plotted\n",
    "    \n",
    "    Parameters\n",
    "    locations : list of lists of lat lons that represent the \n",
    "                start and end of the line. \n",
    "                eg [[41.1132, -96.1993],[41.3810, -95.8021]]\n",
    "    arrow_color : default is 'blue'\n",
    "    size : default is 6\n",
    "    n_arrows : number of arrows to create.  default is 3\n",
    "    Return\n",
    "    list of arrows/markers\n",
    "    '''\n",
    "    \n",
    "    Point = namedtuple('Point', field_names=['lat', 'lon'])\n",
    "    \n",
    "    # creating point from our Point named tuple\n",
    "    p1 = Point(locations[0][0], locations[0][1])\n",
    "    p2 = Point(locations[1][0], locations[1][1])\n",
    "    \n",
    "    # getting the rotation needed for our marker.  \n",
    "    # Subtracting 90 to account for the marker's orientation\n",
    "    # of due East(get_bearing returns North)\n",
    "    rotation = get_bearing(p1, p2) - 90\n",
    "    \n",
    "    # get an evenly space list of lats and lons for our arrows\n",
    "    # note that I'm discarding the first and last for aesthetics\n",
    "    # as I'm using markers to denote the start and end\n",
    "    arrow_lats = np.linspace(p1.lat, p2.lat, n_arrows + 2)[1:n_arrows+1]\n",
    "    arrow_lons = np.linspace(p1.lon, p2.lon, n_arrows + 2)[1:n_arrows+1]\n",
    "    \n",
    "    arrows = []\n",
    "    \n",
    "    #creating each \"arrow\" and appending them to our arrows list\n",
    "    for points in zip(arrow_lats, arrow_lons):\n",
    "        arrows.append(folium.RegularPolygonMarker(location=points, \n",
    "                      fill_color='green',fill=True, fill_opacity=0.7,color='green',number_of_sides=3, \n",
    "                      radius=size, rotation=rotation))\n",
    "    return arrows\n",
    "\n"
   ]
  },
  {
   "cell_type": "code",
   "execution_count": 12,
   "metadata": {},
   "outputs": [
    {
     "data": {
      "text/html": [
       "<div style=\"width:100%;\"><div style=\"position:relative;width:100%;height:0;padding-bottom:60%;\"><iframe src=\"data:text/html;charset=utf-8;base64,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\" style=\"position:absolute;width:100%;height:100%;left:0;top:0;border:none !important;\" allowfullscreen webkitallowfullscreen mozallowfullscreen></iframe></div></div>"
      ],
      "text/plain": [
       "<folium.folium.Map at 0x1b1097abda0>"
      ]
     },
     "execution_count": 12,
     "metadata": {},
     "output_type": "execute_result"
    }
   ],
   "source": [
    "import folium\n",
    "import matplotlib.cm as cm\n",
    "import matplotlib.colors as colors\n",
    "from  geopy.geocoders import Nominatim\n",
    "import numpy as np\n",
    "\n",
    "geolocator = Nominatim(user_agent=\"explorer\")\n",
    "loc = geolocator.geocode('Melbourne City Center, Melbourne, Australia', timeout=100)\n",
    "melb_cc_latitude =loc.latitude\n",
    "melb_cc_longitude =loc.longitude\n",
    "\n",
    "# create map\n",
    "map = folium.Map(location=[melb_cc_latitude, melb_cc_longitude], zoom_start=8)\n",
    "\n",
    "# set color scheme for the clusters\n",
    "x = np.arange(10)\n",
    "ys = [i + x + (i*x)**2 for i in range(10)]\n",
    "colors_array = cm.tab10(np.linspace(0, 1, len(ys)))\n",
    "rainbow = [colors.rgb2hex(i) for i in colors_array]\n",
    "\n",
    "# add markers to the map\n",
    "markers_colors = []\n",
    "\n",
    "i=0\n",
    "for lat, lon, poi, dist in zip(bestSuburbsDf['Latitude'], bestSuburbsDf['Longitude'],\\\n",
    "                               bestSuburbsDf['SuburbName'], bestSuburbsDf['DistCityCenter']):\n",
    "    label = folium.Popup(str(poi), parse_html=True,fill_color=rainbow[i])\n",
    "    folium.Marker( location=[lat, lon], popup='%s [Distance from CBD=%0.3f]'%(poi,dist),\n",
    "                      color=rainbow[7], fill=True, \n",
    "                      fill_color=rainbow[7],fill_opacity=0.7).add_to(map)\n",
    "\n",
    "    if i==0:\n",
    "        folium.Marker(location=[lat,lon], icon=folium.Icon(color='green')).add_to(map)\n",
    "    p1= [melb_cc_latitude, melb_cc_longitude]\n",
    "    p2= [lat, lon]\n",
    "    folium.PolyLine(locations=[p1,p2 ], color='green').add_to(map)\n",
    "    arrows = get_arrows(locations=[p1, p2], n_arrows=1)\n",
    "    for arrow in arrows:\n",
    "        arrow.add_to(map)\n",
    "    i+=1\n",
    "    if i==5:\n",
    "        break\n",
    "\n",
    "\n",
    "map"
   ]
  },
  {
   "cell_type": "code",
   "execution_count": 14,
   "metadata": {},
   "outputs": [
    {
     "data": {
      "text/html": [
       "<div style=\"width:100%;\"><div style=\"position:relative;width:100%;height:0;padding-bottom:60%;\"><iframe src=\"data:text/html;charset=utf-8;base64,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\" style=\"position:absolute;width:100%;height:100%;left:0;top:0;border:none !important;\" allowfullscreen webkitallowfullscreen mozallowfullscreen></iframe></div></div>"
      ],
      "text/plain": [
       "<folium.folium.Map at 0x1b1097a30b8>"
      ]
     },
     "execution_count": 14,
     "metadata": {},
     "output_type": "execute_result"
    }
   ],
   "source": [
    "# Worse Suburbs\n",
    "# Displaying Worse Suburbs\n",
    "geolocator = Nominatim(user_agent=\"explorer\")\n",
    "loc = geolocator.geocode('Melbourne City Center, Melbourne, Australia', timeout=100)\n",
    "melb_cc_latitude =loc.latitude\n",
    "melb_cc_longitude =loc.longitude\n",
    "\n",
    "# create map\n",
    "wmap = folium.Map(location=[melb_cc_latitude, melb_cc_longitude], zoom_start=8)\n",
    "\n",
    "# set color scheme for the clusters\n",
    "x = np.arange(10)\n",
    "ys = [i + x + (i*x)**2 for i in range(10)]\n",
    "colors_array = cm.tab10(np.linspace(0, 1, len(ys)))\n",
    "rainbow = [colors.rgb2hex(i) for i in colors_array]\n",
    "\n",
    "# add markers to the map\n",
    "markers_colors = []\n",
    "\n",
    "\n",
    "i=0\n",
    "for lat, lon, poi,crime in zip(worseSuburbsDf['Latitude'], worseSuburbsDf['Longitude'],\\\n",
    "                               worseSuburbsDf['SuburbName'],worseSuburbsDf['MeanCrimes']):\n",
    "    label = folium.Popup(str(poi), parse_html=True)\n",
    "      \n",
    "    folium.CircleMarker(\n",
    "        [lat, lon],\n",
    "        radius=crime/1000,\n",
    "        popup=\"%0.1f\"%crime,\n",
    "        color='yellow',\n",
    "        fill=True,\n",
    "        fill_color='yellow',\n",
    "        fill_opacity=0.7).add_to(wmap)\n",
    "    i+=1\n",
    "    if i==5:\n",
    "        break\n",
    "wmap"
   ]
  },
  {
   "cell_type": "markdown",
   "metadata": {},
   "source": [
    "### Now finding the top 5 venues for each suburb"
   ]
  },
  {
   "cell_type": "markdown",
   "metadata": {},
   "source": [
    "For all top 5 suburbs, I first find the near by venues\n"
   ]
  },
  {
   "cell_type": "code",
   "execution_count": 132,
   "metadata": {},
   "outputs": [
    {
     "data": {
      "text/html": [
       "<div>\n",
       "<style>\n",
       "    .dataframe thead tr:only-child th {\n",
       "        text-align: right;\n",
       "    }\n",
       "\n",
       "    .dataframe thead th {\n",
       "        text-align: left;\n",
       "    }\n",
       "\n",
       "    .dataframe tbody tr th {\n",
       "        vertical-align: top;\n",
       "    }\n",
       "</style>\n",
       "<table border=\"1\" class=\"dataframe\">\n",
       "  <thead>\n",
       "    <tr style=\"text-align: right;\">\n",
       "      <th></th>\n",
       "      <th>Postcode</th>\n",
       "      <th>SuburbName</th>\n",
       "      <th>MeanCrimes</th>\n",
       "      <th>SumCrimes</th>\n",
       "      <th>Latitude</th>\n",
       "      <th>Longitude</th>\n",
       "      <th>DistCityCenter</th>\n",
       "      <th>Schools</th>\n",
       "      <th>Parks</th>\n",
       "      <th>Stations</th>\n",
       "      <th>Restaurants</th>\n",
       "    </tr>\n",
       "  </thead>\n",
       "  <tbody>\n",
       "    <tr>\n",
       "      <th>0</th>\n",
       "      <td>3891</td>\n",
       "      <td>Koo Wee Rup North</td>\n",
       "      <td>6.8</td>\n",
       "      <td>34</td>\n",
       "      <td>-38.195056</td>\n",
       "      <td>145.173962</td>\n",
       "      <td>44.273578</td>\n",
       "      <td>3</td>\n",
       "      <td>2</td>\n",
       "      <td>2</td>\n",
       "      <td>0</td>\n",
       "    </tr>\n",
       "    <tr>\n",
       "      <th>1</th>\n",
       "      <td>3920</td>\n",
       "      <td>HMAS Cerberus</td>\n",
       "      <td>10.4</td>\n",
       "      <td>52</td>\n",
       "      <td>-38.392347</td>\n",
       "      <td>145.172650</td>\n",
       "      <td>65.045797</td>\n",
       "      <td>0</td>\n",
       "      <td>0</td>\n",
       "      <td>0</td>\n",
       "      <td>0</td>\n",
       "    </tr>\n",
       "    <tr>\n",
       "      <th>2</th>\n",
       "      <td>3928</td>\n",
       "      <td>Main Ridge</td>\n",
       "      <td>11.2</td>\n",
       "      <td>56</td>\n",
       "      <td>-38.193810</td>\n",
       "      <td>145.095732</td>\n",
       "      <td>41.983425</td>\n",
       "      <td>3</td>\n",
       "      <td>1</td>\n",
       "      <td>2</td>\n",
       "      <td>0</td>\n",
       "    </tr>\n",
       "    <tr>\n",
       "      <th>3</th>\n",
       "      <td>3430</td>\n",
       "      <td>Clarkefield</td>\n",
       "      <td>20.0</td>\n",
       "      <td>100</td>\n",
       "      <td>-37.465415</td>\n",
       "      <td>144.769603</td>\n",
       "      <td>44.332088</td>\n",
       "      <td>0</td>\n",
       "      <td>0</td>\n",
       "      <td>1</td>\n",
       "      <td>0</td>\n",
       "    </tr>\n",
       "    <tr>\n",
       "      <th>4</th>\n",
       "      <td>3916</td>\n",
       "      <td>Merricks, Point Leo, Shoreham</td>\n",
       "      <td>32.6</td>\n",
       "      <td>163</td>\n",
       "      <td>-38.352358</td>\n",
       "      <td>145.202950</td>\n",
       "      <td>61.551920</td>\n",
       "      <td>2</td>\n",
       "      <td>0</td>\n",
       "      <td>5</td>\n",
       "      <td>0</td>\n",
       "    </tr>\n",
       "  </tbody>\n",
       "</table>\n",
       "</div>"
      ],
      "text/plain": [
       "   Postcode                     SuburbName  MeanCrimes  SumCrimes   Latitude  \\\n",
       "0      3891              Koo Wee Rup North         6.8         34 -38.195056   \n",
       "1      3920                  HMAS Cerberus        10.4         52 -38.392347   \n",
       "2      3928                     Main Ridge        11.2         56 -38.193810   \n",
       "3      3430                    Clarkefield        20.0        100 -37.465415   \n",
       "4      3916  Merricks, Point Leo, Shoreham        32.6        163 -38.352358   \n",
       "\n",
       "    Longitude  DistCityCenter  Schools  Parks  Stations  Restaurants  \n",
       "0  145.173962       44.273578        3      2         2            0  \n",
       "1  145.172650       65.045797        0      0         0            0  \n",
       "2  145.095732       41.983425        3      1         2            0  \n",
       "3  144.769603       44.332088        0      0         1            0  \n",
       "4  145.202950       61.551920        2      0         5            0  "
      ]
     },
     "execution_count": 132,
     "metadata": {},
     "output_type": "execute_result"
    }
   ],
   "source": [
    "# Lets explore the data with in 10 KM of our best suburb \n",
    "LIMIT =100\n",
    "radius =1000\n",
    "CLIENT_ID = 'GHAF50FYPZ2B5IXEGKEIWLSWSXLZDQOQ15U34SMFD2DMLVY0' # your Foursquare ID\n",
    "CLIENT_SECRET = 'VAJIFHATMH0QX4BWTWNGWONSZGLE2AZKN3V3YHMCNHYZRRIX' # your Foursquare Secret\n",
    "VERSION = '20190815'\n",
    "\n",
    "bestSuburbsDf.head()"
   ]
  },
  {
   "cell_type": "code",
   "execution_count": 133,
   "metadata": {
    "collapsed": true
   },
   "outputs": [],
   "source": [
    "# function that extracts the category of the venue\n",
    "def get_category_type(row):\n",
    "    try:\n",
    "        categories_list = row['categories']\n",
    "    except:\n",
    "        categories_list = row['venue.categories']\n",
    "        \n",
    "    if len(categories_list) == 0:\n",
    "        return None\n",
    "    else:\n",
    "        return categories_list[0]['name']"
   ]
  },
  {
   "cell_type": "code",
   "execution_count": 134,
   "metadata": {
    "collapsed": true
   },
   "outputs": [],
   "source": [
    "def getNearbyVenues(names, latitudes, longitudes, radius=10000):\n",
    "    \n",
    "    venues_list=[]\n",
    "    for name, lat, lng in zip(names, latitudes, longitudes):\n",
    "        print(name)\n",
    "            \n",
    "        # create the API request URL\n",
    "        url = 'https://api.foursquare.com/v2/venues/explore?&client_id={}&client_secret={}&v={}&ll={},{}&radius={}&limit={}'.format(\n",
    "            CLIENT_ID, \n",
    "            CLIENT_SECRET, \n",
    "            VERSION, \n",
    "            lat, \n",
    "            lng, \n",
    "            radius, \n",
    "            LIMIT)\n",
    "        # make the GET request\n",
    "        results = requests.get(url).json()[\"response\"]['groups'][0]['items']\n",
    "        \n",
    "        # return only relevant information for each nearby venue\n",
    "        venues_list.append([(\n",
    "            name, \n",
    "            lat, \n",
    "            lng, \n",
    "            v['venue']['name'], \n",
    "            v['venue']['location']['lat'], \n",
    "            v['venue']['location']['lng'],  \n",
    "            v['venue']['categories'][0]['name']) for v in results])\n",
    "\n",
    "    nearby_venues = pd.DataFrame([item for venue_list in venues_list for item in venue_list])\n",
    "    nearby_venues.columns = ['SuburbName', \n",
    "                  'Suburb Latitude', \n",
    "                  'Suburb Longitude', \n",
    "                  'Venue', \n",
    "                  'Venue Latitude', \n",
    "                  'Venue Longitude', \n",
    "                  'Venue Category']\n",
    "    \n",
    "    return(nearby_venues)"
   ]
  },
  {
   "cell_type": "code",
   "execution_count": 136,
   "metadata": {},
   "outputs": [
    {
     "name": "stdout",
     "output_type": "stream",
     "text": [
      "Koo Wee Rup North\n",
      "HMAS Cerberus\n",
      "Main Ridge\n",
      "Clarkefield\n",
      "Merricks, Point Leo, Shoreham\n"
     ]
    }
   ],
   "source": [
    "# type your answer here\n",
    "top_5_suburbs = bestSuburbsDf.head()\n",
    "melbourne_suburb_venues = getNearbyVenues(names=top_5_suburbs['SuburbName'],\n",
    "                                   latitudes=top_5_suburbs['Latitude'],\n",
    "                                   longitudes=top_5_suburbs['Longitude']\n",
    "                                  )\n",
    "\n"
   ]
  },
  {
   "cell_type": "code",
   "execution_count": 137,
   "metadata": {},
   "outputs": [
    {
     "data": {
      "text/html": [
       "<div>\n",
       "<style>\n",
       "    .dataframe thead tr:only-child th {\n",
       "        text-align: right;\n",
       "    }\n",
       "\n",
       "    .dataframe thead th {\n",
       "        text-align: left;\n",
       "    }\n",
       "\n",
       "    .dataframe tbody tr th {\n",
       "        vertical-align: top;\n",
       "    }\n",
       "</style>\n",
       "<table border=\"1\" class=\"dataframe\">\n",
       "  <thead>\n",
       "    <tr style=\"text-align: right;\">\n",
       "      <th></th>\n",
       "      <th>SuburbName</th>\n",
       "      <th>Suburb Latitude</th>\n",
       "      <th>Suburb Longitude</th>\n",
       "      <th>Venue</th>\n",
       "      <th>Venue Latitude</th>\n",
       "      <th>Venue Longitude</th>\n",
       "      <th>Venue Category</th>\n",
       "    </tr>\n",
       "  </thead>\n",
       "  <tbody>\n",
       "    <tr>\n",
       "      <th>0</th>\n",
       "      <td>Koo Wee Rup North</td>\n",
       "      <td>-38.195056</td>\n",
       "      <td>145.173962</td>\n",
       "      <td>Ballam Park Reserve</td>\n",
       "      <td>-38.150487</td>\n",
       "      <td>145.160723</td>\n",
       "      <td>Playground</td>\n",
       "    </tr>\n",
       "    <tr>\n",
       "      <th>1</th>\n",
       "      <td>Koo Wee Rup North</td>\n",
       "      <td>-38.195056</td>\n",
       "      <td>145.173962</td>\n",
       "      <td>Moonlit Sanctuary</td>\n",
       "      <td>-38.211718</td>\n",
       "      <td>145.251077</td>\n",
       "      <td>Zoo</td>\n",
       "    </tr>\n",
       "    <tr>\n",
       "      <th>2</th>\n",
       "      <td>Koo Wee Rup North</td>\n",
       "      <td>-38.195056</td>\n",
       "      <td>145.173962</td>\n",
       "      <td>AMF Bowling</td>\n",
       "      <td>-38.151316</td>\n",
       "      <td>145.154816</td>\n",
       "      <td>Bowling Alley</td>\n",
       "    </tr>\n",
       "    <tr>\n",
       "      <th>3</th>\n",
       "      <td>Koo Wee Rup North</td>\n",
       "      <td>-38.195056</td>\n",
       "      <td>145.173962</td>\n",
       "      <td>McClelland Sculpture Park &amp; Gallery</td>\n",
       "      <td>-38.145931</td>\n",
       "      <td>145.176392</td>\n",
       "      <td>Art Gallery</td>\n",
       "    </tr>\n",
       "    <tr>\n",
       "      <th>4</th>\n",
       "      <td>Koo Wee Rup North</td>\n",
       "      <td>-38.195056</td>\n",
       "      <td>145.173962</td>\n",
       "      <td>Frankston Waterfront</td>\n",
       "      <td>-38.146582</td>\n",
       "      <td>145.117089</td>\n",
       "      <td>Beach</td>\n",
       "    </tr>\n",
       "  </tbody>\n",
       "</table>\n",
       "</div>"
      ],
      "text/plain": [
       "          SuburbName  Suburb Latitude  Suburb Longitude  \\\n",
       "0  Koo Wee Rup North       -38.195056        145.173962   \n",
       "1  Koo Wee Rup North       -38.195056        145.173962   \n",
       "2  Koo Wee Rup North       -38.195056        145.173962   \n",
       "3  Koo Wee Rup North       -38.195056        145.173962   \n",
       "4  Koo Wee Rup North       -38.195056        145.173962   \n",
       "\n",
       "                                 Venue  Venue Latitude  Venue Longitude  \\\n",
       "0                  Ballam Park Reserve      -38.150487       145.160723   \n",
       "1                    Moonlit Sanctuary      -38.211718       145.251077   \n",
       "2                          AMF Bowling      -38.151316       145.154816   \n",
       "3  McClelland Sculpture Park & Gallery      -38.145931       145.176392   \n",
       "4                 Frankston Waterfront      -38.146582       145.117089   \n",
       "\n",
       "  Venue Category  \n",
       "0     Playground  \n",
       "1            Zoo  \n",
       "2  Bowling Alley  \n",
       "3    Art Gallery  \n",
       "4          Beach  "
      ]
     },
     "execution_count": 137,
     "metadata": {},
     "output_type": "execute_result"
    }
   ],
   "source": [
    "melbourne_suburb_venues.head()"
   ]
  },
  {
   "cell_type": "code",
   "execution_count": 138,
   "metadata": {},
   "outputs": [
    {
     "data": {
      "text/html": [
       "<div>\n",
       "<style>\n",
       "    .dataframe thead tr:only-child th {\n",
       "        text-align: right;\n",
       "    }\n",
       "\n",
       "    .dataframe thead th {\n",
       "        text-align: left;\n",
       "    }\n",
       "\n",
       "    .dataframe tbody tr th {\n",
       "        vertical-align: top;\n",
       "    }\n",
       "</style>\n",
       "<table border=\"1\" class=\"dataframe\">\n",
       "  <thead>\n",
       "    <tr style=\"text-align: right;\">\n",
       "      <th></th>\n",
       "      <th>Suburb Latitude</th>\n",
       "      <th>Suburb Longitude</th>\n",
       "      <th>Venue</th>\n",
       "      <th>Venue Latitude</th>\n",
       "      <th>Venue Longitude</th>\n",
       "      <th>Venue Category</th>\n",
       "    </tr>\n",
       "    <tr>\n",
       "      <th>SuburbName</th>\n",
       "      <th></th>\n",
       "      <th></th>\n",
       "      <th></th>\n",
       "      <th></th>\n",
       "      <th></th>\n",
       "      <th></th>\n",
       "    </tr>\n",
       "  </thead>\n",
       "  <tbody>\n",
       "    <tr>\n",
       "      <th>Clarkefield</th>\n",
       "      <td>5</td>\n",
       "      <td>5</td>\n",
       "      <td>5</td>\n",
       "      <td>5</td>\n",
       "      <td>5</td>\n",
       "      <td>5</td>\n",
       "    </tr>\n",
       "    <tr>\n",
       "      <th>HMAS Cerberus</th>\n",
       "      <td>48</td>\n",
       "      <td>48</td>\n",
       "      <td>48</td>\n",
       "      <td>48</td>\n",
       "      <td>48</td>\n",
       "      <td>48</td>\n",
       "    </tr>\n",
       "    <tr>\n",
       "      <th>Koo Wee Rup North</th>\n",
       "      <td>100</td>\n",
       "      <td>100</td>\n",
       "      <td>100</td>\n",
       "      <td>100</td>\n",
       "      <td>100</td>\n",
       "      <td>100</td>\n",
       "    </tr>\n",
       "    <tr>\n",
       "      <th>Main Ridge</th>\n",
       "      <td>100</td>\n",
       "      <td>100</td>\n",
       "      <td>100</td>\n",
       "      <td>100</td>\n",
       "      <td>100</td>\n",
       "      <td>100</td>\n",
       "    </tr>\n",
       "    <tr>\n",
       "      <th>Merricks, Point Leo, Shoreham</th>\n",
       "      <td>21</td>\n",
       "      <td>21</td>\n",
       "      <td>21</td>\n",
       "      <td>21</td>\n",
       "      <td>21</td>\n",
       "      <td>21</td>\n",
       "    </tr>\n",
       "  </tbody>\n",
       "</table>\n",
       "</div>"
      ],
      "text/plain": [
       "                               Suburb Latitude  Suburb Longitude  Venue  \\\n",
       "SuburbName                                                                \n",
       "Clarkefield                                  5                 5      5   \n",
       "HMAS Cerberus                               48                48     48   \n",
       "Koo Wee Rup North                          100               100    100   \n",
       "Main Ridge                                 100               100    100   \n",
       "Merricks, Point Leo, Shoreham               21                21     21   \n",
       "\n",
       "                               Venue Latitude  Venue Longitude  Venue Category  \n",
       "SuburbName                                                                      \n",
       "Clarkefield                                 5                5               5  \n",
       "HMAS Cerberus                              48               48              48  \n",
       "Koo Wee Rup North                         100              100             100  \n",
       "Main Ridge                                100              100             100  \n",
       "Merricks, Point Leo, Shoreham              21               21              21  "
      ]
     },
     "execution_count": 138,
     "metadata": {},
     "output_type": "execute_result"
    }
   ],
   "source": [
    "#Let's check how many venues were returned for each suburb\n",
    "melbourne_suburb_venues.groupby('SuburbName').count()"
   ]
  },
  {
   "cell_type": "markdown",
   "metadata": {},
   "source": [
    "#### Let's find out how many unique categories can be curated from all the returned venues"
   ]
  },
  {
   "cell_type": "code",
   "execution_count": 140,
   "metadata": {},
   "outputs": [
    {
     "name": "stdout",
     "output_type": "stream",
     "text": [
      "There are 66 uniques categories.\n"
     ]
    }
   ],
   "source": [
    "print('There are {} uniques categories.'.format(len(melbourne_suburb_venues['Venue Category'].unique())))"
   ]
  },
  {
   "cell_type": "markdown",
   "metadata": {},
   "source": [
    "### Analyze Each Neighborhood"
   ]
  },
  {
   "cell_type": "code",
   "execution_count": 141,
   "metadata": {},
   "outputs": [
    {
     "data": {
      "text/html": [
       "<div>\n",
       "<style>\n",
       "    .dataframe thead tr:only-child th {\n",
       "        text-align: right;\n",
       "    }\n",
       "\n",
       "    .dataframe thead th {\n",
       "        text-align: left;\n",
       "    }\n",
       "\n",
       "    .dataframe tbody tr th {\n",
       "        vertical-align: top;\n",
       "    }\n",
       "</style>\n",
       "<table border=\"1\" class=\"dataframe\">\n",
       "  <thead>\n",
       "    <tr style=\"text-align: right;\">\n",
       "      <th></th>\n",
       "      <th>SuburbName</th>\n",
       "      <th>Airport</th>\n",
       "      <th>Antique Shop</th>\n",
       "      <th>Art Gallery</th>\n",
       "      <th>Asian Restaurant</th>\n",
       "      <th>Australian Restaurant</th>\n",
       "      <th>Auto Workshop</th>\n",
       "      <th>Bakery</th>\n",
       "      <th>Bar</th>\n",
       "      <th>Basketball Stadium</th>\n",
       "      <th>...</th>\n",
       "      <th>Scenic Lookout</th>\n",
       "      <th>Seafood Restaurant</th>\n",
       "      <th>Shopping Mall</th>\n",
       "      <th>Steakhouse</th>\n",
       "      <th>Supermarket</th>\n",
       "      <th>Thai Restaurant</th>\n",
       "      <th>Theater</th>\n",
       "      <th>Train Station</th>\n",
       "      <th>Zoo</th>\n",
       "      <th>Zoo Exhibit</th>\n",
       "    </tr>\n",
       "  </thead>\n",
       "  <tbody>\n",
       "    <tr>\n",
       "      <th>0</th>\n",
       "      <td>Koo Wee Rup North</td>\n",
       "      <td>0</td>\n",
       "      <td>0</td>\n",
       "      <td>0</td>\n",
       "      <td>0</td>\n",
       "      <td>0</td>\n",
       "      <td>0</td>\n",
       "      <td>0</td>\n",
       "      <td>0</td>\n",
       "      <td>0</td>\n",
       "      <td>...</td>\n",
       "      <td>0</td>\n",
       "      <td>0</td>\n",
       "      <td>0</td>\n",
       "      <td>0</td>\n",
       "      <td>0</td>\n",
       "      <td>0</td>\n",
       "      <td>0</td>\n",
       "      <td>0</td>\n",
       "      <td>0</td>\n",
       "      <td>0</td>\n",
       "    </tr>\n",
       "    <tr>\n",
       "      <th>1</th>\n",
       "      <td>Koo Wee Rup North</td>\n",
       "      <td>0</td>\n",
       "      <td>0</td>\n",
       "      <td>0</td>\n",
       "      <td>0</td>\n",
       "      <td>0</td>\n",
       "      <td>0</td>\n",
       "      <td>0</td>\n",
       "      <td>0</td>\n",
       "      <td>0</td>\n",
       "      <td>...</td>\n",
       "      <td>0</td>\n",
       "      <td>0</td>\n",
       "      <td>0</td>\n",
       "      <td>0</td>\n",
       "      <td>0</td>\n",
       "      <td>0</td>\n",
       "      <td>0</td>\n",
       "      <td>0</td>\n",
       "      <td>1</td>\n",
       "      <td>0</td>\n",
       "    </tr>\n",
       "    <tr>\n",
       "      <th>2</th>\n",
       "      <td>Koo Wee Rup North</td>\n",
       "      <td>0</td>\n",
       "      <td>0</td>\n",
       "      <td>0</td>\n",
       "      <td>0</td>\n",
       "      <td>0</td>\n",
       "      <td>0</td>\n",
       "      <td>0</td>\n",
       "      <td>0</td>\n",
       "      <td>0</td>\n",
       "      <td>...</td>\n",
       "      <td>0</td>\n",
       "      <td>0</td>\n",
       "      <td>0</td>\n",
       "      <td>0</td>\n",
       "      <td>0</td>\n",
       "      <td>0</td>\n",
       "      <td>0</td>\n",
       "      <td>0</td>\n",
       "      <td>0</td>\n",
       "      <td>0</td>\n",
       "    </tr>\n",
       "    <tr>\n",
       "      <th>3</th>\n",
       "      <td>Koo Wee Rup North</td>\n",
       "      <td>0</td>\n",
       "      <td>0</td>\n",
       "      <td>1</td>\n",
       "      <td>0</td>\n",
       "      <td>0</td>\n",
       "      <td>0</td>\n",
       "      <td>0</td>\n",
       "      <td>0</td>\n",
       "      <td>0</td>\n",
       "      <td>...</td>\n",
       "      <td>0</td>\n",
       "      <td>0</td>\n",
       "      <td>0</td>\n",
       "      <td>0</td>\n",
       "      <td>0</td>\n",
       "      <td>0</td>\n",
       "      <td>0</td>\n",
       "      <td>0</td>\n",
       "      <td>0</td>\n",
       "      <td>0</td>\n",
       "    </tr>\n",
       "    <tr>\n",
       "      <th>4</th>\n",
       "      <td>Koo Wee Rup North</td>\n",
       "      <td>0</td>\n",
       "      <td>0</td>\n",
       "      <td>0</td>\n",
       "      <td>0</td>\n",
       "      <td>0</td>\n",
       "      <td>0</td>\n",
       "      <td>0</td>\n",
       "      <td>0</td>\n",
       "      <td>0</td>\n",
       "      <td>...</td>\n",
       "      <td>0</td>\n",
       "      <td>0</td>\n",
       "      <td>0</td>\n",
       "      <td>0</td>\n",
       "      <td>0</td>\n",
       "      <td>0</td>\n",
       "      <td>0</td>\n",
       "      <td>0</td>\n",
       "      <td>0</td>\n",
       "      <td>0</td>\n",
       "    </tr>\n",
       "  </tbody>\n",
       "</table>\n",
       "<p>5 rows × 67 columns</p>\n",
       "</div>"
      ],
      "text/plain": [
       "          SuburbName  Airport  Antique Shop  Art Gallery  Asian Restaurant  \\\n",
       "0  Koo Wee Rup North        0             0            0                 0   \n",
       "1  Koo Wee Rup North        0             0            0                 0   \n",
       "2  Koo Wee Rup North        0             0            0                 0   \n",
       "3  Koo Wee Rup North        0             0            1                 0   \n",
       "4  Koo Wee Rup North        0             0            0                 0   \n",
       "\n",
       "   Australian Restaurant  Auto Workshop  Bakery  Bar  Basketball Stadium  \\\n",
       "0                      0              0       0    0                   0   \n",
       "1                      0              0       0    0                   0   \n",
       "2                      0              0       0    0                   0   \n",
       "3                      0              0       0    0                   0   \n",
       "4                      0              0       0    0                   0   \n",
       "\n",
       "      ...       Scenic Lookout  Seafood Restaurant  Shopping Mall  Steakhouse  \\\n",
       "0     ...                    0                   0              0           0   \n",
       "1     ...                    0                   0              0           0   \n",
       "2     ...                    0                   0              0           0   \n",
       "3     ...                    0                   0              0           0   \n",
       "4     ...                    0                   0              0           0   \n",
       "\n",
       "   Supermarket  Thai Restaurant  Theater  Train Station  Zoo  Zoo Exhibit  \n",
       "0            0                0        0              0    0            0  \n",
       "1            0                0        0              0    1            0  \n",
       "2            0                0        0              0    0            0  \n",
       "3            0                0        0              0    0            0  \n",
       "4            0                0        0              0    0            0  \n",
       "\n",
       "[5 rows x 67 columns]"
      ]
     },
     "execution_count": 141,
     "metadata": {},
     "output_type": "execute_result"
    }
   ],
   "source": [
    "# one hot encoding\n",
    "melbourne_onehot = pd.get_dummies(melbourne_suburb_venues[['Venue Category']], prefix=\"\", prefix_sep=\"\")\n",
    "\n",
    "# add neighborhood column back to dataframe\n",
    "melbourne_onehot['SuburbName'] = melbourne_suburb_venues['SuburbName'] \n",
    "\n",
    "# move neighborhood column to the first column\n",
    "fixed_columns = [melbourne_onehot.columns[-1]] + list(melbourne_onehot.columns[:-1])\n",
    "melbourne_onehot = melbourne_onehot[fixed_columns]\n",
    "\n",
    "melbourne_onehot.head()"
   ]
  },
  {
   "cell_type": "markdown",
   "metadata": {},
   "source": [
    "#### Next, let's group rows by suburb and by taking the mean of the frequency of occurrence of each category"
   ]
  },
  {
   "cell_type": "code",
   "execution_count": 142,
   "metadata": {},
   "outputs": [
    {
     "data": {
      "text/html": [
       "<div>\n",
       "<style>\n",
       "    .dataframe thead tr:only-child th {\n",
       "        text-align: right;\n",
       "    }\n",
       "\n",
       "    .dataframe thead th {\n",
       "        text-align: left;\n",
       "    }\n",
       "\n",
       "    .dataframe tbody tr th {\n",
       "        vertical-align: top;\n",
       "    }\n",
       "</style>\n",
       "<table border=\"1\" class=\"dataframe\">\n",
       "  <thead>\n",
       "    <tr style=\"text-align: right;\">\n",
       "      <th></th>\n",
       "      <th>SuburbName</th>\n",
       "      <th>Airport</th>\n",
       "      <th>Antique Shop</th>\n",
       "      <th>Art Gallery</th>\n",
       "      <th>Asian Restaurant</th>\n",
       "      <th>Australian Restaurant</th>\n",
       "      <th>Auto Workshop</th>\n",
       "      <th>Bakery</th>\n",
       "      <th>Bar</th>\n",
       "      <th>Basketball Stadium</th>\n",
       "      <th>...</th>\n",
       "      <th>Scenic Lookout</th>\n",
       "      <th>Seafood Restaurant</th>\n",
       "      <th>Shopping Mall</th>\n",
       "      <th>Steakhouse</th>\n",
       "      <th>Supermarket</th>\n",
       "      <th>Thai Restaurant</th>\n",
       "      <th>Theater</th>\n",
       "      <th>Train Station</th>\n",
       "      <th>Zoo</th>\n",
       "      <th>Zoo Exhibit</th>\n",
       "    </tr>\n",
       "  </thead>\n",
       "  <tbody>\n",
       "    <tr>\n",
       "      <th>0</th>\n",
       "      <td>Clarkefield</td>\n",
       "      <td>0.000000</td>\n",
       "      <td>0.00</td>\n",
       "      <td>0.00</td>\n",
       "      <td>0.000000</td>\n",
       "      <td>0.000000</td>\n",
       "      <td>0.00</td>\n",
       "      <td>0.000000</td>\n",
       "      <td>0.20</td>\n",
       "      <td>0.00</td>\n",
       "      <td>...</td>\n",
       "      <td>0.00</td>\n",
       "      <td>0.000000</td>\n",
       "      <td>0.00</td>\n",
       "      <td>0.00</td>\n",
       "      <td>0.000000</td>\n",
       "      <td>0.200000</td>\n",
       "      <td>0.00</td>\n",
       "      <td>0.200000</td>\n",
       "      <td>0.00</td>\n",
       "      <td>0.00</td>\n",
       "    </tr>\n",
       "    <tr>\n",
       "      <th>1</th>\n",
       "      <td>HMAS Cerberus</td>\n",
       "      <td>0.000000</td>\n",
       "      <td>0.00</td>\n",
       "      <td>0.00</td>\n",
       "      <td>0.020833</td>\n",
       "      <td>0.062500</td>\n",
       "      <td>0.00</td>\n",
       "      <td>0.041667</td>\n",
       "      <td>0.00</td>\n",
       "      <td>0.00</td>\n",
       "      <td>...</td>\n",
       "      <td>0.00</td>\n",
       "      <td>0.041667</td>\n",
       "      <td>0.00</td>\n",
       "      <td>0.00</td>\n",
       "      <td>0.041667</td>\n",
       "      <td>0.020833</td>\n",
       "      <td>0.00</td>\n",
       "      <td>0.020833</td>\n",
       "      <td>0.00</td>\n",
       "      <td>0.00</td>\n",
       "    </tr>\n",
       "    <tr>\n",
       "      <th>2</th>\n",
       "      <td>Koo Wee Rup North</td>\n",
       "      <td>0.000000</td>\n",
       "      <td>0.01</td>\n",
       "      <td>0.01</td>\n",
       "      <td>0.000000</td>\n",
       "      <td>0.010000</td>\n",
       "      <td>0.01</td>\n",
       "      <td>0.000000</td>\n",
       "      <td>0.01</td>\n",
       "      <td>0.01</td>\n",
       "      <td>...</td>\n",
       "      <td>0.01</td>\n",
       "      <td>0.010000</td>\n",
       "      <td>0.04</td>\n",
       "      <td>0.01</td>\n",
       "      <td>0.050000</td>\n",
       "      <td>0.010000</td>\n",
       "      <td>0.01</td>\n",
       "      <td>0.000000</td>\n",
       "      <td>0.01</td>\n",
       "      <td>0.01</td>\n",
       "    </tr>\n",
       "    <tr>\n",
       "      <th>3</th>\n",
       "      <td>Main Ridge</td>\n",
       "      <td>0.000000</td>\n",
       "      <td>0.00</td>\n",
       "      <td>0.01</td>\n",
       "      <td>0.000000</td>\n",
       "      <td>0.010000</td>\n",
       "      <td>0.00</td>\n",
       "      <td>0.000000</td>\n",
       "      <td>0.01</td>\n",
       "      <td>0.01</td>\n",
       "      <td>...</td>\n",
       "      <td>0.01</td>\n",
       "      <td>0.020000</td>\n",
       "      <td>0.02</td>\n",
       "      <td>0.01</td>\n",
       "      <td>0.060000</td>\n",
       "      <td>0.010000</td>\n",
       "      <td>0.01</td>\n",
       "      <td>0.000000</td>\n",
       "      <td>0.00</td>\n",
       "      <td>0.00</td>\n",
       "    </tr>\n",
       "    <tr>\n",
       "      <th>4</th>\n",
       "      <td>Merricks, Point Leo, Shoreham</td>\n",
       "      <td>0.047619</td>\n",
       "      <td>0.00</td>\n",
       "      <td>0.00</td>\n",
       "      <td>0.000000</td>\n",
       "      <td>0.047619</td>\n",
       "      <td>0.00</td>\n",
       "      <td>0.095238</td>\n",
       "      <td>0.00</td>\n",
       "      <td>0.00</td>\n",
       "      <td>...</td>\n",
       "      <td>0.00</td>\n",
       "      <td>0.000000</td>\n",
       "      <td>0.00</td>\n",
       "      <td>0.00</td>\n",
       "      <td>0.000000</td>\n",
       "      <td>0.000000</td>\n",
       "      <td>0.00</td>\n",
       "      <td>0.047619</td>\n",
       "      <td>0.00</td>\n",
       "      <td>0.00</td>\n",
       "    </tr>\n",
       "  </tbody>\n",
       "</table>\n",
       "<p>5 rows × 67 columns</p>\n",
       "</div>"
      ],
      "text/plain": [
       "                      SuburbName   Airport  Antique Shop  Art Gallery  \\\n",
       "0                    Clarkefield  0.000000          0.00         0.00   \n",
       "1                  HMAS Cerberus  0.000000          0.00         0.00   \n",
       "2              Koo Wee Rup North  0.000000          0.01         0.01   \n",
       "3                     Main Ridge  0.000000          0.00         0.01   \n",
       "4  Merricks, Point Leo, Shoreham  0.047619          0.00         0.00   \n",
       "\n",
       "   Asian Restaurant  Australian Restaurant  Auto Workshop    Bakery   Bar  \\\n",
       "0          0.000000               0.000000           0.00  0.000000  0.20   \n",
       "1          0.020833               0.062500           0.00  0.041667  0.00   \n",
       "2          0.000000               0.010000           0.01  0.000000  0.01   \n",
       "3          0.000000               0.010000           0.00  0.000000  0.01   \n",
       "4          0.000000               0.047619           0.00  0.095238  0.00   \n",
       "\n",
       "   Basketball Stadium     ...       Scenic Lookout  Seafood Restaurant  \\\n",
       "0                0.00     ...                 0.00            0.000000   \n",
       "1                0.00     ...                 0.00            0.041667   \n",
       "2                0.01     ...                 0.01            0.010000   \n",
       "3                0.01     ...                 0.01            0.020000   \n",
       "4                0.00     ...                 0.00            0.000000   \n",
       "\n",
       "   Shopping Mall  Steakhouse  Supermarket  Thai Restaurant  Theater  \\\n",
       "0           0.00        0.00     0.000000         0.200000     0.00   \n",
       "1           0.00        0.00     0.041667         0.020833     0.00   \n",
       "2           0.04        0.01     0.050000         0.010000     0.01   \n",
       "3           0.02        0.01     0.060000         0.010000     0.01   \n",
       "4           0.00        0.00     0.000000         0.000000     0.00   \n",
       "\n",
       "   Train Station   Zoo  Zoo Exhibit  \n",
       "0       0.200000  0.00         0.00  \n",
       "1       0.020833  0.00         0.00  \n",
       "2       0.000000  0.01         0.01  \n",
       "3       0.000000  0.00         0.00  \n",
       "4       0.047619  0.00         0.00  \n",
       "\n",
       "[5 rows x 67 columns]"
      ]
     },
     "execution_count": 142,
     "metadata": {},
     "output_type": "execute_result"
    }
   ],
   "source": [
    "melbourne_grouped = melbourne_onehot.groupby('SuburbName').mean().reset_index()\n",
    "melbourne_grouped"
   ]
  },
  {
   "cell_type": "markdown",
   "metadata": {},
   "source": [
    "#### Let's print each suburb along with the top 5 most common venues"
   ]
  },
  {
   "cell_type": "code",
   "execution_count": 143,
   "metadata": {},
   "outputs": [
    {
     "name": "stdout",
     "output_type": "stream",
     "text": [
      "----Clarkefield----\n",
      "                        venue  freq\n",
      "0  Construction & Landscaping   0.2\n",
      "1               Train Station   0.2\n",
      "2                        Café   0.2\n",
      "3             Thai Restaurant   0.2\n",
      "4                         Bar   0.2\n",
      "\n",
      "\n",
      "----HMAS Cerberus----\n",
      "                   venue  freq\n",
      "0                  Beach  0.10\n",
      "1                   Café  0.08\n",
      "2          Grocery Store  0.08\n",
      "3  Australian Restaurant  0.06\n",
      "4                  Hotel  0.06\n",
      "\n",
      "\n",
      "----Koo Wee Rup North----\n",
      "                  venue  freq\n",
      "0  Fast Food Restaurant  0.09\n",
      "1         Grocery Store  0.07\n",
      "2                  Café  0.06\n",
      "3           Supermarket  0.05\n",
      "4           Gas Station  0.05\n",
      "\n",
      "\n",
      "----Main Ridge----\n",
      "               venue  freq\n",
      "0               Café  0.13\n",
      "1        Supermarket  0.06\n",
      "2              Beach  0.06\n",
      "3          Gastropub  0.04\n",
      "4  Convenience Store  0.04\n",
      "\n",
      "\n",
      "----Merricks, Point Leo, Shoreham----\n",
      "                  venue  freq\n",
      "0         Grocery Store  0.14\n",
      "1  Fast Food Restaurant  0.10\n",
      "2                Bakery  0.10\n",
      "3               Airport  0.05\n",
      "4     Convenience Store  0.05\n",
      "\n",
      "\n"
     ]
    }
   ],
   "source": [
    "num_top_venues = 5\n",
    "for hood in melbourne_grouped['SuburbName']:\n",
    "    print(\"----\"+hood+\"----\")\n",
    "    temp = melbourne_grouped[melbourne_grouped['SuburbName'] == hood].T.reset_index()\n",
    "    temp.columns = ['venue','freq']\n",
    "    temp = temp.iloc[1:]\n",
    "    temp['freq'] = temp['freq'].astype(float)\n",
    "    temp = temp.round({'freq': 2})\n",
    "    print(temp.sort_values('freq', ascending=False).reset_index(drop=True).head(num_top_venues))\n",
    "    print('\\n')\n",
    "  "
   ]
  },
  {
   "cell_type": "markdown",
   "metadata": {},
   "source": [
    "Now let's create the new dataframe and display the top 5 venues for each suburb."
   ]
  },
  {
   "cell_type": "code",
   "execution_count": 144,
   "metadata": {},
   "outputs": [
    {
     "data": {
      "text/html": [
       "<div>\n",
       "<style>\n",
       "    .dataframe thead tr:only-child th {\n",
       "        text-align: right;\n",
       "    }\n",
       "\n",
       "    .dataframe thead th {\n",
       "        text-align: left;\n",
       "    }\n",
       "\n",
       "    .dataframe tbody tr th {\n",
       "        vertical-align: top;\n",
       "    }\n",
       "</style>\n",
       "<table border=\"1\" class=\"dataframe\">\n",
       "  <thead>\n",
       "    <tr style=\"text-align: right;\">\n",
       "      <th></th>\n",
       "      <th>SuburbName</th>\n",
       "      <th>1st Most Common Venue</th>\n",
       "      <th>2nd Most Common Venue</th>\n",
       "      <th>3rd Most Common Venue</th>\n",
       "      <th>4th Most Common Venue</th>\n",
       "      <th>5th Most Common Venue</th>\n",
       "    </tr>\n",
       "  </thead>\n",
       "  <tbody>\n",
       "    <tr>\n",
       "      <th>0</th>\n",
       "      <td>Clarkefield</td>\n",
       "      <td>Train Station</td>\n",
       "      <td>Thai Restaurant</td>\n",
       "      <td>Construction &amp; Landscaping</td>\n",
       "      <td>Café</td>\n",
       "      <td>Bar</td>\n",
       "    </tr>\n",
       "    <tr>\n",
       "      <th>1</th>\n",
       "      <td>HMAS Cerberus</td>\n",
       "      <td>Beach</td>\n",
       "      <td>Café</td>\n",
       "      <td>Grocery Store</td>\n",
       "      <td>Australian Restaurant</td>\n",
       "      <td>Hotel</td>\n",
       "    </tr>\n",
       "    <tr>\n",
       "      <th>2</th>\n",
       "      <td>Koo Wee Rup North</td>\n",
       "      <td>Fast Food Restaurant</td>\n",
       "      <td>Grocery Store</td>\n",
       "      <td>Café</td>\n",
       "      <td>Gas Station</td>\n",
       "      <td>Supermarket</td>\n",
       "    </tr>\n",
       "    <tr>\n",
       "      <th>3</th>\n",
       "      <td>Main Ridge</td>\n",
       "      <td>Café</td>\n",
       "      <td>Supermarket</td>\n",
       "      <td>Beach</td>\n",
       "      <td>Gastropub</td>\n",
       "      <td>Convenience Store</td>\n",
       "    </tr>\n",
       "    <tr>\n",
       "      <th>4</th>\n",
       "      <td>Merricks, Point Leo, Shoreham</td>\n",
       "      <td>Grocery Store</td>\n",
       "      <td>Bakery</td>\n",
       "      <td>Fast Food Restaurant</td>\n",
       "      <td>Airport</td>\n",
       "      <td>Pizza Place</td>\n",
       "    </tr>\n",
       "  </tbody>\n",
       "</table>\n",
       "</div>"
      ],
      "text/plain": [
       "                      SuburbName 1st Most Common Venue 2nd Most Common Venue  \\\n",
       "0                    Clarkefield         Train Station       Thai Restaurant   \n",
       "1                  HMAS Cerberus                 Beach                  Café   \n",
       "2              Koo Wee Rup North  Fast Food Restaurant         Grocery Store   \n",
       "3                     Main Ridge                  Café           Supermarket   \n",
       "4  Merricks, Point Leo, Shoreham         Grocery Store                Bakery   \n",
       "\n",
       "        3rd Most Common Venue  4th Most Common Venue 5th Most Common Venue  \n",
       "0  Construction & Landscaping                   Café                   Bar  \n",
       "1               Grocery Store  Australian Restaurant                 Hotel  \n",
       "2                        Café            Gas Station           Supermarket  \n",
       "3                       Beach              Gastropub     Convenience Store  \n",
       "4        Fast Food Restaurant                Airport           Pizza Place  "
      ]
     },
     "execution_count": 144,
     "metadata": {},
     "output_type": "execute_result"
    }
   ],
   "source": [
    "def return_most_common_venues(row, num_top_venues):\n",
    "    row_categories = row.iloc[1:]\n",
    "    row_categories_sorted = row_categories.sort_values(ascending=False)\n",
    "    \n",
    "    return row_categories_sorted.index.values[0:num_top_venues]\n",
    "\n",
    "num_top_venues = 5\n",
    "\n",
    "indicators = ['st', 'nd', 'rd']\n",
    "\n",
    "# create columns according to number of top venues\n",
    "columns = ['SuburbName']\n",
    "for ind in np.arange(num_top_venues):\n",
    "    try:\n",
    "        columns.append('{}{} Most Common Venue'.format(ind+1, indicators[ind]))\n",
    "    except:\n",
    "        columns.append('{}th Most Common Venue'.format(ind+1))\n",
    "\n",
    "# create a new dataframe\n",
    "neighborhoods_venues_sorted = pd.DataFrame(columns=columns)\n",
    "neighborhoods_venues_sorted['SuburbName'] = melbourne_grouped['SuburbName']\n",
    "\n",
    "for ind in np.arange(melbourne_grouped.shape[0]):\n",
    "    neighborhoods_venues_sorted.iloc[ind, 1:] = return_most_common_venues(melbourne_grouped.iloc[ind, :], num_top_venues)\n",
    "\n",
    "neighborhoods_venues_sorted.head()"
   ]
  },
  {
   "cell_type": "code",
   "execution_count": 152,
   "metadata": {},
   "outputs": [
    {
     "data": {
      "text/html": [
       "<div>\n",
       "<style>\n",
       "    .dataframe thead tr:only-child th {\n",
       "        text-align: right;\n",
       "    }\n",
       "\n",
       "    .dataframe thead th {\n",
       "        text-align: left;\n",
       "    }\n",
       "\n",
       "    .dataframe tbody tr th {\n",
       "        vertical-align: top;\n",
       "    }\n",
       "</style>\n",
       "<table border=\"1\" class=\"dataframe\">\n",
       "  <thead>\n",
       "    <tr style=\"text-align: right;\">\n",
       "      <th></th>\n",
       "      <th>SuburbName</th>\n",
       "      <th>MeanCrimes</th>\n",
       "      <th>DistCityCenter</th>\n",
       "      <th>1st Most Common Venue</th>\n",
       "      <th>2nd Most Common Venue</th>\n",
       "      <th>3rd Most Common Venue</th>\n",
       "      <th>4th Most Common Venue</th>\n",
       "      <th>5th Most Common Venue</th>\n",
       "    </tr>\n",
       "  </thead>\n",
       "  <tbody>\n",
       "    <tr>\n",
       "      <th>0</th>\n",
       "      <td>Koo Wee Rup North</td>\n",
       "      <td>6.8</td>\n",
       "      <td>44.273578</td>\n",
       "      <td>Fast Food Restaurant</td>\n",
       "      <td>Grocery Store</td>\n",
       "      <td>Café</td>\n",
       "      <td>Gas Station</td>\n",
       "      <td>Supermarket</td>\n",
       "    </tr>\n",
       "    <tr>\n",
       "      <th>1</th>\n",
       "      <td>HMAS Cerberus</td>\n",
       "      <td>10.4</td>\n",
       "      <td>65.045797</td>\n",
       "      <td>Beach</td>\n",
       "      <td>Café</td>\n",
       "      <td>Grocery Store</td>\n",
       "      <td>Australian Restaurant</td>\n",
       "      <td>Hotel</td>\n",
       "    </tr>\n",
       "    <tr>\n",
       "      <th>2</th>\n",
       "      <td>Main Ridge</td>\n",
       "      <td>11.2</td>\n",
       "      <td>41.983425</td>\n",
       "      <td>Café</td>\n",
       "      <td>Supermarket</td>\n",
       "      <td>Beach</td>\n",
       "      <td>Gastropub</td>\n",
       "      <td>Convenience Store</td>\n",
       "    </tr>\n",
       "    <tr>\n",
       "      <th>3</th>\n",
       "      <td>Clarkefield</td>\n",
       "      <td>20.0</td>\n",
       "      <td>44.332088</td>\n",
       "      <td>Train Station</td>\n",
       "      <td>Thai Restaurant</td>\n",
       "      <td>Construction &amp; Landscaping</td>\n",
       "      <td>Café</td>\n",
       "      <td>Bar</td>\n",
       "    </tr>\n",
       "    <tr>\n",
       "      <th>4</th>\n",
       "      <td>Merricks, Point Leo, Shoreham</td>\n",
       "      <td>32.6</td>\n",
       "      <td>61.551920</td>\n",
       "      <td>Grocery Store</td>\n",
       "      <td>Bakery</td>\n",
       "      <td>Fast Food Restaurant</td>\n",
       "      <td>Airport</td>\n",
       "      <td>Pizza Place</td>\n",
       "    </tr>\n",
       "  </tbody>\n",
       "</table>\n",
       "</div>"
      ],
      "text/plain": [
       "                      SuburbName  MeanCrimes  DistCityCenter  \\\n",
       "0              Koo Wee Rup North         6.8       44.273578   \n",
       "1                  HMAS Cerberus        10.4       65.045797   \n",
       "2                     Main Ridge        11.2       41.983425   \n",
       "3                    Clarkefield        20.0       44.332088   \n",
       "4  Merricks, Point Leo, Shoreham        32.6       61.551920   \n",
       "\n",
       "  1st Most Common Venue 2nd Most Common Venue       3rd Most Common Venue  \\\n",
       "0  Fast Food Restaurant         Grocery Store                        Café   \n",
       "1                 Beach                  Café               Grocery Store   \n",
       "2                  Café           Supermarket                       Beach   \n",
       "3         Train Station       Thai Restaurant  Construction & Landscaping   \n",
       "4         Grocery Store                Bakery        Fast Food Restaurant   \n",
       "\n",
       "   4th Most Common Venue 5th Most Common Venue  \n",
       "0            Gas Station           Supermarket  \n",
       "1  Australian Restaurant                 Hotel  \n",
       "2              Gastropub     Convenience Store  \n",
       "3                   Café                   Bar  \n",
       "4                Airport           Pizza Place  "
      ]
     },
     "execution_count": 152,
     "metadata": {},
     "output_type": "execute_result"
    }
   ],
   "source": [
    "melbourne_merged = bestSuburbsDf.copy()\n",
    "\n",
    "melbourne_merged = melbourne_merged.join(neighborhoods_venues_sorted.set_index('SuburbName'), on='SuburbName')\n",
    "melbourne_merged.drop(['Postcode','Latitude','Longitude','SumCrimes','Schools','Parks','Stations','Restaurants'], axis=1 , inplace= True)\n",
    "melbourne_merged.head() # check the last columns!"
   ]
  },
  {
   "cell_type": "markdown",
   "metadata": {},
   "source": [
    "### Clustering the suburb based on distance from the city center. "
   ]
  },
  {
   "cell_type": "markdown",
   "metadata": {},
   "source": [
    "I will then display markers on a map. The size of the marker is proportional to the crime rates. This will give an overall picture of crime statistics in Melbourne"
   ]
  },
  {
   "cell_type": "code",
   "execution_count": 4,
   "metadata": {},
   "outputs": [
    {
     "data": {
      "text/plain": [
       "(255, 11)"
      ]
     },
     "execution_count": 4,
     "metadata": {},
     "output_type": "execute_result"
    }
   ],
   "source": [
    "melbourneDf.shape"
   ]
  },
  {
   "cell_type": "code",
   "execution_count": 5,
   "metadata": {},
   "outputs": [
    {
     "data": {
      "text/html": [
       "<div>\n",
       "<style>\n",
       "    .dataframe thead tr:only-child th {\n",
       "        text-align: right;\n",
       "    }\n",
       "\n",
       "    .dataframe thead th {\n",
       "        text-align: left;\n",
       "    }\n",
       "\n",
       "    .dataframe tbody tr th {\n",
       "        vertical-align: top;\n",
       "    }\n",
       "</style>\n",
       "<table border=\"1\" class=\"dataframe\">\n",
       "  <thead>\n",
       "    <tr style=\"text-align: right;\">\n",
       "      <th></th>\n",
       "      <th>Postcode</th>\n",
       "      <th>SuburbName</th>\n",
       "      <th>MeanCrimes</th>\n",
       "      <th>SumCrimes</th>\n",
       "      <th>Latitude</th>\n",
       "      <th>Longitude</th>\n",
       "      <th>DistCityCenter</th>\n",
       "      <th>Schools</th>\n",
       "      <th>Parks</th>\n",
       "      <th>Stations</th>\n",
       "      <th>Restaurants</th>\n",
       "    </tr>\n",
       "  </thead>\n",
       "  <tbody>\n",
       "    <tr>\n",
       "      <th>1</th>\n",
       "      <td>3002</td>\n",
       "      <td>East Melbourne</td>\n",
       "      <td>875.6</td>\n",
       "      <td>4378</td>\n",
       "      <td>-37.812498</td>\n",
       "      <td>144.985885</td>\n",
       "      <td>1.756813</td>\n",
       "      <td>22</td>\n",
       "      <td>9</td>\n",
       "      <td>13</td>\n",
       "      <td>41</td>\n",
       "    </tr>\n",
       "    <tr>\n",
       "      <th>2</th>\n",
       "      <td>3003</td>\n",
       "      <td>West Melbourne</td>\n",
       "      <td>549.8</td>\n",
       "      <td>2749</td>\n",
       "      <td>-37.810448</td>\n",
       "      <td>144.920430</td>\n",
       "      <td>5.557517</td>\n",
       "      <td>30</td>\n",
       "      <td>23</td>\n",
       "      <td>13</td>\n",
       "      <td>42</td>\n",
       "    </tr>\n",
       "    <tr>\n",
       "      <th>3</th>\n",
       "      <td>3006</td>\n",
       "      <td>Southbank, South Wharf</td>\n",
       "      <td>2396.6</td>\n",
       "      <td>11983</td>\n",
       "      <td>-37.825345</td>\n",
       "      <td>144.956682</td>\n",
       "      <td>2.050896</td>\n",
       "      <td>25</td>\n",
       "      <td>10</td>\n",
       "      <td>9</td>\n",
       "      <td>45</td>\n",
       "    </tr>\n",
       "    <tr>\n",
       "      <th>4</th>\n",
       "      <td>3008</td>\n",
       "      <td>Docklands</td>\n",
       "      <td>1149.6</td>\n",
       "      <td>5748</td>\n",
       "      <td>-37.817542</td>\n",
       "      <td>144.939492</td>\n",
       "      <td>3.717285</td>\n",
       "      <td>24</td>\n",
       "      <td>11</td>\n",
       "      <td>9</td>\n",
       "      <td>42</td>\n",
       "    </tr>\n",
       "    <tr>\n",
       "      <th>5</th>\n",
       "      <td>3011</td>\n",
       "      <td>Footscray, Seddon</td>\n",
       "      <td>3155.8</td>\n",
       "      <td>15779</td>\n",
       "      <td>-37.802453</td>\n",
       "      <td>144.894471</td>\n",
       "      <td>8.005501</td>\n",
       "      <td>12</td>\n",
       "      <td>24</td>\n",
       "      <td>9</td>\n",
       "      <td>41</td>\n",
       "    </tr>\n",
       "  </tbody>\n",
       "</table>\n",
       "</div>"
      ],
      "text/plain": [
       "   Postcode              SuburbName  MeanCrimes  SumCrimes   Latitude  \\\n",
       "1      3002          East Melbourne       875.6       4378 -37.812498   \n",
       "2      3003          West Melbourne       549.8       2749 -37.810448   \n",
       "3      3006  Southbank, South Wharf      2396.6      11983 -37.825345   \n",
       "4      3008               Docklands      1149.6       5748 -37.817542   \n",
       "5      3011       Footscray, Seddon      3155.8      15779 -37.802453   \n",
       "\n",
       "    Longitude  DistCityCenter  Schools  Parks  Stations  Restaurants  \n",
       "1  144.985885        1.756813       22      9        13           41  \n",
       "2  144.920430        5.557517       30     23        13           42  \n",
       "3  144.956682        2.050896       25     10         9           45  \n",
       "4  144.939492        3.717285       24     11         9           42  \n",
       "5  144.894471        8.005501       12     24         9           41  "
      ]
     },
     "execution_count": 5,
     "metadata": {},
     "output_type": "execute_result"
    }
   ],
   "source": [
    "melbourneDf.head()"
   ]
  },
  {
   "cell_type": "code",
   "execution_count": 18,
   "metadata": {},
   "outputs": [
    {
     "data": {
      "text/html": [
       "<div>\n",
       "<style>\n",
       "    .dataframe thead tr:only-child th {\n",
       "        text-align: right;\n",
       "    }\n",
       "\n",
       "    .dataframe thead th {\n",
       "        text-align: left;\n",
       "    }\n",
       "\n",
       "    .dataframe tbody tr th {\n",
       "        vertical-align: top;\n",
       "    }\n",
       "</style>\n",
       "<table border=\"1\" class=\"dataframe\">\n",
       "  <thead>\n",
       "    <tr style=\"text-align: right;\">\n",
       "      <th></th>\n",
       "      <th>DistCityCenter</th>\n",
       "    </tr>\n",
       "  </thead>\n",
       "  <tbody>\n",
       "    <tr>\n",
       "      <th>1</th>\n",
       "      <td>1.756813</td>\n",
       "    </tr>\n",
       "    <tr>\n",
       "      <th>2</th>\n",
       "      <td>5.557517</td>\n",
       "    </tr>\n",
       "    <tr>\n",
       "      <th>3</th>\n",
       "      <td>2.050896</td>\n",
       "    </tr>\n",
       "    <tr>\n",
       "      <th>4</th>\n",
       "      <td>3.717285</td>\n",
       "    </tr>\n",
       "    <tr>\n",
       "      <th>5</th>\n",
       "      <td>8.005501</td>\n",
       "    </tr>\n",
       "  </tbody>\n",
       "</table>\n",
       "</div>"
      ],
      "text/plain": [
       "   DistCityCenter\n",
       "1        1.756813\n",
       "2        5.557517\n",
       "3        2.050896\n",
       "4        3.717285\n",
       "5        8.005501"
      ]
     },
     "execution_count": 18,
     "metadata": {},
     "output_type": "execute_result"
    }
   ],
   "source": [
    "# import k-means from clustering stage\n",
    "from sklearn.cluster import KMeans\n",
    "mergeCrimeRate = melbourneDf.copy()\n",
    "crimesRateClustering = mergeCrimeRate.drop(['SuburbName','Postcode','Latitude','Longitude','MeanCrimes','SumCrimes',\\\n",
    "                                            'Schools','Parks','Stations','Restaurants'], 1)\n",
    "crimesRateClustering.head()"
   ]
  },
  {
   "cell_type": "code",
   "execution_count": 19,
   "metadata": {},
   "outputs": [
    {
     "data": {
      "text/plain": [
       "array([44,  4, 44, 15, 23, 45, 45, 12, 49, 22,  1, 14, 26, 13, 21, 30, 26,\n",
       "       20, 38, 16])"
      ]
     },
     "execution_count": 19,
     "metadata": {},
     "output_type": "execute_result"
    }
   ],
   "source": [
    "# set number of clusters\n",
    "kclusters = 50\n",
    "\n",
    "# run k-means clustering\n",
    "kmeans = KMeans(n_clusters=kclusters, random_state=0).fit(crimesRateClustering)\n",
    "\n",
    "# check cluster labels generated for each row in the dataframe\n",
    "kmeans.labels_[0:20] "
   ]
  },
  {
   "cell_type": "code",
   "execution_count": 20,
   "metadata": {
    "collapsed": true
   },
   "outputs": [],
   "source": [
    "mergeCrimeRate.insert(5, 'Cluster Labels', kmeans.labels_)"
   ]
  },
  {
   "cell_type": "code",
   "execution_count": 21,
   "metadata": {},
   "outputs": [
    {
     "data": {
      "text/html": [
       "<div>\n",
       "<style>\n",
       "    .dataframe thead tr:only-child th {\n",
       "        text-align: right;\n",
       "    }\n",
       "\n",
       "    .dataframe thead th {\n",
       "        text-align: left;\n",
       "    }\n",
       "\n",
       "    .dataframe tbody tr th {\n",
       "        vertical-align: top;\n",
       "    }\n",
       "</style>\n",
       "<table border=\"1\" class=\"dataframe\">\n",
       "  <thead>\n",
       "    <tr style=\"text-align: right;\">\n",
       "      <th></th>\n",
       "      <th>Postcode</th>\n",
       "      <th>SuburbName</th>\n",
       "      <th>MeanCrimes</th>\n",
       "      <th>SumCrimes</th>\n",
       "      <th>Latitude</th>\n",
       "      <th>Cluster Labels</th>\n",
       "      <th>Longitude</th>\n",
       "      <th>DistCityCenter</th>\n",
       "      <th>Schools</th>\n",
       "      <th>Parks</th>\n",
       "      <th>Stations</th>\n",
       "      <th>Restaurants</th>\n",
       "    </tr>\n",
       "  </thead>\n",
       "  <tbody>\n",
       "    <tr>\n",
       "      <th>1</th>\n",
       "      <td>3002</td>\n",
       "      <td>East Melbourne</td>\n",
       "      <td>875.6</td>\n",
       "      <td>4378</td>\n",
       "      <td>-37.812498</td>\n",
       "      <td>44</td>\n",
       "      <td>144.985885</td>\n",
       "      <td>1.756813</td>\n",
       "      <td>22</td>\n",
       "      <td>9</td>\n",
       "      <td>13</td>\n",
       "      <td>41</td>\n",
       "    </tr>\n",
       "    <tr>\n",
       "      <th>2</th>\n",
       "      <td>3003</td>\n",
       "      <td>West Melbourne</td>\n",
       "      <td>549.8</td>\n",
       "      <td>2749</td>\n",
       "      <td>-37.810448</td>\n",
       "      <td>4</td>\n",
       "      <td>144.920430</td>\n",
       "      <td>5.557517</td>\n",
       "      <td>30</td>\n",
       "      <td>23</td>\n",
       "      <td>13</td>\n",
       "      <td>42</td>\n",
       "    </tr>\n",
       "    <tr>\n",
       "      <th>3</th>\n",
       "      <td>3006</td>\n",
       "      <td>Southbank, South Wharf</td>\n",
       "      <td>2396.6</td>\n",
       "      <td>11983</td>\n",
       "      <td>-37.825345</td>\n",
       "      <td>44</td>\n",
       "      <td>144.956682</td>\n",
       "      <td>2.050896</td>\n",
       "      <td>25</td>\n",
       "      <td>10</td>\n",
       "      <td>9</td>\n",
       "      <td>45</td>\n",
       "    </tr>\n",
       "    <tr>\n",
       "      <th>4</th>\n",
       "      <td>3008</td>\n",
       "      <td>Docklands</td>\n",
       "      <td>1149.6</td>\n",
       "      <td>5748</td>\n",
       "      <td>-37.817542</td>\n",
       "      <td>15</td>\n",
       "      <td>144.939492</td>\n",
       "      <td>3.717285</td>\n",
       "      <td>24</td>\n",
       "      <td>11</td>\n",
       "      <td>9</td>\n",
       "      <td>42</td>\n",
       "    </tr>\n",
       "    <tr>\n",
       "      <th>5</th>\n",
       "      <td>3011</td>\n",
       "      <td>Footscray, Seddon</td>\n",
       "      <td>3155.8</td>\n",
       "      <td>15779</td>\n",
       "      <td>-37.802453</td>\n",
       "      <td>23</td>\n",
       "      <td>144.894471</td>\n",
       "      <td>8.005501</td>\n",
       "      <td>12</td>\n",
       "      <td>24</td>\n",
       "      <td>9</td>\n",
       "      <td>41</td>\n",
       "    </tr>\n",
       "  </tbody>\n",
       "</table>\n",
       "</div>"
      ],
      "text/plain": [
       "   Postcode              SuburbName  MeanCrimes  SumCrimes   Latitude  \\\n",
       "1      3002          East Melbourne       875.6       4378 -37.812498   \n",
       "2      3003          West Melbourne       549.8       2749 -37.810448   \n",
       "3      3006  Southbank, South Wharf      2396.6      11983 -37.825345   \n",
       "4      3008               Docklands      1149.6       5748 -37.817542   \n",
       "5      3011       Footscray, Seddon      3155.8      15779 -37.802453   \n",
       "\n",
       "   Cluster Labels   Longitude  DistCityCenter  Schools  Parks  Stations  \\\n",
       "1              44  144.985885        1.756813       22      9        13   \n",
       "2               4  144.920430        5.557517       30     23        13   \n",
       "3              44  144.956682        2.050896       25     10         9   \n",
       "4              15  144.939492        3.717285       24     11         9   \n",
       "5              23  144.894471        8.005501       12     24         9   \n",
       "\n",
       "   Restaurants  \n",
       "1           41  \n",
       "2           42  \n",
       "3           45  \n",
       "4           42  \n",
       "5           41  "
      ]
     },
     "execution_count": 21,
     "metadata": {},
     "output_type": "execute_result"
    }
   ],
   "source": [
    "    \n",
    "mergeCrimeRate.head()"
   ]
  },
  {
   "cell_type": "code",
   "execution_count": 22,
   "metadata": {},
   "outputs": [
    {
     "data": {
      "text/html": [
       "<div>\n",
       "<style>\n",
       "    .dataframe thead tr:only-child th {\n",
       "        text-align: right;\n",
       "    }\n",
       "\n",
       "    .dataframe thead th {\n",
       "        text-align: left;\n",
       "    }\n",
       "\n",
       "    .dataframe tbody tr th {\n",
       "        vertical-align: top;\n",
       "    }\n",
       "</style>\n",
       "<table border=\"1\" class=\"dataframe\">\n",
       "  <thead>\n",
       "    <tr style=\"text-align: right;\">\n",
       "      <th></th>\n",
       "      <th>Cluster</th>\n",
       "      <th>Latitude</th>\n",
       "      <th>Longitude</th>\n",
       "      <th>MeanCrimePercent</th>\n",
       "    </tr>\n",
       "  </thead>\n",
       "  <tbody>\n",
       "    <tr>\n",
       "      <th>0</th>\n",
       "      <td>0</td>\n",
       "      <td>-38.259556</td>\n",
       "      <td>145.242278</td>\n",
       "      <td>2.067034</td>\n",
       "    </tr>\n",
       "    <tr>\n",
       "      <th>1</th>\n",
       "      <td>1</td>\n",
       "      <td>-37.821837</td>\n",
       "      <td>145.025361</td>\n",
       "      <td>5.260602</td>\n",
       "    </tr>\n",
       "    <tr>\n",
       "      <th>2</th>\n",
       "      <td>2</td>\n",
       "      <td>-37.848129</td>\n",
       "      <td>146.049996</td>\n",
       "      <td>0.061229</td>\n",
       "    </tr>\n",
       "    <tr>\n",
       "      <th>3</th>\n",
       "      <td>3</td>\n",
       "      <td>-37.830569</td>\n",
       "      <td>145.214240</td>\n",
       "      <td>0.463879</td>\n",
       "    </tr>\n",
       "    <tr>\n",
       "      <th>4</th>\n",
       "      <td>4</td>\n",
       "      <td>-37.830134</td>\n",
       "      <td>144.981892</td>\n",
       "      <td>2.813385</td>\n",
       "    </tr>\n",
       "  </tbody>\n",
       "</table>\n",
       "</div>"
      ],
      "text/plain": [
       "   Cluster   Latitude   Longitude  MeanCrimePercent\n",
       "0        0 -38.259556  145.242278          2.067034\n",
       "1        1 -37.821837  145.025361          5.260602\n",
       "2        2 -37.848129  146.049996          0.061229\n",
       "3        3 -37.830569  145.214240          0.463879\n",
       "4        4 -37.830134  144.981892          2.813385"
      ]
     },
     "execution_count": 22,
     "metadata": {},
     "output_type": "execute_result"
    }
   ],
   "source": [
    "import math\n",
    "\n",
    "def find_mean_loc(coords_df):\n",
    "    x = 0.0\n",
    "    y = 0.0\n",
    "    z = 0.0\n",
    "\n",
    "    for i, coord in coords_df.iterrows():\n",
    "        latitude = math.radians(coord.Latitude)\n",
    "        longitude = math.radians(coord.Longitude)\n",
    "\n",
    "        x += math.cos(latitude) * math.cos(longitude)\n",
    "        y += math.cos(latitude) * math.sin(longitude)\n",
    "        z += math.sin(latitude)\n",
    "\n",
    "    total = len(coords_df)\n",
    "\n",
    "    x = x / total\n",
    "    y = y / total\n",
    "    z = z / total\n",
    "\n",
    "    central_longitude = math.atan2(y, x)\n",
    "    central_square_root = math.sqrt(x * x + y * y)\n",
    "    central_latitude = math.atan2(z, central_square_root)\n",
    "    \n",
    "    return math.degrees(central_latitude),math.degrees(central_longitude)\n",
    "\n",
    "total_crimes_melbourne =mergeCrimeRate['MeanCrimes'].sum()\n",
    "map_output =list() \n",
    "# Find mean latitude and longitude\n",
    "for i in range(0,kclusters):\n",
    "    coordDf =mergeCrimeRate[mergeCrimeRate['Cluster Labels']==i][['Latitude','Longitude']]\n",
    "    meanCrimeDf =mergeCrimeRate[mergeCrimeRate['Cluster Labels']==i][['MeanCrimes']]\n",
    "    latitude , longitude = find_mean_loc(coordDf)\n",
    "    percent_crime_cluster= ((meanCrimeDf['MeanCrimes'].sum())/total_crimes_melbourne)*100.0\n",
    "    map_output.append([i,latitude, longitude,percent_crime_cluster]) \n",
    "\n",
    "crime_map_stats = pd.DataFrame(map_output)\n",
    "crime_map_stats.columns=['Cluster','Latitude', 'Longitude','MeanCrimePercent']\n",
    "crime_map_stats.head()"
   ]
  },
  {
   "cell_type": "code",
   "execution_count": 23,
   "metadata": {},
   "outputs": [
    {
     "data": {
      "text/plain": [
       "(50, 4)"
      ]
     },
     "execution_count": 23,
     "metadata": {},
     "output_type": "execute_result"
    }
   ],
   "source": [
    "crime_map_stats.shape"
   ]
  },
  {
   "cell_type": "code",
   "execution_count": 26,
   "metadata": {
    "scrolled": true
   },
   "outputs": [
    {
     "data": {
      "text/html": [
       "<div style=\"width:100%;\"><div style=\"position:relative;width:100%;height:0;padding-bottom:60%;\"><iframe src=\"data:text/html;charset=utf-8;base64,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\" style=\"position:absolute;width:100%;height:100%;left:0;top:0;border:none !important;\" allowfullscreen webkitallowfullscreen mozallowfullscreen></iframe></div></div>"
      ],
      "text/plain": [
       "<folium.folium.Map at 0x26a80b84240>"
      ]
     },
     "execution_count": 26,
     "metadata": {},
     "output_type": "execute_result"
    }
   ],
   "source": [
    "# Show on folium map\n",
    "import folium\n",
    "import numpy as np\n",
    "import matplotlib.cm as cm\n",
    "import matplotlib.colors as colors\n",
    "\n",
    "\n",
    "# create map\n",
    "cluster_map = folium.Map(location=[latitude, longitude], zoom_start=10)\n",
    "\n",
    "# set color scheme for the clusters\n",
    "x = np.arange(10)\n",
    "ys = [i + x + (i*x)**2 for i in range(200)]\n",
    "colors_array = cm.tab10(np.linspace(0, 10, len(ys)))\n",
    "rainbow = [colors.rgb2hex(i) for i in colors_array]\n",
    "\n",
    "# add markers to the map\n",
    "markers_colors = []\n",
    "i=0\n",
    "for lat, lon, poi, count in zip(crime_map_stats['Latitude'], crime_map_stats['Longitude'],\\\n",
    "                                crime_map_stats['Cluster'], crime_map_stats['MeanCrimePercent']):\n",
    "    label = folium.Popup(str(poi), parse_html=True,fill_color=rainbow[i])\n",
    "    folium.CircleMarker([lat, lon],\n",
    "            radius=int(count*3),\n",
    "            popup='Crime =%0.2f'%count,\n",
    "            color=rainbow[i+4],\n",
    "            fill=True,\n",
    "            fill_color=rainbow[i+4],\n",
    "            fill_opacity=0.7).add_to(cluster_map)\n",
    "    i+=1\n",
    "cluster_map"
   ]
  },
  {
   "cell_type": "code",
   "execution_count": null,
   "metadata": {
    "collapsed": true
   },
   "outputs": [],
   "source": []
  }
 ],
 "metadata": {
  "kernelspec": {
   "display_name": "Python 3",
   "language": "python",
   "name": "python3"
  },
  "language_info": {
   "codemirror_mode": {
    "name": "ipython",
    "version": 3
   },
   "file_extension": ".py",
   "mimetype": "text/x-python",
   "name": "python",
   "nbconvert_exporter": "python",
   "pygments_lexer": "ipython3",
   "version": "3.6.3"
  }
 },
 "nbformat": 4,
 "nbformat_minor": 2
}
