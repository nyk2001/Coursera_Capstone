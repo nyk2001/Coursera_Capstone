{
 "cells": [
  {
   "cell_type": "markdown",
   "metadata": {},
   "source": [
    "<H2> Problem </H2>"
   ]
  },
  {
   "cell_type": "markdown",
   "metadata": {},
   "source": [
    "Find a reasonable <b>(less crime rate and not too far from city center)</b> suburb to live in Melbourne\n",
    "\n",
    "<b> Discussion </b>\n",
    "\n",
    "Melbourne has been named the world’s most liveable city for seven years in a row [1]. In 2018, Melbourne performed best in healthcare, education and infrastructure. Melbourne not only maintained its score in stability but also gained points in culture and environment.\n",
    "\n",
    "This makes Melbourne a natural choice:\n",
    "<ul>\n",
    "  <li> For people to live, work or study </li>\n",
    "  <li> For people to invest money, such as open a restaurant  or gym</li>\n",
    "</ul>\n",
    "\n",
    "Though, Melbourne is a very big city. There are two issues:\n",
    "\n",
    "<ol>\n",
    "<li> Firstly, all neighborhoods are not safe to live in due to high crime rates</li>\n",
    "<li> Secondly, a neighborhood may be safe but it can be in a remote area. Which makes it less suitable to live </li>\n",
    "</ol>\n",
    "\n",
    "\n",
    "Someone, who is raised in Melbourne will know about it. But, that is not the case for people living in other Australian states, foreigners, or immigrants. It becomes important to find such information before renting or buying a house in a suburb of Melbourne. Because, the property agents do not always provide a complete information.  \n",
    "\n",
    "Good suburbs will likely have less crime rate. At the same time, it will be good for suburb to have at-least one of the following nearby venues: \n",
    "<ul>\n",
    "    <li> School </li>\n",
    "    <li> Park </li>\n",
    "    <li> Resturants </li>\n",
    "    <li> Train Stations </li>\n",
    "    <li> Gym </li>\n",
    "  </ul>\n",
    "\n",
    "In this project, I will find top 10 suburbs of Melbourne which\n",
    "<ol>\n",
    "<li> Have least crime rate compared to others </li>\n",
    "<li> Are not very far away from Melbourne City Center, such as within 40 KM </li>\n",
    "<li> Have quite a few venues (i.e., around 50 with in radius of 3 KM) including schools, parks or train stations. The suburb with more schools or other venues will be considered better </li>\n",
    "<li> Finally, I will cluster the venues based on categories and will highlight on the map using Folium package </li>\n",
    "</ol>\n",
    "\n",
    "<b>Please note that we are not analysing at the hosue prices in this project.</b>\n",
    "\n",
    "Refereces\n",
    "1. https://www.businessinsider.com.au/melbourne-liveable-city-vienna-2018-8?r=US&IR=T"
   ]
  },
  {
   "cell_type": "markdown",
   "metadata": {},
   "source": [
    "<H2> Target Stakeholders </H2>\n",
    "<ul>\n",
    "    <li> People moving to Melbourne from other parts of Australia.</li>\n",
    "    <li> People moving from overseas to Melbourne to work or study. </li>\n",
    "    <li> People looking to make investments in stable or reasonable suburbs, such as open a restaurant. </li>\n",
    "</ul>"
   ]
  }
 ],
 "metadata": {
  "kernelspec": {
   "display_name": "Python 3",
   "language": "python",
   "name": "python3"
  },
  "language_info": {
   "codemirror_mode": {
    "name": "ipython",
    "version": 3
   },
   "file_extension": ".py",
   "mimetype": "text/x-python",
   "name": "python",
   "nbconvert_exporter": "python",
   "pygments_lexer": "ipython3",
   "version": "3.6.3"
  }
 },
 "nbformat": 4,
 "nbformat_minor": 2
}
