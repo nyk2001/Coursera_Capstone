{
 "cells": [
  {
   "cell_type": "markdown",
   "metadata": {},
   "source": [
    "<H1> Data Preparation </H1>"
   ]
  },
  {
   "cell_type": "markdown",
   "metadata": {},
   "source": [
    "<h2>Crime Rates</h2>\n",
    "\n",
    "We want to find a city with less crime rate. So, we need the crime rate statistics for suburbs of Melbourne city.\n",
    "\n",
    "We can obtain crime rate statistics for Melbourne up to 2016 from the following link:\n",
    "\n",
    "http://www.jonvy.co.nz/index.php?route=product/product&path=69_110&product_id=6131&sort=p.price&order=ASC\n",
    "\n",
    "I have downloaded the excel file and kept the relevant data for my work i.e., offense in each suburb for the last 5 years (2011-2016). Now, we can get the stats from the file as follows \n"
   ]
  },
  {
   "cell_type": "code",
   "execution_count": 137,
   "metadata": {},
   "outputs": [
    {
     "data": {
      "text/html": [
       "<div>\n",
       "<style>\n",
       "    .dataframe thead tr:only-child th {\n",
       "        text-align: right;\n",
       "    }\n",
       "\n",
       "    .dataframe thead th {\n",
       "        text-align: left;\n",
       "    }\n",
       "\n",
       "    .dataframe tbody tr th {\n",
       "        vertical-align: top;\n",
       "    }\n",
       "</style>\n",
       "<table border=\"1\" class=\"dataframe\">\n",
       "  <thead>\n",
       "    <tr style=\"text-align: right;\">\n",
       "      <th></th>\n",
       "      <th>Postcode</th>\n",
       "      <th>Apr 2011 - Mar 2012</th>\n",
       "      <th>Apr 2012 - Mar 2013</th>\n",
       "      <th>Apr 2013 - Mar 2014</th>\n",
       "      <th>Apr 2014 - Mar 2015</th>\n",
       "      <th>Apr 2015 - Mar 2016</th>\n",
       "    </tr>\n",
       "  </thead>\n",
       "  <tbody>\n",
       "    <tr>\n",
       "      <th>0</th>\n",
       "      <td>3000</td>\n",
       "      <td>21467</td>\n",
       "      <td>24164</td>\n",
       "      <td>22369</td>\n",
       "      <td>22666</td>\n",
       "      <td>22337</td>\n",
       "    </tr>\n",
       "    <tr>\n",
       "      <th>1</th>\n",
       "      <td>3002</td>\n",
       "      <td>1022</td>\n",
       "      <td>756</td>\n",
       "      <td>1029</td>\n",
       "      <td>719</td>\n",
       "      <td>852</td>\n",
       "    </tr>\n",
       "    <tr>\n",
       "      <th>2</th>\n",
       "      <td>3003</td>\n",
       "      <td>436</td>\n",
       "      <td>659</td>\n",
       "      <td>557</td>\n",
       "      <td>487</td>\n",
       "      <td>610</td>\n",
       "    </tr>\n",
       "    <tr>\n",
       "      <th>3</th>\n",
       "      <td>3006</td>\n",
       "      <td>2070</td>\n",
       "      <td>2100</td>\n",
       "      <td>2262</td>\n",
       "      <td>2437</td>\n",
       "      <td>3114</td>\n",
       "    </tr>\n",
       "    <tr>\n",
       "      <th>4</th>\n",
       "      <td>3008</td>\n",
       "      <td>850</td>\n",
       "      <td>942</td>\n",
       "      <td>931</td>\n",
       "      <td>1575</td>\n",
       "      <td>1450</td>\n",
       "    </tr>\n",
       "  </tbody>\n",
       "</table>\n",
       "</div>"
      ],
      "text/plain": [
       "   Postcode  Apr 2011 - Mar 2012  Apr 2012 - Mar 2013  Apr 2013 - Mar 2014  \\\n",
       "0      3000                21467                24164                22369   \n",
       "1      3002                 1022                  756                 1029   \n",
       "2      3003                  436                  659                  557   \n",
       "3      3006                 2070                 2100                 2262   \n",
       "4      3008                  850                  942                  931   \n",
       "\n",
       "   Apr 2014 - Mar 2015  Apr 2015 - Mar 2016  \n",
       "0                22666                22337  \n",
       "1                  719                  852  \n",
       "2                  487                  610  \n",
       "3                 2437                 3114  \n",
       "4                 1575                 1450  "
      ]
     },
     "execution_count": 137,
     "metadata": {},
     "output_type": "execute_result"
    }
   ],
   "source": [
    "#Stats data will like that\n",
    "import pandas as pd\n",
    "MelbourneCrimeStatsDf= pd.read_excel(\"Data\\CrimeStatsMelbourne.xlsx\")\n",
    "MelbourneCrimeStatsDf.head()"
   ]
  },
  {
   "cell_type": "markdown",
   "metadata": {},
   "source": [
    "Now, we will compute the mean crime of suburbs. This will help us to start with crime free suburbs."
   ]
  },
  {
   "cell_type": "code",
   "execution_count": 139,
   "metadata": {},
   "outputs": [
    {
     "data": {
      "text/html": [
       "<div>\n",
       "<style>\n",
       "    .dataframe thead tr:only-child th {\n",
       "        text-align: right;\n",
       "    }\n",
       "\n",
       "    .dataframe thead th {\n",
       "        text-align: left;\n",
       "    }\n",
       "\n",
       "    .dataframe tbody tr th {\n",
       "        vertical-align: top;\n",
       "    }\n",
       "</style>\n",
       "<table border=\"1\" class=\"dataframe\">\n",
       "  <thead>\n",
       "    <tr style=\"text-align: right;\">\n",
       "      <th></th>\n",
       "      <th>PostalCode</th>\n",
       "      <th>2012</th>\n",
       "      <th>2013</th>\n",
       "      <th>2014</th>\n",
       "      <th>2015</th>\n",
       "      <th>2016</th>\n",
       "      <th>MeanCrimes</th>\n",
       "    </tr>\n",
       "  </thead>\n",
       "  <tbody>\n",
       "    <tr>\n",
       "      <th>0</th>\n",
       "      <td>3852</td>\n",
       "      <td>0</td>\n",
       "      <td>0</td>\n",
       "      <td>0</td>\n",
       "      <td>1</td>\n",
       "      <td>0</td>\n",
       "      <td>0.2</td>\n",
       "    </tr>\n",
       "    <tr>\n",
       "      <th>1</th>\n",
       "      <td>3708</td>\n",
       "      <td>0</td>\n",
       "      <td>1</td>\n",
       "      <td>0</td>\n",
       "      <td>1</td>\n",
       "      <td>1</td>\n",
       "      <td>0.6</td>\n",
       "    </tr>\n",
       "    <tr>\n",
       "      <th>2</th>\n",
       "      <td>3576</td>\n",
       "      <td>1</td>\n",
       "      <td>0</td>\n",
       "      <td>0</td>\n",
       "      <td>1</td>\n",
       "      <td>1</td>\n",
       "      <td>0.6</td>\n",
       "    </tr>\n",
       "    <tr>\n",
       "      <th>3</th>\n",
       "      <td>3647</td>\n",
       "      <td>0</td>\n",
       "      <td>0</td>\n",
       "      <td>2</td>\n",
       "      <td>2</td>\n",
       "      <td>0</td>\n",
       "      <td>0.8</td>\n",
       "    </tr>\n",
       "    <tr>\n",
       "      <th>4</th>\n",
       "      <td>3724</td>\n",
       "      <td>1</td>\n",
       "      <td>0</td>\n",
       "      <td>0</td>\n",
       "      <td>0</td>\n",
       "      <td>4</td>\n",
       "      <td>1.0</td>\n",
       "    </tr>\n",
       "  </tbody>\n",
       "</table>\n",
       "</div>"
      ],
      "text/plain": [
       "   PostalCode  2012  2013  2014  2015  2016  MeanCrimes\n",
       "0        3852     0     0     0     1     0         0.2\n",
       "1        3708     0     1     0     1     1         0.6\n",
       "2        3576     1     0     0     1     1         0.6\n",
       "3        3647     0     0     2     2     0         0.8\n",
       "4        3724     1     0     0     0     4         1.0"
      ]
     },
     "execution_count": 139,
     "metadata": {},
     "output_type": "execute_result"
    }
   ],
   "source": [
    "# Taking mean to find the safe suburbs\n",
    "# Table will look like this\n",
    "MelbourneCrimeStatsDf.columns=['PostalCode',\"2012\",\"2013\",\"2014\",\"2015\",\"2016\"]\n",
    "MelbourneCrimeStatsDf['MeanCrimes'] = MelbourneCrimeStatsDf.iloc[:,1:6].mean(axis=1)\n",
    "MelbourneCrimeStatsDf.sort_values(by='MeanCrimes', ascending=True, inplace=True)\n",
    "MelbourneCrimeStatsDf.reset_index(drop= True, inplace= True)\n",
    "MelbourneCrimeStatsDf.head()"
   ]
  },
  {
   "cell_type": "markdown",
   "metadata": {},
   "source": [
    "<H1> Scrapping Melbourne Suburb Table from Wikipedia </h2>"
   ]
  },
  {
   "cell_type": "code",
   "execution_count": 161,
   "metadata": {
    "collapsed": true
   },
   "outputs": [],
   "source": [
    "# Extracting information from html web page (table)\n",
    "import requests\n",
    "from bs4 import BeautifulSoup\n",
    "\n",
    "webPageLink= \"https://en.wikipedia.org/wiki/List_of_Melbourne_suburbs\"\n",
    "responseObject = requests.get(webPageLink).text\n",
    "soup = BeautifulSoup(responseObject, 'lxml')\n",
    "suburbTable =soup.find('table',{'class':'wikitable sortable'})"
   ]
  },
  {
   "cell_type": "markdown",
   "metadata": {},
   "source": [
    "I read the suburb names from the Wikipedia webpage. Then, I created a data frame to store the suburb names and the corresponding postal codes. The dataframe will look like this"
   ]
  },
  {
   "cell_type": "code",
   "execution_count": 162,
   "metadata": {},
   "outputs": [
    {
     "data": {
      "text/html": [
       "<div>\n",
       "<style>\n",
       "    .dataframe thead tr:only-child th {\n",
       "        text-align: right;\n",
       "    }\n",
       "\n",
       "    .dataframe thead th {\n",
       "        text-align: left;\n",
       "    }\n",
       "\n",
       "    .dataframe tbody tr th {\n",
       "        vertical-align: top;\n",
       "    }\n",
       "</style>\n",
       "<table border=\"1\" class=\"dataframe\">\n",
       "  <thead>\n",
       "    <tr style=\"text-align: right;\">\n",
       "      <th></th>\n",
       "      <th>SuburbName</th>\n",
       "      <th>PostalCode</th>\n",
       "    </tr>\n",
       "  </thead>\n",
       "  <tbody>\n",
       "    <tr>\n",
       "      <th>0</th>\n",
       "      <td>Bellfield</td>\n",
       "      <td>3081</td>\n",
       "    </tr>\n",
       "    <tr>\n",
       "      <th>1</th>\n",
       "      <td>Briar Hill</td>\n",
       "      <td>3088</td>\n",
       "    </tr>\n",
       "    <tr>\n",
       "      <th>2</th>\n",
       "      <td>Bundoora</td>\n",
       "      <td>3083</td>\n",
       "    </tr>\n",
       "    <tr>\n",
       "      <th>3</th>\n",
       "      <td>Eaglemont</td>\n",
       "      <td>3084</td>\n",
       "    </tr>\n",
       "    <tr>\n",
       "      <th>4</th>\n",
       "      <td>Eltham</td>\n",
       "      <td>3095</td>\n",
       "    </tr>\n",
       "  </tbody>\n",
       "</table>\n",
       "</div>"
      ],
      "text/plain": [
       "   SuburbName PostalCode\n",
       "0   Bellfield       3081\n",
       "1  Briar Hill       3088\n",
       "2    Bundoora       3083\n",
       "3   Eaglemont       3084\n",
       "4      Eltham       3095"
      ]
     },
     "execution_count": 162,
     "metadata": {},
     "output_type": "execute_result"
    }
   ],
   "source": [
    "# Read suburb postal code and names\n",
    "rowData = soup.find_all(\"tr\")\n",
    "\n",
    "suburbInformation=[]\n",
    "for item in rowData:\n",
    "    try:\n",
    "            \n",
    "        #Ignoring the headers\n",
    "        if item.find(\"th\"):\n",
    "            continue\n",
    "        \n",
    "        tags= item.findAll('td')\n",
    "        suburbName = tags[0].text\n",
    "        postalCode = tags[1].text\n",
    "        suburbInformation.append([suburbName, postalCode])\n",
    "    except Exception as e:\n",
    "        continue\n",
    "import pandas as pd\n",
    "suburbMelbourneDf = pd.DataFrame(suburbInformation, columns=['SuburbName',\"PostalCode\"])\n",
    "suburbMelbourneDf.head()\n"
   ]
  },
  {
   "cell_type": "markdown",
   "metadata": {
    "collapsed": true
   },
   "source": [
    "<h3> Geolocator to extract longitudes and latitudes for all suburbs </H3>"
   ]
  },
  {
   "cell_type": "markdown",
   "metadata": {},
   "source": [
    "I used the Geolocator API to extract the latitude and longitudes for all suburbs. I also extracted the distance in KM (using Haversine Formula) of a suburb from the city center. All this information is stored in a data frame. The data frame looks like "
   ]
  },
  {
   "cell_type": "code",
   "execution_count": 165,
   "metadata": {},
   "outputs": [
    {
     "name": "stderr",
     "output_type": "stream",
     "text": [
      "C:\\Users\\Nabeel Khan\\Anaconda3\\lib\\site-packages\\ipykernel_launcher.py:19: DeprecationWarning: `timeout=None` has been passed to a geocoder call. Using default geocoder timeout. In geopy 2.0 the behavior will be different: None will mean \"no timeout\" instead of \"default geocoder timeout\". Pass geopy.geocoders.base.DEFAULT_SENTINEL instead of None to get rid of this warning.\n"
     ]
    },
    {
     "data": {
      "text/html": [
       "<div>\n",
       "<style>\n",
       "    .dataframe thead tr:only-child th {\n",
       "        text-align: right;\n",
       "    }\n",
       "\n",
       "    .dataframe thead th {\n",
       "        text-align: left;\n",
       "    }\n",
       "\n",
       "    .dataframe tbody tr th {\n",
       "        vertical-align: top;\n",
       "    }\n",
       "</style>\n",
       "<table border=\"1\" class=\"dataframe\">\n",
       "  <thead>\n",
       "    <tr style=\"text-align: right;\">\n",
       "      <th></th>\n",
       "      <th>SuburbName</th>\n",
       "      <th>PostalCode</th>\n",
       "      <th>Latitude</th>\n",
       "      <th>Longitude</th>\n",
       "    </tr>\n",
       "  </thead>\n",
       "  <tbody>\n",
       "    <tr>\n",
       "      <th>0</th>\n",
       "      <td>Bellfield</td>\n",
       "      <td>3081</td>\n",
       "      <td>-37.753107</td>\n",
       "      <td>145.038478</td>\n",
       "    </tr>\n",
       "    <tr>\n",
       "      <th>1</th>\n",
       "      <td>Briar Hill</td>\n",
       "      <td>3088</td>\n",
       "      <td>-37.706370</td>\n",
       "      <td>145.121648</td>\n",
       "    </tr>\n",
       "    <tr>\n",
       "      <th>2</th>\n",
       "      <td>Bundoora</td>\n",
       "      <td>3083</td>\n",
       "      <td>-37.697306</td>\n",
       "      <td>145.066254</td>\n",
       "    </tr>\n",
       "    <tr>\n",
       "      <th>3</th>\n",
       "      <td>Eaglemont</td>\n",
       "      <td>3084</td>\n",
       "      <td>-37.765144</td>\n",
       "      <td>145.063331</td>\n",
       "    </tr>\n",
       "    <tr>\n",
       "      <th>4</th>\n",
       "      <td>Eltham</td>\n",
       "      <td>3095</td>\n",
       "      <td>-37.717870</td>\n",
       "      <td>145.156690</td>\n",
       "    </tr>\n",
       "  </tbody>\n",
       "</table>\n",
       "</div>"
      ],
      "text/plain": [
       "   SuburbName PostalCode   Latitude   Longitude\n",
       "0   Bellfield       3081 -37.753107  145.038478\n",
       "1  Briar Hill       3088 -37.706370  145.121648\n",
       "2    Bundoora       3083 -37.697306  145.066254\n",
       "3   Eaglemont       3084 -37.765144  145.063331\n",
       "4      Eltham       3095 -37.717870  145.156690"
      ]
     },
     "execution_count": 165,
     "metadata": {},
     "output_type": "execute_result"
    }
   ],
   "source": [
    "from  geopy.geocoders import Nominatim\n",
    "import numpy as np \n",
    "import math \n",
    "\n",
    "suburbMelbourneDf[\"Latitude\"] =  np.nan\n",
    "suburbMelbourneDf[\"Longitude\"] =  np.nan\n",
    "geolocator = Nominatim(user_agent=\"explorer\")\n",
    "\n",
    "i=0\n",
    "for value in suburbMelbourneDf[\"SuburbName\"]:\n",
    "    suburbName = value\n",
    "    if i >10:\n",
    "        break\n",
    "    c=0\n",
    "    city =\"%s,Victoria\"%suburbName\n",
    "    country =\"Australia\"\n",
    "    try:\n",
    "        if(math.isnan(suburbMelbourneDf.iloc[i, suburbMelbourneDf.columns.get_loc('Latitude')])):\n",
    "            loc = geolocator.geocode(city+','+ country, timeout=None)\n",
    "            #print(\"Suburb %s , Latitude =%0.2f , Longitude = %0.2f\"%(suburbName,loc.latitude,loc.longitude))\n",
    "  \n",
    "            suburbMelbourneDf.iloc[i, suburbMelbourneDf.columns.get_loc('Latitude')]=loc.latitude\n",
    "            suburbMelbourneDf.iloc[i, suburbMelbourneDf.columns.get_loc('Longitude')]=loc.longitude\n",
    "        i+=1\n",
    "    except Exception as e:\n",
    "        print(str(e))\n",
    "        break\n",
    "\n",
    "suburbMelbourneDf.head()"
   ]
  },
  {
   "cell_type": "markdown",
   "metadata": {},
   "source": [
    "<h3> Foursquare API</H3>"
   ]
  },
  {
   "cell_type": "markdown",
   "metadata": {},
   "source": [
    "We will use Foursquare API to extract the information about venues. We will extract the following information (features) using Foursquare API"
   ]
  },
  {
   "cell_type": "markdown",
   "metadata": {},
   "source": [
    "<H4> Feature # 1 - School Information </H4>\n",
    "\n",
    "We will get the near by schools information for a neighborhood with in 3 KM"
   ]
  },
  {
   "cell_type": "code",
   "execution_count": 8,
   "metadata": {
    "collapsed": true
   },
   "outputs": [],
   "source": [
    "# Dummy Data at the moment\n",
    "radius = 3000\n",
    "CLIENT_ID=\"\"\n",
    "CLIENT_SECRET=\"\"\n",
    "Latitude=\"\"\n",
    "Longitude=\"\"\n",
    "VERSION=\"\"\n",
    "LIMIT=100\n"
   ]
  },
  {
   "cell_type": "code",
   "execution_count": 9,
   "metadata": {
    "collapsed": true
   },
   "outputs": [],
   "source": [
    "import requests\n",
    "search_query = 'School'\n",
    "url = 'https://api.foursquare.com/v2/venues/search?client_id={}&client_secret={}&ll={},{}&v={}&query={}&radius={}&limit={}'.format(CLIENT_ID, CLIENT_SECRET, Latitude, Longitude, VERSION, search_query, radius, LIMIT)\n",
    "results = requests.get(url).json()"
   ]
  },
  {
   "cell_type": "markdown",
   "metadata": {},
   "source": [
    "<H4> Feature # 2 - Park Information </H4>\n",
    "\n",
    "We will get the near by parks information for a neighborhood with in 3 KM"
   ]
  },
  {
   "cell_type": "code",
   "execution_count": 10,
   "metadata": {
    "collapsed": true
   },
   "outputs": [],
   "source": [
    "search_query = 'Park'\n",
    "url = 'https://api.foursquare.com/v2/venues/search?client_id={}&client_secret={}&ll={},{}&v={}&query={}&radius={}&limit={}'.format(CLIENT_ID, CLIENT_SECRET, Latitude, Longitude, VERSION, search_query, radius, LIMIT)\n",
    "results = requests.get(url).json()"
   ]
  },
  {
   "cell_type": "markdown",
   "metadata": {},
   "source": [
    "<H4> Feature # 3 - Train Station </H4>\n",
    "\n",
    "We will get the near by train stations information for a neighborhood with in 3 KM"
   ]
  },
  {
   "cell_type": "code",
   "execution_count": 11,
   "metadata": {
    "collapsed": true
   },
   "outputs": [],
   "source": [
    "search_query = 'Train Stations'\n",
    "url = 'https://api.foursquare.com/v2/venues/search?client_id={}&client_secret={}&ll={},{}&v={}&query={}&radius={}&limit={}'.format(CLIENT_ID, CLIENT_SECRET, Latitude, Longitude, VERSION, search_query, radius, LIMIT)\n",
    "results = requests.get(url).json()"
   ]
  },
  {
   "cell_type": "markdown",
   "metadata": {},
   "source": [
    "<H4> Feature # 4 - Resturants </H4>\n",
    "\n",
    "We will get the near by resturants information for a neighborhood with in 3 KM"
   ]
  },
  {
   "cell_type": "code",
   "execution_count": 12,
   "metadata": {
    "collapsed": true
   },
   "outputs": [],
   "source": [
    "search_query = 'Resturants'\n",
    "url = 'https://api.foursquare.com/v2/venues/search?client_id={}&client_secret={}&ll={},{}&v={}&query={}&radius={}&limit={}'.format(CLIENT_ID, CLIENT_SECRET, Latitude, Longitude, VERSION, search_query, radius, LIMIT)\n",
    "results = requests.get(url).json()"
   ]
  },
  {
   "cell_type": "markdown",
   "metadata": {},
   "source": [
    "<H4> Feature # 5 - Other Venues </H4>\n",
    "We want to have at-least 50 venues aroud a suburb. That indicates that suburb is well developed and hs lot of shops"
   ]
  },
  {
   "cell_type": "code",
   "execution_count": 15,
   "metadata": {
    "collapsed": true
   },
   "outputs": [],
   "source": [
    "url = 'https://api.foursquare.com/v2/venues/search?client_id={}&client_secret={}&ll={},{}&v={}&radius={}&limit={}'.format(CLIENT_ID, CLIENT_SECRET, Latitude, Longitude, VERSION, radius, LIMIT)\n",
    "results = requests.get(url).json()\n",
    "\n",
    "# This should be over 30 otherwise we will not consider this suburb\n",
    "#total_number_of_venues = len(results['response']['venues']) \n"
   ]
  },
  {
   "cell_type": "markdown",
   "metadata": {},
   "source": [
    "We can use all above features to do analysis for our project"
   ]
  },
  {
   "cell_type": "code",
   "execution_count": null,
   "metadata": {
    "collapsed": true
   },
   "outputs": [],
   "source": []
  }
 ],
 "metadata": {
  "kernelspec": {
   "display_name": "Python 3",
   "language": "python",
   "name": "python3"
  },
  "language_info": {
   "codemirror_mode": {
    "name": "ipython",
    "version": 3
   },
   "file_extension": ".py",
   "mimetype": "text/x-python",
   "name": "python",
   "nbconvert_exporter": "python",
   "pygments_lexer": "ipython3",
   "version": "3.6.3"
  }
 },
 "nbformat": 4,
 "nbformat_minor": 2
}
