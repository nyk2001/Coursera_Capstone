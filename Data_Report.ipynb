{
 "cells": [
  {
   "cell_type": "markdown",
   "metadata": {},
   "source": [
    "<H1> Data Preparation </H1>"
   ]
  },
  {
   "cell_type": "markdown",
   "metadata": {},
   "source": [
    "<h2>Crime Rates</h2>\n",
    "\n",
    "We want to find a city with less crime rate. So, we need the crime rate statistics for suburbs of Melbourne city.\n",
    "\n",
    "We can obtain crime rate statistics for Melbourne up to 2016 from the following link:\n",
    "\n",
    "http://www.jonvy.co.nz/index.php?route=product/product&path=69_110&product_id=6131&sort=p.price&order=ASC\n",
    "\n",
    "I have downloaded the excel file and kept the relevant data for my work i.e., offense in each suburb for the last 5 years (2011-2016). Now, we can get the stats from the file as follows \n"
   ]
  },
  {
   "cell_type": "code",
   "execution_count": 137,
   "metadata": {},
   "outputs": [
    {
     "data": {
      "text/html": [
       "<div>\n",
       "<style>\n",
       "    .dataframe thead tr:only-child th {\n",
       "        text-align: right;\n",
       "    }\n",
       "\n",
       "    .dataframe thead th {\n",
       "        text-align: left;\n",
       "    }\n",
       "\n",
       "    .dataframe tbody tr th {\n",
       "        vertical-align: top;\n",
       "    }\n",
       "</style>\n",
       "<table border=\"1\" class=\"dataframe\">\n",
       "  <thead>\n",
       "    <tr style=\"text-align: right;\">\n",
       "      <th></th>\n",
       "      <th>Postcode</th>\n",
       "      <th>Apr 2011 - Mar 2012</th>\n",
       "      <th>Apr 2012 - Mar 2013</th>\n",
       "      <th>Apr 2013 - Mar 2014</th>\n",
       "      <th>Apr 2014 - Mar 2015</th>\n",
       "      <th>Apr 2015 - Mar 2016</th>\n",
       "    </tr>\n",
       "  </thead>\n",
       "  <tbody>\n",
       "    <tr>\n",
       "      <th>0</th>\n",
       "      <td>3000</td>\n",
       "      <td>21467</td>\n",
       "      <td>24164</td>\n",
       "      <td>22369</td>\n",
       "      <td>22666</td>\n",
       "      <td>22337</td>\n",
       "    </tr>\n",
       "    <tr>\n",
       "      <th>1</th>\n",
       "      <td>3002</td>\n",
       "      <td>1022</td>\n",
       "      <td>756</td>\n",
       "      <td>1029</td>\n",
       "      <td>719</td>\n",
       "      <td>852</td>\n",
       "    </tr>\n",
       "    <tr>\n",
       "      <th>2</th>\n",
       "      <td>3003</td>\n",
       "      <td>436</td>\n",
       "      <td>659</td>\n",
       "      <td>557</td>\n",
       "      <td>487</td>\n",
       "      <td>610</td>\n",
       "    </tr>\n",
       "    <tr>\n",
       "      <th>3</th>\n",
       "      <td>3006</td>\n",
       "      <td>2070</td>\n",
       "      <td>2100</td>\n",
       "      <td>2262</td>\n",
       "      <td>2437</td>\n",
       "      <td>3114</td>\n",
       "    </tr>\n",
       "    <tr>\n",
       "      <th>4</th>\n",
       "      <td>3008</td>\n",
       "      <td>850</td>\n",
       "      <td>942</td>\n",
       "      <td>931</td>\n",
       "      <td>1575</td>\n",
       "      <td>1450</td>\n",
       "    </tr>\n",
       "  </tbody>\n",
       "</table>\n",
       "</div>"
      ],
      "text/plain": [
       "   Postcode  Apr 2011 - Mar 2012  Apr 2012 - Mar 2013  Apr 2013 - Mar 2014  \\\n",
       "0      3000                21467                24164                22369   \n",
       "1      3002                 1022                  756                 1029   \n",
       "2      3003                  436                  659                  557   \n",
       "3      3006                 2070                 2100                 2262   \n",
       "4      3008                  850                  942                  931   \n",
       "\n",
       "   Apr 2014 - Mar 2015  Apr 2015 - Mar 2016  \n",
       "0                22666                22337  \n",
       "1                  719                  852  \n",
       "2                  487                  610  \n",
       "3                 2437                 3114  \n",
       "4                 1575                 1450  "
      ]
     },
     "execution_count": 137,
     "metadata": {},
     "output_type": "execute_result"
    }
   ],
   "source": [
    "#Stats data will like that\n",
    "import pandas as pd\n",
    "MelbourneCrimeStatsDf= pd.read_excel(\"Data\\CrimeStatsMelbourne.xlsx\")\n",
    "MelbourneCrimeStatsDf.head()"
   ]
  },
  {
   "cell_type": "markdown",
   "metadata": {},
   "source": [
    "Now, we will compute the mean crime of suburbs. This will help us to start with crime free suburbs."
   ]
  },
  {
   "cell_type": "code",
   "execution_count": 139,
   "metadata": {},
   "outputs": [
    {
     "data": {
      "text/html": [
       "<div>\n",
       "<style>\n",
       "    .dataframe thead tr:only-child th {\n",
       "        text-align: right;\n",
       "    }\n",
       "\n",
       "    .dataframe thead th {\n",
       "        text-align: left;\n",
       "    }\n",
       "\n",
       "    .dataframe tbody tr th {\n",
       "        vertical-align: top;\n",
       "    }\n",
       "</style>\n",
       "<table border=\"1\" class=\"dataframe\">\n",
       "  <thead>\n",
       "    <tr style=\"text-align: right;\">\n",
       "      <th></th>\n",
       "      <th>PostalCode</th>\n",
       "      <th>2012</th>\n",
       "      <th>2013</th>\n",
       "      <th>2014</th>\n",
       "      <th>2015</th>\n",
       "      <th>2016</th>\n",
       "      <th>MeanCrimes</th>\n",
       "    </tr>\n",
       "  </thead>\n",
       "  <tbody>\n",
       "    <tr>\n",
       "      <th>0</th>\n",
       "      <td>3852</td>\n",
       "      <td>0</td>\n",
       "      <td>0</td>\n",
       "      <td>0</td>\n",
       "      <td>1</td>\n",
       "      <td>0</td>\n",
       "      <td>0.2</td>\n",
       "    </tr>\n",
       "    <tr>\n",
       "      <th>1</th>\n",
       "      <td>3708</td>\n",
       "      <td>0</td>\n",
       "      <td>1</td>\n",
       "      <td>0</td>\n",
       "      <td>1</td>\n",
       "      <td>1</td>\n",
       "      <td>0.6</td>\n",
       "    </tr>\n",
       "    <tr>\n",
       "      <th>2</th>\n",
       "      <td>3576</td>\n",
       "      <td>1</td>\n",
       "      <td>0</td>\n",
       "      <td>0</td>\n",
       "      <td>1</td>\n",
       "      <td>1</td>\n",
       "      <td>0.6</td>\n",
       "    </tr>\n",
       "    <tr>\n",
       "      <th>3</th>\n",
       "      <td>3647</td>\n",
       "      <td>0</td>\n",
       "      <td>0</td>\n",
       "      <td>2</td>\n",
       "      <td>2</td>\n",
       "      <td>0</td>\n",
       "      <td>0.8</td>\n",
       "    </tr>\n",
       "    <tr>\n",
       "      <th>4</th>\n",
       "      <td>3724</td>\n",
       "      <td>1</td>\n",
       "      <td>0</td>\n",
       "      <td>0</td>\n",
       "      <td>0</td>\n",
       "      <td>4</td>\n",
       "      <td>1.0</td>\n",
       "    </tr>\n",
       "  </tbody>\n",
       "</table>\n",
       "</div>"
      ],
      "text/plain": [
       "   PostalCode  2012  2013  2014  2015  2016  MeanCrimes\n",
       "0        3852     0     0     0     1     0         0.2\n",
       "1        3708     0     1     0     1     1         0.6\n",
       "2        3576     1     0     0     1     1         0.6\n",
       "3        3647     0     0     2     2     0         0.8\n",
       "4        3724     1     0     0     0     4         1.0"
      ]
     },
     "execution_count": 139,
     "metadata": {},
     "output_type": "execute_result"
    }
   ],
   "source": [
    "# Taking mean to find the safe suburbs\n",
    "# Table will look like this\n",
    "MelbourneCrimeStatsDf.columns=['PostalCode',\"2012\",\"2013\",\"2014\",\"2015\",\"2016\"]\n",
    "MelbourneCrimeStatsDf['MeanCrimes'] = MelbourneCrimeStatsDf.iloc[:,1:6].mean(axis=1)\n",
    "MelbourneCrimeStatsDf.sort_values(by='MeanCrimes', ascending=True, inplace=True)\n",
    "MelbourneCrimeStatsDf.reset_index(drop= True, inplace= True)\n",
    "MelbourneCrimeStatsDf.head()"
   ]
  },
  {
   "cell_type": "markdown",
   "metadata": {},
   "source": [
    "<H1> Scrapping Melbourne Suburb Table from Wikipedia </h2>"
   ]
  },
  {
   "cell_type": "markdown",
   "metadata": {},
   "source": [
    "We want to know the suburb names of Melbourne. So, I scrapped the following Wiki Page to to extract all suburbs information.\n",
    "\n",
    "\"https://en.wikipedia.org/wiki/List_of_Melbourne_suburbs\n",
    "\n",
    "The web page looks like this\n",
    "\n",
    "<img src=\"Wiki.png\" alt=\"Suburbs\">\n",
    "\n",
    "I have used <b> requests and Beautifulsoup4</b> library for webpage scrapping to extract suburb names"
   ]
  },
  {
   "cell_type": "code",
   "execution_count": 140,
   "metadata": {
    "collapsed": true
   },
   "outputs": [],
   "source": [
    "# Extracting information from html web page (table)\n",
    "import requests\n",
    "from bs4 import BeautifulSoup\n",
    "\n",
    "webPageLink= \"https://en.wikipedia.org/wiki/List_of_Melbourne_suburbs\"\n",
    "responseObject = requests.get(webPageLink).text\n",
    "soup = BeautifulSoup(responseObject, 'lxml')\n",
    "suburbTable =soup.find('table',{'class':'wikitable sortable'})"
   ]
  },
  {
   "cell_type": "markdown",
   "metadata": {},
   "source": [
    "I then created a data frame to store the suburb names and the corresponding postal codes. The dataframe will look like this"
   ]
  },
  {
   "cell_type": "markdown",
   "metadata": {},
   "source": [
    "\n",
    "<img src=\"Df.png\" alt=\"DataFrame\">"
   ]
  },
  {
   "cell_type": "markdown",
   "metadata": {
    "collapsed": true
   },
   "source": [
    "<h3> Geolocator to extract longitudes and latitudes for all suburbs </H3>"
   ]
  },
  {
   "cell_type": "markdown",
   "metadata": {},
   "source": [
    "I used the Geolocator API to extract the latitude and longitudes for all suburbs. I also extracted the distance in KM (using Haversine Formula) of a suburb from the city center. All this information is stored in a data frame. The data frame looks like "
   ]
  },
  {
   "cell_type": "markdown",
   "metadata": {},
   "source": [
    "\n",
    "<img src=\"Df1.png\" alt=\"DataFrame\">"
   ]
  },
  {
   "cell_type": "markdown",
   "metadata": {},
   "source": [
    "<h3> Foursquare API</H3>"
   ]
  },
  {
   "cell_type": "markdown",
   "metadata": {},
   "source": [
    "We will use Foursquare API to extract the venue information. We can get all parks information with in 3 KM radius. Sample output is shown "
   ]
  },
  {
   "cell_type": "markdown",
   "metadata": {},
   "source": [
    "\n",
    "<img src=\"Data\\Parks.png\" alt=\"DataFrame\">"
   ]
  },
  {
   "cell_type": "markdown",
   "metadata": {},
   "source": [
    "Similarily, we can get the near by schools information as follow "
   ]
  },
  {
   "cell_type": "markdown",
   "metadata": {},
   "source": [
    "\n",
    "<img src=\"Data\\Schools.png\" alt=\"DataFrame\">"
   ]
  },
  {
   "cell_type": "markdown",
   "metadata": {},
   "source": [
    "<H2> Now, we have all the data ready to be used for analysis </H2>"
   ]
  }
 ],
 "metadata": {
  "kernelspec": {
   "display_name": "Python 3",
   "language": "python",
   "name": "python3"
  },
  "language_info": {
   "codemirror_mode": {
    "name": "ipython",
    "version": 3
   },
   "file_extension": ".py",
   "mimetype": "text/x-python",
   "name": "python",
   "nbconvert_exporter": "python",
   "pygments_lexer": "ipython3",
   "version": "3.6.3"
  }
 },
 "nbformat": 4,
 "nbformat_minor": 2
}
